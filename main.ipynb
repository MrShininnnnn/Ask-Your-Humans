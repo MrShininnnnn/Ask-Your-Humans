{
 "cells": [
  {
   "cell_type": "markdown",
   "id": "33cfb311-121e-44e4-9c73-072fa4f11195",
   "metadata": {},
   "source": [
    "# CS7643 - Final Project"
   ]
  },
  {
   "cell_type": "code",
   "execution_count": 16,
   "id": "60098e1b-b21f-4600-8c58-24f1246b09b2",
   "metadata": {},
   "outputs": [],
   "source": [
    "# built-in\n",
    "# public\n",
    "import numpy as np\n",
    "import torch\n",
    "from torch.utils.tensorboard import SummaryWriter\n",
    "from torch.utils.data import DataLoader\n",
    "from torch.utils.data.sampler import SubsetRandomSampler\n",
    "# private\n",
    "from config import Config, InstrConfig\n",
    "from src.utils import dataloader, helpers\n",
    "from src.models.instructions_generator_model import InstructionsGeneratorModel\n",
    "from src.trainer import instructions_generator_trainer\n",
    "from src.models.imitation_learning_model import ImitationLearningModel\n",
    "from src.trainer import imitation_learning_trainer\n",
    "\n",
    "%load_ext autoreload \n",
    "%autoreload 2\n",
    "%config Completer.use_jedi = False"
   ]
  },
  {
   "cell_type": "markdown",
   "id": "cc232721-5be3-4bbf-9540-61da89569cf1",
   "metadata": {},
   "source": [
    "# Initialization"
   ]
  },
  {
   "cell_type": "code",
   "execution_count": 17,
   "id": "745d277d-0f18-4e7c-b319-06cd98f8ecc2",
   "metadata": {},
   "outputs": [],
   "source": [
    "instr_config = InstrConfig()\n",
    "helpers.set_seed(instr_config.random_seed)"
   ]
  },
  {
   "cell_type": "markdown",
   "id": "7931b4b8-e729-4909-b8db-f8de736ed88d",
   "metadata": {},
   "source": [
    "# Data"
   ]
  },
  {
   "cell_type": "markdown",
   "id": "757fefab-e97f-48f3-b2cc-b1505455244b",
   "metadata": {},
   "source": [
    "## Load Data"
   ]
  },
  {
   "cell_type": "code",
   "execution_count": 18,
   "id": "101e130e-ea81-4527-9770-021eea88c405",
   "metadata": {},
   "outputs": [],
   "source": [
    "# train size 202831\n",
    "# unique number of instructions 35921\n",
    "data = dataloader.load_pkl(workdir=instr_config.DATA_PATH)"
   ]
  },
  {
   "cell_type": "code",
   "execution_count": 19,
   "id": "4ed3357b-a811-4d4d-89c3-f4169b145df6",
   "metadata": {},
   "outputs": [],
   "source": [
    "train_states, train_inventories, train_actions, train_goals, train_instructions, all_instructions = data"
   ]
  },
  {
   "cell_type": "code",
   "execution_count": 20,
   "id": "6c7e72ad-2df3-4d7e-9fa9-7dc66b4aa7f6",
   "metadata": {},
   "outputs": [
    {
     "name": "stdout",
     "output_type": "stream",
     "text": [
      "34\n"
     ]
    }
   ],
   "source": [
    "# remove invalid sample where train instruction is None\n",
    "invalid_index = set([i for i, _ in enumerate(train_instructions) if not _])\n",
    "print(len(invalid_index))"
   ]
  },
  {
   "cell_type": "code",
   "execution_count": 21,
   "id": "94a5c2d0-e887-46a6-9274-a60b0d795ca5",
   "metadata": {},
   "outputs": [
    {
     "name": "stdout",
     "output_type": "stream",
     "text": [
      "202797\n"
     ]
    }
   ],
   "source": [
    "valid_index = [i for i, _ in enumerate(train_instructions) if _]\n",
    "print(len(valid_index))\n",
    "train_states = np.array(train_states)[valid_index].tolist()\n",
    "train_inventories = np.array(train_inventories)[valid_index].tolist()\n",
    "train_actions = np.array(train_actions)[valid_index].tolist()\n",
    "train_instructions = np.array(train_instructions)[valid_index].tolist()"
   ]
  },
  {
   "cell_type": "markdown",
   "id": "9bb91a46-3798-4c01-8b62-f670147755d7",
   "metadata": {},
   "source": [
    "## Build Vocab"
   ]
  },
  {
   "cell_type": "code",
   "execution_count": 22,
   "id": "ab423b2e-ae6c-4a8c-b0a4-95599f99aae9",
   "metadata": {},
   "outputs": [
    {
     "name": "stdout",
     "output_type": "stream",
     "text": [
      "Total vocabulary size: 212\n"
     ]
    }
   ],
   "source": [
    "vocab, vocab_weights = dataloader.generate_vocab(\n",
    "    all_instructions, instr_config.device, workdir=instr_config.DATA_PATH)\n",
    "\n",
    "# vocab, vocab_weights = dataloader.generate_vocab(\n",
    "#     all_instructions, instr_config.device, workdir=instr_config.DATA_PATH, cache='/usr/local/google/home/billzhou/Documents/glove')"
   ]
  },
  {
   "cell_type": "markdown",
   "id": "e0d3af4b-4cec-4695-90d9-4e5af2a9916b",
   "metadata": {},
   "source": [
    "## Generate Dataset"
   ]
  },
  {
   "cell_type": "code",
   "execution_count": 23,
   "id": "db7df324-3ba6-4e7d-a29f-d41bb960d232",
   "metadata": {},
   "outputs": [
    {
     "name": "stdout",
     "output_type": "stream",
     "text": [
      "embedding loaded\n",
      "one hot loaded\n",
      "actions loaded\n",
      "goals loaded\n",
      "done loading dataset\n"
     ]
    }
   ],
   "source": [
    "dataset = dataloader.CraftingDataset(\n",
    "  instr_config.embeded_dim,\n",
    "  train_states,\n",
    "  train_inventories,\n",
    "  train_actions,\n",
    "  train_goals,\n",
    "  train_instructions,\n",
    "  vocab)\n",
    "\n",
    "# dataset = dataloader.CraftingDataset(\n",
    "#   instr_config.embeded_dim,\n",
    "#   train_states,\n",
    "#   train_inventories,\n",
    "#   train_actions,\n",
    "#   train_goals,\n",
    "#   train_instructions,\n",
    "#   vocab,\n",
    "#   cache='/usr/local/google/home/billzhou/Documents/glove')"
   ]
  },
  {
   "cell_type": "code",
   "execution_count": 9,
   "id": "b8a129d9-dea3-4ef0-a8f9-910141374914",
   "metadata": {},
   "outputs": [
    {
     "data": {
      "text/plain": [
       "3"
      ]
     },
     "execution_count": 9,
     "metadata": {},
     "output_type": "execute_result"
    }
   ],
   "source": [
    "min([len(d[-1]) for d in dataset])"
   ]
  },
  {
   "cell_type": "code",
   "execution_count": 10,
   "id": "9f51a362-1954-469d-91d8-60fdd77808bd",
   "metadata": {},
   "outputs": [],
   "source": [
    "instr_config.dataset_size = len(dataset)"
   ]
  },
  {
   "cell_type": "markdown",
   "id": "e05ab357-1572-4751-98b0-dd5ce83561e0",
   "metadata": {},
   "source": [
    "## Split Dataset"
   ]
  },
  {
   "cell_type": "code",
   "execution_count": 24,
   "id": "968db423-65aa-4254-94c5-c14546b56e6d",
   "metadata": {},
   "outputs": [
    {
     "ename": "AttributeError",
     "evalue": "'InstrConfig' object has no attribute 'dataset_size'",
     "output_type": "error",
     "traceback": [
      "\u001b[0;31m---------------------------------------------------------------------------\u001b[0m",
      "\u001b[0;31mAttributeError\u001b[0m                            Traceback (most recent call last)",
      "\u001b[0;32m<ipython-input-24-312fa6475833>\u001b[0m in \u001b[0;36m<module>\u001b[0;34m\u001b[0m\n\u001b[0;32m----> 1\u001b[0;31m \u001b[0mindices\u001b[0m \u001b[0;34m=\u001b[0m \u001b[0mlist\u001b[0m\u001b[0;34m(\u001b[0m\u001b[0mrange\u001b[0m\u001b[0;34m(\u001b[0m\u001b[0minstr_config\u001b[0m\u001b[0;34m.\u001b[0m\u001b[0mdataset_size\u001b[0m\u001b[0;34m)\u001b[0m\u001b[0;34m)\u001b[0m\u001b[0;34m\u001b[0m\u001b[0;34m\u001b[0m\u001b[0m\n\u001b[0m\u001b[1;32m      2\u001b[0m \u001b[0msplit\u001b[0m \u001b[0;34m=\u001b[0m \u001b[0mint\u001b[0m\u001b[0;34m(\u001b[0m\u001b[0mnp\u001b[0m\u001b[0;34m.\u001b[0m\u001b[0mfloor\u001b[0m\u001b[0;34m(\u001b[0m\u001b[0minstr_config\u001b[0m\u001b[0;34m.\u001b[0m\u001b[0mvalidation_split\u001b[0m \u001b[0;34m*\u001b[0m \u001b[0minstr_config\u001b[0m\u001b[0;34m.\u001b[0m\u001b[0mdataset_size\u001b[0m\u001b[0;34m)\u001b[0m\u001b[0;34m)\u001b[0m\u001b[0;34m\u001b[0m\u001b[0;34m\u001b[0m\u001b[0m\n\u001b[1;32m      3\u001b[0m \u001b[0mnp\u001b[0m\u001b[0;34m.\u001b[0m\u001b[0mrandom\u001b[0m\u001b[0;34m.\u001b[0m\u001b[0mshuffle\u001b[0m\u001b[0;34m(\u001b[0m\u001b[0mindices\u001b[0m\u001b[0;34m)\u001b[0m\u001b[0;34m\u001b[0m\u001b[0;34m\u001b[0m\u001b[0m\n\u001b[1;32m      4\u001b[0m \u001b[0mtrain_indices\u001b[0m\u001b[0;34m,\u001b[0m \u001b[0mval_indices\u001b[0m \u001b[0;34m=\u001b[0m \u001b[0mindices\u001b[0m\u001b[0;34m[\u001b[0m\u001b[0msplit\u001b[0m\u001b[0;34m:\u001b[0m\u001b[0;34m]\u001b[0m\u001b[0;34m,\u001b[0m \u001b[0mindices\u001b[0m\u001b[0;34m[\u001b[0m\u001b[0;34m:\u001b[0m\u001b[0msplit\u001b[0m\u001b[0;34m]\u001b[0m\u001b[0;34m\u001b[0m\u001b[0;34m\u001b[0m\u001b[0m\n\u001b[1;32m      5\u001b[0m \u001b[0;34m\u001b[0m\u001b[0m\n",
      "\u001b[0;31mAttributeError\u001b[0m: 'InstrConfig' object has no attribute 'dataset_size'"
     ]
    }
   ],
   "source": [
    "indices = list(range(instr_config.dataset_size))\n",
    "split = int(np.floor(instr_config.validation_split * instr_config.dataset_size))\n",
    "np.random.shuffle(indices)\n",
    "train_indices, val_indices = indices[split:], indices[:split]\n",
    "\n",
    "train_sampler = SubsetRandomSampler(train_indices)\n",
    "valid_sampler = SubsetRandomSampler(val_indices)"
   ]
  },
  {
   "cell_type": "markdown",
   "id": "9db73dd1-9524-4742-a61a-345a0cb997d8",
   "metadata": {},
   "source": [
    "## Initialize Data Loader"
   ]
  },
  {
   "cell_type": "code",
   "execution_count": null,
   "id": "eaf931ff-4f27-4531-bcc6-34b92d9e9bbf",
   "metadata": {},
   "outputs": [],
   "source": [
    "train_data_loader = DataLoader(\n",
    "  dataset,\n",
    "  batch_size=instr_config.batch_size,\n",
    "  num_workers=0,\n",
    "  pin_memory=True,\n",
    "  sampler=train_sampler,\n",
    "  collate_fn=dataloader.collate_fn)\n",
    "\n",
    "validation_data_loader = DataLoader(\n",
    "  dataset,\n",
    "  batch_size=instr_config.batch_size,\n",
    "  num_workers=0,\n",
    "  pin_memory=True,\n",
    "  sampler=valid_sampler,\n",
    "  collate_fn=dataloader.collate_fn)"
   ]
  },
  {
   "cell_type": "markdown",
   "id": "28df46c9-4da3-4b42-b869-d7943458e5a3",
   "metadata": {},
   "source": [
    "# IL + LSTM Training"
   ]
  },
  {
   "cell_type": "markdown",
   "id": "0521b1b6-2357-4c7f-900f-692be4c0353a",
   "metadata": {},
   "source": [
    "## Instructions Generator (LSTM)"
   ]
  },
  {
   "cell_type": "markdown",
   "id": "28ca36b8-d503-4424-ad6e-e98b8a3be5ff",
   "metadata": {},
   "source": [
    "### Setup Instructions Generator Training"
   ]
  },
  {
   "cell_type": "code",
   "execution_count": 14,
   "id": "d5c428d5-5bc8-442a-af5e-d76a3a0a12a2",
   "metadata": {},
   "outputs": [],
   "source": [
    "model = InstructionsGeneratorModel(\n",
    "    instr_config.device\n",
    "    , vocab\n",
    "    , instr_config.embeded_dim\n",
    "    , vocab_weights\n",
    ").to(instr_config.device)\n",
    "train = instructions_generator_trainer.train\n",
    "validate = instructions_generator_trainer.validate"
   ]
  },
  {
   "cell_type": "code",
   "execution_count": 15,
   "id": "d8a9ff60-9006-4a9f-be2c-dfc6dbb08f05",
   "metadata": {},
   "outputs": [],
   "source": [
    "# CE Loss\n",
    "criterion = torch.nn.CrossEntropyLoss()\n",
    "# Adam\n",
    "parameters = filter(lambda p: p.requires_grad, model.parameters())\n",
    "optimizer = torch.optim.Adam(parameters, lr=instr_config.learning_rate)\n",
    "# Log\n",
    "writer = SummaryWriter() if instr_config.summary_writer else None"
   ]
  },
  {
   "cell_type": "markdown",
   "id": "bc28801e-c3d3-47f3-9df5-1c9ef56f3da3",
   "metadata": {},
   "source": [
    "### GO"
   ]
  },
  {
   "cell_type": "code",
   "execution_count": 15,
   "id": "3b9058ab-899c-42d7-9fbf-878144753789",
   "metadata": {},
   "outputs": [
    {
     "name": "stderr",
     "output_type": "stream",
     "text": [
      "Epoch: 0, train loss: 2.605, train bleu: 0.589, train token acc: 0.720: 100%|██████████| 2535/2535 [04:53<00:00,  8.65it/s]\n"
     ]
    },
    {
     "name": "stdout",
     "output_type": "stream",
     "text": [
      "Overall Epoch: 0, train loss: 2.900, train bleu: 0.530, train token acc: 0.684\n"
     ]
    },
    {
     "name": "stderr",
     "output_type": "stream",
     "text": [
      "Epoch: 0, valid loss: 4.509, valid bleu: 0.426, valid token acc: 0.557: 100%|██████████| 634/634 [00:54<00:00, 11.58it/s]\n"
     ]
    },
    {
     "name": "stdout",
     "output_type": "stream",
     "text": [
      "Overall Epoch: 0, valid loss: 4.593, valid bleu: 0.477, valid token acc: 0.592\n",
      "Best Epoch: 0, best valid loss: 4.593\n",
      "Trained model saved at  /google/src/cloud/billzhou/ask_your_human/google3/experimental/users/billzhou/Ask-Your-Humans/res/cpts/instr_gen.pt\n"
     ]
    },
    {
     "name": "stderr",
     "output_type": "stream",
     "text": [
      "Epoch: 1, train loss: 2.450, train bleu: 0.590, train token acc: 0.728: 100%|██████████| 2535/2535 [04:55<00:00,  8.58it/s]\n"
     ]
    },
    {
     "name": "stdout",
     "output_type": "stream",
     "text": [
      "Overall Epoch: 1, train loss: 2.378, train bleu: 0.579, train token acc: 0.735\n"
     ]
    },
    {
     "name": "stderr",
     "output_type": "stream",
     "text": [
      "Epoch: 1, valid loss: 4.898, valid bleu: 0.476, valid token acc: 0.605: 100%|██████████| 634/634 [00:53<00:00, 11.76it/s]\n"
     ]
    },
    {
     "name": "stdout",
     "output_type": "stream",
     "text": [
      "Overall Epoch: 1, valid loss: 4.852, valid bleu: 0.487, valid token acc: 0.599\n"
     ]
    },
    {
     "name": "stderr",
     "output_type": "stream",
     "text": [
      "Epoch: 2, train loss: 2.286, train bleu: 0.549, train token acc: 0.720: 100%|██████████| 2535/2535 [04:55<00:00,  8.57it/s]\n"
     ]
    },
    {
     "name": "stdout",
     "output_type": "stream",
     "text": [
      "Overall Epoch: 2, train loss: 2.244, train bleu: 0.599, train token acc: 0.751\n"
     ]
    },
    {
     "name": "stderr",
     "output_type": "stream",
     "text": [
      "Epoch: 2, valid loss: 5.914, valid bleu: 0.448, valid token acc: 0.555: 100%|██████████| 634/634 [00:54<00:00, 11.58it/s]\n"
     ]
    },
    {
     "name": "stdout",
     "output_type": "stream",
     "text": [
      "Overall Epoch: 2, valid loss: 5.099, valid bleu: 0.491, valid token acc: 0.601\n"
     ]
    },
    {
     "name": "stderr",
     "output_type": "stream",
     "text": [
      "Epoch: 3, train loss: 2.045, train bleu: 0.641, train token acc: 0.786: 100%|██████████| 2535/2535 [05:00<00:00,  8.43it/s]\n"
     ]
    },
    {
     "name": "stdout",
     "output_type": "stream",
     "text": [
      "Overall Epoch: 3, train loss: 2.172, train bleu: 0.610, train token acc: 0.759\n"
     ]
    },
    {
     "name": "stderr",
     "output_type": "stream",
     "text": [
      "Epoch: 3, valid loss: 5.674, valid bleu: 0.437, valid token acc: 0.538: 100%|██████████| 634/634 [00:54<00:00, 11.63it/s]\n"
     ]
    },
    {
     "name": "stdout",
     "output_type": "stream",
     "text": [
      "Overall Epoch: 3, valid loss: 5.289, valid bleu: 0.489, valid token acc: 0.598\n"
     ]
    },
    {
     "name": "stderr",
     "output_type": "stream",
     "text": [
      "Epoch: 4, train loss: 2.065, train bleu: 0.635, train token acc: 0.777: 100%|██████████| 2535/2535 [04:58<00:00,  8.50it/s]\n"
     ]
    },
    {
     "name": "stdout",
     "output_type": "stream",
     "text": [
      "Overall Epoch: 4, train loss: 2.128, train bleu: 0.616, train token acc: 0.764\n"
     ]
    },
    {
     "name": "stderr",
     "output_type": "stream",
     "text": [
      "Epoch: 4, valid loss: 4.621, valid bleu: 0.412, valid token acc: 0.588: 100%|██████████| 634/634 [00:53<00:00, 11.93it/s]"
     ]
    },
    {
     "name": "stdout",
     "output_type": "stream",
     "text": [
      "Overall Epoch: 4, valid loss: 5.338, valid bleu: 0.491, valid token acc: 0.603\n"
     ]
    },
    {
     "name": "stderr",
     "output_type": "stream",
     "text": [
      "\n"
     ]
    }
   ],
   "source": [
    "best_valid_loss = float('inf')\n",
    "valid_epoch, best_epoch = 0, None\n",
    "\n",
    "for epoch in range(instr_config.epochs):\n",
    "    # train\n",
    "    loss, bleu, tk_acc = train(\n",
    "        instr_config.device,\n",
    "        epoch,\n",
    "        train_data_loader,\n",
    "        model,\n",
    "        optimizer,\n",
    "        criterion,\n",
    "        parameters,\n",
    "        vocab,\n",
    "        summary_writer=writer)\n",
    "    print('Overall Epoch: %d, train loss: %.3f, train bleu: %.3f, train token acc: %.3f' % (epoch, loss, bleu, tk_acc))\n",
    "    # valid\n",
    "    loss, bleu, tk_acc = validate(\n",
    "        instr_config.device,\n",
    "        epoch,\n",
    "        validation_data_loader,\n",
    "        model,\n",
    "        criterion,\n",
    "        vocab,\n",
    "        summary_writer=writer)\n",
    "    print('Overall Epoch: %d, valid loss: %.3f, valid bleu: %.3f, valid token acc: %.3f' % (epoch, loss, bleu, tk_acc))\n",
    "    # early stopping\n",
    "    if loss <= best_valid_loss:\n",
    "        best_valid_loss = loss\n",
    "        valid_epoch, best_epoch = 0, epoch\n",
    "        torch.save(model.state_dict(), instr_config.SAVE_PATH)\n",
    "        print('Best Epoch: %d, best valid loss: %.3f' % (best_epoch, best_valid_loss))\n",
    "        print('Trained model saved at ', instr_config.SAVE_PATH)\n",
    "    else:\n",
    "        valid_epoch += 1\n",
    "        if valid_epoch >= instr_config.valid_patience:\n",
    "            break"
   ]
  },
  {
   "cell_type": "markdown",
   "id": "bab89b9f-77f1-46c1-a97c-7f5572109f88",
   "metadata": {},
   "source": [
    "## Imitation Learning + LSTM"
   ]
  },
  {
   "cell_type": "markdown",
   "id": "942e030b-2bb9-4485-b409-42cff29efd16",
   "metadata": {},
   "source": [
    "### Set up"
   ]
  },
  {
   "cell_type": "code",
   "execution_count": 25,
   "id": "3fae6cf0-1747-4738-8628-789376776475",
   "metadata": {},
   "outputs": [],
   "source": [
    "lstm_model = InstructionsGeneratorModel(\n",
    "    instr_config.device\n",
    "    , vocab\n",
    "    , instr_config.embeded_dim\n",
    "    , vocab_weights\n",
    ").to(instr_config.device)\n",
    "il_model = ImitationLearningModel(instr_config.embeded_dim).to(instr_config.device)\n",
    "\n",
    "train = imitation_learning_trainer.train\n",
    "validate = imitation_learning_trainer.validate"
   ]
  },
  {
   "cell_type": "code",
   "execution_count": 26,
   "id": "0cd149a8-8306-49dd-a00c-ff2be19d01e3",
   "metadata": {},
   "outputs": [],
   "source": [
    "# CE Loss\n",
    "il_criterion = torch.nn.CrossEntropyLoss()\n",
    "lstm_criterion = torch.nn.CrossEntropyLoss()\n",
    "# Adam\n",
    "il_parameters = filter(lambda p: p.requires_grad, il_model.parameters())\n",
    "il_optimizer = torch.optim.Adam(il_parameters, lr=instr_config.learning_rate)\n",
    "lstm_parameters = filter(lambda p: p.requires_grad, lstm_model.parameters())\n",
    "lstm_optimizer = torch.optim.Adam(lstm_parameters, lr=instr_config.learning_rate)\n",
    "# Log\n",
    "writer = SummaryWriter() if instr_config.summary_writer else None"
   ]
  },
  {
   "cell_type": "markdown",
   "id": "6d3f6781-3948-4530-9cba-7c9331c0e828",
   "metadata": {},
   "source": [
    "### Train IL + LSTM"
   ]
  },
  {
   "cell_type": "code",
   "execution_count": 17,
   "id": "d8391cc9-5c46-4e48-b0c9-ae280192b89a",
   "metadata": {},
   "outputs": [
    {
     "name": "stderr",
     "output_type": "stream",
     "text": [
      "Epoch: 0, train action loss: 0.861, train lang loss: 2.711, train action acc: 0.694, train bleu: 0.557, train token acc: 0.719: 100%|██████████| 2535/2535 [04:57<00:00,  8.52it/s]\n"
     ]
    },
    {
     "name": "stdout",
     "output_type": "stream",
     "text": [
      "Overall Epoch: 0, train action loss: 0.926, train lang loss: 3.130, train action acc: 0.673, train bleu: 0.512, train token acc: 0.643\n"
     ]
    },
    {
     "name": "stderr",
     "output_type": "stream",
     "text": [
      "Epoch: 0, valid action loss: 1.102, valid lang loss: 3.651, valid acc: 0.596, valid bleu: 0.376, valid token acc: 0.487: 100%|██████████| 634/634 [00:55<00:00, 11.42it/s]\n"
     ]
    },
    {
     "name": "stdout",
     "output_type": "stream",
     "text": [
      "Overall Epoch: 0, valid action loss: 0.952, valid lang loss: 3.281, valid action acc: 0.667, valid bleu: 0.493, valid token acc: 0.610\n",
      "Best Epoch: 0, best valid loss: 0.952\n",
      "Trained model saved at  /google/src/cloud/billzhou/ask_your_human/google3/experimental/users/billzhou/Ask-Your-Humans/res/cpts/instr_gen.pt\n"
     ]
    },
    {
     "name": "stderr",
     "output_type": "stream",
     "text": [
      "Epoch: 1, train action loss: 0.764, train lang loss: 2.608, train action acc: 0.758, train bleu: 0.593, train token acc: 0.734: 100%|██████████| 2535/2535 [05:00<00:00,  8.44it/s]\n"
     ]
    },
    {
     "name": "stdout",
     "output_type": "stream",
     "text": [
      "Overall Epoch: 1, train action loss: 0.881, train lang loss: 3.058, train action acc: 0.691, train bleu: 0.519, train token acc: 0.651\n"
     ]
    },
    {
     "name": "stderr",
     "output_type": "stream",
     "text": [
      "Epoch: 1, valid action loss: 0.985, valid lang loss: 3.149, valid acc: 0.638, valid bleu: 0.492, valid token acc: 0.598: 100%|██████████| 634/634 [00:55<00:00, 11.47it/s]\n"
     ]
    },
    {
     "name": "stdout",
     "output_type": "stream",
     "text": [
      "Overall Epoch: 1, valid action loss: 0.919, valid lang loss: 3.230, valid action acc: 0.685, valid bleu: 0.499, valid token acc: 0.612\n",
      "Best Epoch: 1, best valid loss: 0.919\n",
      "Trained model saved at  /google/src/cloud/billzhou/ask_your_human/google3/experimental/users/billzhou/Ask-Your-Humans/res/cpts/instr_gen.pt\n"
     ]
    },
    {
     "name": "stderr",
     "output_type": "stream",
     "text": [
      "Epoch: 2, train action loss: 0.747, train lang loss: 3.458, train action acc: 0.726, train bleu: 0.524, train token acc: 0.622: 100%|██████████| 2535/2535 [05:00<00:00,  8.44it/s]\n"
     ]
    },
    {
     "name": "stdout",
     "output_type": "stream",
     "text": [
      "Overall Epoch: 2, train action loss: 0.850, train lang loss: 3.011, train action acc: 0.705, train bleu: 0.525, train token acc: 0.657\n"
     ]
    },
    {
     "name": "stderr",
     "output_type": "stream",
     "text": [
      "Epoch: 2, valid action loss: 0.916, valid lang loss: 2.903, valid acc: 0.766, valid bleu: 0.549, valid token acc: 0.665: 100%|██████████| 634/634 [00:53<00:00, 11.83it/s]\n"
     ]
    },
    {
     "name": "stdout",
     "output_type": "stream",
     "text": [
      "Overall Epoch: 2, valid action loss: 0.902, valid lang loss: 3.236, valid action acc: 0.688, valid bleu: 0.506, valid token acc: 0.607\n",
      "Best Epoch: 2, best valid loss: 0.902\n",
      "Trained model saved at  /google/src/cloud/billzhou/ask_your_human/google3/experimental/users/billzhou/Ask-Your-Humans/res/cpts/instr_gen.pt\n"
     ]
    },
    {
     "name": "stderr",
     "output_type": "stream",
     "text": [
      "Epoch: 3, train action loss: 1.041, train lang loss: 2.472, train action acc: 0.661, train bleu: 0.591, train token acc: 0.749: 100%|██████████| 2535/2535 [05:02<00:00,  8.39it/s]\n"
     ]
    },
    {
     "name": "stdout",
     "output_type": "stream",
     "text": [
      "Overall Epoch: 3, train action loss: 0.829, train lang loss: 3.015, train action acc: 0.714, train bleu: 0.525, train token acc: 0.655\n"
     ]
    },
    {
     "name": "stderr",
     "output_type": "stream",
     "text": [
      "Epoch: 3, valid action loss: 0.685, valid lang loss: 3.435, valid acc: 0.787, valid bleu: 0.513, valid token acc: 0.603: 100%|██████████| 634/634 [00:54<00:00, 11.70it/s]\n"
     ]
    },
    {
     "name": "stdout",
     "output_type": "stream",
     "text": [
      "Overall Epoch: 3, valid action loss: 0.900, valid lang loss: 3.214, valid action acc: 0.695, valid bleu: 0.503, valid token acc: 0.611\n",
      "Best Epoch: 3, best valid loss: 0.900\n",
      "Trained model saved at  /google/src/cloud/billzhou/ask_your_human/google3/experimental/users/billzhou/Ask-Your-Humans/res/cpts/instr_gen.pt\n"
     ]
    },
    {
     "name": "stderr",
     "output_type": "stream",
     "text": [
      "Epoch: 4, train action loss: 0.868, train lang loss: 3.535, train action acc: 0.694, train bleu: 0.493, train token acc: 0.601: 100%|██████████| 2535/2535 [05:01<00:00,  8.40it/s]\n"
     ]
    },
    {
     "name": "stdout",
     "output_type": "stream",
     "text": [
      "Overall Epoch: 4, train action loss: 0.810, train lang loss: 2.987, train action acc: 0.722, train bleu: 0.527, train token acc: 0.658\n"
     ]
    },
    {
     "name": "stderr",
     "output_type": "stream",
     "text": [
      "Epoch: 4, valid action loss: 0.559, valid lang loss: 3.103, valid acc: 0.851, valid bleu: 0.476, valid token acc: 0.588: 100%|██████████| 634/634 [00:55<00:00, 11.40it/s]\n"
     ]
    },
    {
     "name": "stdout",
     "output_type": "stream",
     "text": [
      "Overall Epoch: 4, valid action loss: 0.886, valid lang loss: 3.178, valid action acc: 0.697, valid bleu: 0.501, valid token acc: 0.614\n",
      "Best Epoch: 4, best valid loss: 0.886\n",
      "Trained model saved at  /google/src/cloud/billzhou/ask_your_human/google3/experimental/users/billzhou/Ask-Your-Humans/res/cpts/instr_gen.pt\n"
     ]
    },
    {
     "name": "stderr",
     "output_type": "stream",
     "text": [
      "Epoch: 5, train action loss: 0.752, train lang loss: 2.626, train action acc: 0.742, train bleu: 0.535, train token acc: 0.695: 100%|██████████| 2535/2535 [05:00<00:00,  8.45it/s]\n"
     ]
    },
    {
     "name": "stdout",
     "output_type": "stream",
     "text": [
      "Overall Epoch: 5, train action loss: 0.793, train lang loss: 2.985, train action acc: 0.730, train bleu: 0.528, train token acc: 0.658\n"
     ]
    },
    {
     "name": "stderr",
     "output_type": "stream",
     "text": [
      "Epoch: 5, valid action loss: 0.959, valid lang loss: 3.198, valid acc: 0.596, valid bleu: 0.431, valid token acc: 0.555: 100%|██████████| 634/634 [00:54<00:00, 11.57it/s]\n"
     ]
    },
    {
     "name": "stdout",
     "output_type": "stream",
     "text": [
      "Overall Epoch: 5, valid action loss: 0.875, valid lang loss: 3.176, valid action acc: 0.701, valid bleu: 0.508, valid token acc: 0.614\n",
      "Best Epoch: 5, best valid loss: 0.875\n",
      "Trained model saved at  /google/src/cloud/billzhou/ask_your_human/google3/experimental/users/billzhou/Ask-Your-Humans/res/cpts/instr_gen.pt\n"
     ]
    },
    {
     "name": "stderr",
     "output_type": "stream",
     "text": [
      "Epoch: 6, train action loss: 0.673, train lang loss: 3.351, train action acc: 0.758, train bleu: 0.475, train token acc: 0.595: 100%|██████████| 2535/2535 [04:59<00:00,  8.46it/s]\n"
     ]
    },
    {
     "name": "stdout",
     "output_type": "stream",
     "text": [
      "Overall Epoch: 6, train action loss: 0.781, train lang loss: 2.970, train action acc: 0.734, train bleu: 0.529, train token acc: 0.659\n"
     ]
    },
    {
     "name": "stderr",
     "output_type": "stream",
     "text": [
      "Epoch: 6, valid action loss: 0.682, valid lang loss: 2.981, valid acc: 0.809, valid bleu: 0.550, valid token acc: 0.633: 100%|██████████| 634/634 [00:54<00:00, 11.56it/s]\n"
     ]
    },
    {
     "name": "stdout",
     "output_type": "stream",
     "text": [
      "Overall Epoch: 6, valid action loss: 0.880, valid lang loss: 3.172, valid action acc: 0.702, valid bleu: 0.504, valid token acc: 0.613\n"
     ]
    },
    {
     "name": "stderr",
     "output_type": "stream",
     "text": [
      "Epoch: 7, train action loss: 0.757, train lang loss: 3.303, train action acc: 0.742, train bleu: 0.481, train token acc: 0.586: 100%|██████████| 2535/2535 [05:02<00:00,  8.39it/s]\n"
     ]
    },
    {
     "name": "stdout",
     "output_type": "stream",
     "text": [
      "Overall Epoch: 7, train action loss: 0.767, train lang loss: 2.944, train action acc: 0.739, train bleu: 0.532, train token acc: 0.663\n"
     ]
    },
    {
     "name": "stderr",
     "output_type": "stream",
     "text": [
      "Epoch: 7, valid action loss: 0.737, valid lang loss: 2.970, valid acc: 0.787, valid bleu: 0.537, valid token acc: 0.644: 100%|██████████| 634/634 [00:54<00:00, 11.60it/s]\n"
     ]
    },
    {
     "name": "stdout",
     "output_type": "stream",
     "text": [
      "Overall Epoch: 7, valid action loss: 0.879, valid lang loss: 3.165, valid action acc: 0.698, valid bleu: 0.503, valid token acc: 0.613\n"
     ]
    },
    {
     "name": "stderr",
     "output_type": "stream",
     "text": [
      "Epoch: 8, train action loss: 0.672, train lang loss: 2.447, train action acc: 0.742, train bleu: 0.589, train token acc: 0.737: 100%|██████████| 2535/2535 [05:01<00:00,  8.42it/s]\n"
     ]
    },
    {
     "name": "stdout",
     "output_type": "stream",
     "text": [
      "Overall Epoch: 8, train action loss: 0.755, train lang loss: 2.926, train action acc: 0.743, train bleu: 0.536, train token acc: 0.666\n"
     ]
    },
    {
     "name": "stderr",
     "output_type": "stream",
     "text": [
      "Epoch: 8, valid action loss: 0.910, valid lang loss: 3.054, valid acc: 0.723, valid bleu: 0.484, valid token acc: 0.590: 100%|██████████| 634/634 [00:53<00:00, 11.75it/s]\n"
     ]
    },
    {
     "name": "stdout",
     "output_type": "stream",
     "text": [
      "Overall Epoch: 8, valid action loss: 0.880, valid lang loss: 3.168, valid action acc: 0.702, valid bleu: 0.505, valid token acc: 0.614\n"
     ]
    },
    {
     "name": "stderr",
     "output_type": "stream",
     "text": [
      "Epoch: 9, train action loss: 0.669, train lang loss: 3.432, train action acc: 0.742, train bleu: 0.495, train token acc: 0.594: 100%|██████████| 2535/2535 [05:04<00:00,  8.32it/s]\n"
     ]
    },
    {
     "name": "stdout",
     "output_type": "stream",
     "text": [
      "Overall Epoch: 9, train action loss: 0.748, train lang loss: 2.913, train action acc: 0.746, train bleu: 0.537, train token acc: 0.667\n"
     ]
    },
    {
     "name": "stderr",
     "output_type": "stream",
     "text": [
      "Epoch: 9, valid action loss: 1.179, valid lang loss: 2.890, valid acc: 0.617, valid bleu: 0.453, valid token acc: 0.591: 100%|██████████| 634/634 [00:55<00:00, 11.37it/s]\n"
     ]
    },
    {
     "name": "stdout",
     "output_type": "stream",
     "text": [
      "Overall Epoch: 9, valid action loss: 0.868, valid lang loss: 3.154, valid action acc: 0.709, valid bleu: 0.502, valid token acc: 0.614\n",
      "Best Epoch: 9, best valid loss: 0.868\n",
      "Trained model saved at  /google/src/cloud/billzhou/ask_your_human/google3/experimental/users/billzhou/Ask-Your-Humans/res/cpts/instr_gen.pt\n"
     ]
    },
    {
     "name": "stderr",
     "output_type": "stream",
     "text": [
      "Epoch: 10, train action loss: 0.890, train lang loss: 3.528, train action acc: 0.677, train bleu: 0.501, train token acc: 0.591: 100%|██████████| 2535/2535 [05:04<00:00,  8.31it/s]\n"
     ]
    },
    {
     "name": "stdout",
     "output_type": "stream",
     "text": [
      "Overall Epoch: 10, train action loss: 0.740, train lang loss: 2.915, train action acc: 0.750, train bleu: 0.537, train token acc: 0.667\n"
     ]
    },
    {
     "name": "stderr",
     "output_type": "stream",
     "text": [
      "Epoch: 10, valid action loss: 0.850, valid lang loss: 3.040, valid acc: 0.638, valid bleu: 0.564, valid token acc: 0.649: 100%|██████████| 634/634 [00:55<00:00, 11.42it/s]\n"
     ]
    },
    {
     "name": "stdout",
     "output_type": "stream",
     "text": [
      "Overall Epoch: 10, valid action loss: 0.870, valid lang loss: 3.173, valid action acc: 0.704, valid bleu: 0.508, valid token acc: 0.613\n"
     ]
    },
    {
     "name": "stderr",
     "output_type": "stream",
     "text": [
      "Epoch: 11, train action loss: 0.626, train lang loss: 2.233, train action acc: 0.726, train bleu: 0.590, train token acc: 0.735: 100%|██████████| 2535/2535 [05:03<00:00,  8.34it/s]\n"
     ]
    },
    {
     "name": "stdout",
     "output_type": "stream",
     "text": [
      "Overall Epoch: 11, train action loss: 0.735, train lang loss: 2.917, train action acc: 0.751, train bleu: 0.537, train token acc: 0.666\n"
     ]
    },
    {
     "name": "stderr",
     "output_type": "stream",
     "text": [
      "Epoch: 11, valid action loss: 0.768, valid lang loss: 3.191, valid acc: 0.660, valid bleu: 0.484, valid token acc: 0.598: 100%|██████████| 634/634 [00:55<00:00, 11.50it/s]\n"
     ]
    },
    {
     "name": "stdout",
     "output_type": "stream",
     "text": [
      "Overall Epoch: 11, valid action loss: 0.859, valid lang loss: 3.167, valid action acc: 0.710, valid bleu: 0.503, valid token acc: 0.615\n",
      "Best Epoch: 11, best valid loss: 0.859\n",
      "Trained model saved at  /google/src/cloud/billzhou/ask_your_human/google3/experimental/users/billzhou/Ask-Your-Humans/res/cpts/instr_gen.pt\n"
     ]
    },
    {
     "name": "stderr",
     "output_type": "stream",
     "text": [
      "Epoch: 12, train action loss: 0.946, train lang loss: 3.423, train action acc: 0.694, train bleu: 0.442, train token acc: 0.572: 100%|██████████| 2535/2535 [05:04<00:00,  8.31it/s]\n"
     ]
    },
    {
     "name": "stdout",
     "output_type": "stream",
     "text": [
      "Overall Epoch: 12, train action loss: 0.728, train lang loss: 2.905, train action acc: 0.753, train bleu: 0.538, train token acc: 0.667\n"
     ]
    },
    {
     "name": "stderr",
     "output_type": "stream",
     "text": [
      "Epoch: 12, valid action loss: 0.763, valid lang loss: 3.129, valid acc: 0.766, valid bleu: 0.467, valid token acc: 0.584: 100%|██████████| 634/634 [00:55<00:00, 11.52it/s]\n"
     ]
    },
    {
     "name": "stdout",
     "output_type": "stream",
     "text": [
      "Overall Epoch: 12, valid action loss: 0.858, valid lang loss: 3.141, valid action acc: 0.709, valid bleu: 0.506, valid token acc: 0.613\n",
      "Best Epoch: 12, best valid loss: 0.858\n",
      "Trained model saved at  /google/src/cloud/billzhou/ask_your_human/google3/experimental/users/billzhou/Ask-Your-Humans/res/cpts/instr_gen.pt\n"
     ]
    },
    {
     "name": "stderr",
     "output_type": "stream",
     "text": [
      "Epoch: 13, train action loss: 0.843, train lang loss: 3.761, train action acc: 0.694, train bleu: 0.556, train token acc: 0.639: 100%|██████████| 2535/2535 [05:04<00:00,  8.32it/s]\n"
     ]
    },
    {
     "name": "stdout",
     "output_type": "stream",
     "text": [
      "Overall Epoch: 13, train action loss: 0.722, train lang loss: 2.895, train action acc: 0.755, train bleu: 0.538, train token acc: 0.668\n"
     ]
    },
    {
     "name": "stderr",
     "output_type": "stream",
     "text": [
      "Epoch: 13, valid action loss: 0.844, valid lang loss: 3.198, valid acc: 0.681, valid bleu: 0.493, valid token acc: 0.611: 100%|██████████| 634/634 [00:54<00:00, 11.69it/s]\n"
     ]
    },
    {
     "name": "stdout",
     "output_type": "stream",
     "text": [
      "Overall Epoch: 13, valid action loss: 0.860, valid lang loss: 3.137, valid action acc: 0.705, valid bleu: 0.501, valid token acc: 0.614\n"
     ]
    },
    {
     "name": "stderr",
     "output_type": "stream",
     "text": [
      "Epoch: 14, train action loss: 0.629, train lang loss: 3.634, train action acc: 0.774, train bleu: 0.443, train token acc: 0.555: 100%|██████████| 2535/2535 [05:04<00:00,  8.32it/s]\n"
     ]
    },
    {
     "name": "stdout",
     "output_type": "stream",
     "text": [
      "Overall Epoch: 14, train action loss: 0.717, train lang loss: 2.901, train action acc: 0.757, train bleu: 0.538, train token acc: 0.667\n"
     ]
    },
    {
     "name": "stderr",
     "output_type": "stream",
     "text": [
      "Epoch: 14, valid action loss: 0.953, valid lang loss: 2.952, valid acc: 0.681, valid bleu: 0.486, valid token acc: 0.607: 100%|██████████| 634/634 [00:59<00:00, 10.57it/s]\n"
     ]
    },
    {
     "name": "stdout",
     "output_type": "stream",
     "text": [
      "Overall Epoch: 14, valid action loss: 0.856, valid lang loss: 3.149, valid action acc: 0.711, valid bleu: 0.504, valid token acc: 0.615\n",
      "Best Epoch: 14, best valid loss: 0.856\n",
      "Trained model saved at  /google/src/cloud/billzhou/ask_your_human/google3/experimental/users/billzhou/Ask-Your-Humans/res/cpts/instr_gen.pt\n"
     ]
    },
    {
     "name": "stderr",
     "output_type": "stream",
     "text": [
      "Epoch: 15, train action loss: 0.926, train lang loss: 3.564, train action acc: 0.758, train bleu: 0.509, train token acc: 0.606: 100%|██████████| 2535/2535 [05:16<00:00,  8.00it/s]\n"
     ]
    },
    {
     "name": "stdout",
     "output_type": "stream",
     "text": [
      "Overall Epoch: 15, train action loss: 0.713, train lang loss: 2.878, train action acc: 0.758, train bleu: 0.541, train token acc: 0.671\n"
     ]
    },
    {
     "name": "stderr",
     "output_type": "stream",
     "text": [
      "Epoch: 15, valid action loss: 0.728, valid lang loss: 3.125, valid acc: 0.745, valid bleu: 0.522, valid token acc: 0.629: 100%|██████████| 634/634 [00:56<00:00, 11.31it/s]\n"
     ]
    },
    {
     "name": "stdout",
     "output_type": "stream",
     "text": [
      "Overall Epoch: 15, valid action loss: 0.855, valid lang loss: 3.139, valid action acc: 0.711, valid bleu: 0.504, valid token acc: 0.616\n",
      "Best Epoch: 15, best valid loss: 0.855\n",
      "Trained model saved at  /google/src/cloud/billzhou/ask_your_human/google3/experimental/users/billzhou/Ask-Your-Humans/res/cpts/instr_gen.pt\n"
     ]
    },
    {
     "name": "stderr",
     "output_type": "stream",
     "text": [
      "Epoch: 16, train action loss: 0.588, train lang loss: 2.247, train action acc: 0.758, train bleu: 0.651, train token acc: 0.778: 100%|██████████| 2535/2535 [05:04<00:00,  8.33it/s]\n"
     ]
    },
    {
     "name": "stdout",
     "output_type": "stream",
     "text": [
      "Overall Epoch: 16, train action loss: 0.708, train lang loss: 2.877, train action acc: 0.759, train bleu: 0.541, train token acc: 0.670\n"
     ]
    },
    {
     "name": "stderr",
     "output_type": "stream",
     "text": [
      "Epoch: 16, valid action loss: 0.928, valid lang loss: 3.196, valid acc: 0.745, valid bleu: 0.507, valid token acc: 0.601: 100%|██████████| 634/634 [00:55<00:00, 11.49it/s]\n"
     ]
    },
    {
     "name": "stdout",
     "output_type": "stream",
     "text": [
      "Overall Epoch: 16, valid action loss: 0.860, valid lang loss: 3.146, valid action acc: 0.708, valid bleu: 0.505, valid token acc: 0.615\n"
     ]
    },
    {
     "name": "stderr",
     "output_type": "stream",
     "text": [
      "Epoch: 17, train action loss: 0.599, train lang loss: 2.418, train action acc: 0.806, train bleu: 0.546, train token acc: 0.708: 100%|██████████| 2535/2535 [05:02<00:00,  8.38it/s]\n"
     ]
    },
    {
     "name": "stdout",
     "output_type": "stream",
     "text": [
      "Overall Epoch: 17, train action loss: 0.706, train lang loss: 2.889, train action acc: 0.761, train bleu: 0.540, train token acc: 0.668\n"
     ]
    },
    {
     "name": "stderr",
     "output_type": "stream",
     "text": [
      "Epoch: 17, valid action loss: 0.819, valid lang loss: 3.318, valid acc: 0.702, valid bleu: 0.503, valid token acc: 0.603: 100%|██████████| 634/634 [00:55<00:00, 11.49it/s]\n"
     ]
    },
    {
     "name": "stdout",
     "output_type": "stream",
     "text": [
      "Overall Epoch: 17, valid action loss: 0.859, valid lang loss: 3.123, valid action acc: 0.710, valid bleu: 0.506, valid token acc: 0.615\n"
     ]
    },
    {
     "name": "stderr",
     "output_type": "stream",
     "text": [
      "Epoch: 18, train action loss: 0.499, train lang loss: 2.265, train action acc: 0.855, train bleu: 0.656, train token acc: 0.788: 100%|██████████| 2535/2535 [05:03<00:00,  8.36it/s]\n"
     ]
    },
    {
     "name": "stdout",
     "output_type": "stream",
     "text": [
      "Overall Epoch: 18, train action loss: 0.702, train lang loss: 2.869, train action acc: 0.762, train bleu: 0.542, train token acc: 0.671\n"
     ]
    },
    {
     "name": "stderr",
     "output_type": "stream",
     "text": [
      "Epoch: 18, valid action loss: 0.545, valid lang loss: 3.253, valid acc: 0.851, valid bleu: 0.545, valid token acc: 0.651: 100%|██████████| 634/634 [00:54<00:00, 11.53it/s]\n"
     ]
    },
    {
     "name": "stdout",
     "output_type": "stream",
     "text": [
      "Overall Epoch: 18, valid action loss: 0.855, valid lang loss: 3.139, valid action acc: 0.708, valid bleu: 0.505, valid token acc: 0.615\n",
      "Best Epoch: 18, best valid loss: 0.855\n",
      "Trained model saved at  /google/src/cloud/billzhou/ask_your_human/google3/experimental/users/billzhou/Ask-Your-Humans/res/cpts/instr_gen.pt\n"
     ]
    },
    {
     "name": "stderr",
     "output_type": "stream",
     "text": [
      "Epoch: 19, train action loss: 1.017, train lang loss: 3.273, train action acc: 0.597, train bleu: 0.460, train token acc: 0.582: 100%|██████████| 2535/2535 [05:00<00:00,  8.43it/s]\n"
     ]
    },
    {
     "name": "stdout",
     "output_type": "stream",
     "text": [
      "Overall Epoch: 19, train action loss: 0.696, train lang loss: 2.858, train action acc: 0.763, train bleu: 0.544, train token acc: 0.673\n"
     ]
    },
    {
     "name": "stderr",
     "output_type": "stream",
     "text": [
      "Epoch: 19, valid action loss: 1.007, valid lang loss: 3.673, valid acc: 0.574, valid bleu: 0.450, valid token acc: 0.553: 100%|██████████| 634/634 [00:55<00:00, 11.50it/s]"
     ]
    },
    {
     "name": "stdout",
     "output_type": "stream",
     "text": [
      "Overall Epoch: 19, valid action loss: 0.859, valid lang loss: 3.157, valid action acc: 0.711, valid bleu: 0.501, valid token acc: 0.614\n"
     ]
    },
    {
     "name": "stderr",
     "output_type": "stream",
     "text": [
      "\n"
     ]
    }
   ],
   "source": [
    "best_valid_loss = float('inf')\n",
    "valid_epoch, best_epoch = 0, None\n",
    "\n",
    "for epoch in range(instr_config.epochs):\n",
    "    # train\n",
    "    action_loss, lstm_loss, acc, bleu, tk_acc = train(\n",
    "        instr_config.device,\n",
    "        epoch,\n",
    "        train_data_loader,\n",
    "        il_model,\n",
    "        lstm_model,\n",
    "        il_optimizer,\n",
    "        lstm_optimizer,\n",
    "        il_criterion,\n",
    "        lstm_criterion,\n",
    "        il_parameters,\n",
    "        lstm_parameters,\n",
    "        vocab,\n",
    "        summary_writer=writer)\n",
    "    print('Overall Epoch: %d, train action loss: %.3f, train lang loss: %.3f, train action acc: %.3f, train bleu: %.3f, train token acc: %.3f' % (epoch, action_loss, lstm_loss, acc, bleu, tk_acc))\n",
    "    # valid\n",
    "    action_loss, lstm_loss, acc, bleu, tk_acc = validate(\n",
    "        instr_config.device,\n",
    "        epoch,\n",
    "        validation_data_loader,\n",
    "        il_model,\n",
    "        lstm_model,\n",
    "        il_criterion,\n",
    "        lstm_criterion,\n",
    "        vocab,\n",
    "        summary_writer=writer)\n",
    "    print('Overall Epoch: %d, valid action loss: %.3f, valid lang loss: %.3f, valid action acc: %.3f, valid bleu: %.3f, valid token acc: %.3f' % (epoch, action_loss, lstm_loss, acc, bleu, tk_acc))\n",
    "    # early stopping\n",
    "    if action_loss <= best_valid_loss:\n",
    "        best_valid_loss = action_loss\n",
    "        valid_epoch, best_epoch = 0, epoch\n",
    "        torch.save(il_model.state_dict(), instr_config.SAVE_PATH)\n",
    "        print('Best Epoch: %d, best valid loss: %.3f' % (best_epoch, best_valid_loss))\n",
    "        print('Trained model saved at ', instr_config.SAVE_PATH)\n",
    "    else:\n",
    "        valid_epoch += 1\n",
    "        if valid_epoch >= instr_config.valid_patience:\n",
    "            break"
   ]
  },
  {
   "cell_type": "markdown",
   "id": "86fa78ac-7ae2-418d-8c41-267a3ec0b650",
   "metadata": {},
   "source": [
    "### Train IL Only"
   ]
  },
  {
   "cell_type": "code",
   "execution_count": null,
   "id": "15717f99-a754-4f35-8feb-d49fa8b4886c",
   "metadata": {},
   "outputs": [
    {
     "name": "stderr",
     "output_type": "stream",
     "text": [
      "Epoch: 0, train action loss: 1.263 train action acc: 0.581: 100%|██████████| 2535/2535 [00:29<00:00, 86.40it/s]\n"
     ]
    },
    {
     "name": "stdout",
     "output_type": "stream",
     "text": [
      "Overall Epoch: 0, train action loss: 1.278, train action acc: 0.523\n"
     ]
    },
    {
     "name": "stderr",
     "output_type": "stream",
     "text": [
      "Epoch: 0, valid action loss: 1.414 valid action acc: 0.532: 100%|██████████| 634/634 [00:05<00:00, 116.60it/s]\n"
     ]
    },
    {
     "name": "stdout",
     "output_type": "stream",
     "text": [
      "Overall Epoch: 0, valid action loss: 1.225, valid action acc: 0.551\n",
      "Best Epoch: 0, best valid loss: 1.225\n",
      "Trained model saved at  /google/src/cloud/billzhou/ask_your_human/google3/experimental/users/billzhou/Ask-Your-Humans/res/cpts/instr_gen.pt\n"
     ]
    },
    {
     "name": "stderr",
     "output_type": "stream",
     "text": [
      "Epoch: 1, train action loss: 1.300 train action acc: 0.516: 100%|██████████| 2535/2535 [00:29<00:00, 86.76it/s]\n"
     ]
    },
    {
     "name": "stdout",
     "output_type": "stream",
     "text": [
      "Overall Epoch: 1, train action loss: 1.186, train action acc: 0.565\n"
     ]
    },
    {
     "name": "stderr",
     "output_type": "stream",
     "text": [
      "Epoch: 1, valid action loss: 1.126 valid action acc: 0.681: 100%|██████████| 634/634 [00:05<00:00, 113.59it/s]\n"
     ]
    },
    {
     "name": "stdout",
     "output_type": "stream",
     "text": [
      "Overall Epoch: 1, valid action loss: 1.183, valid action acc: 0.568\n",
      "Best Epoch: 1, best valid loss: 1.183\n",
      "Trained model saved at  /google/src/cloud/billzhou/ask_your_human/google3/experimental/users/billzhou/Ask-Your-Humans/res/cpts/instr_gen.pt\n"
     ]
    },
    {
     "name": "stderr",
     "output_type": "stream",
     "text": [
      "Epoch: 2, train action loss: 1.101 train action acc: 0.548: 100%|██████████| 2535/2535 [00:29<00:00, 86.72it/s]\n"
     ]
    },
    {
     "name": "stdout",
     "output_type": "stream",
     "text": [
      "Overall Epoch: 2, train action loss: 1.144, train action acc: 0.584\n"
     ]
    },
    {
     "name": "stderr",
     "output_type": "stream",
     "text": [
      "Epoch: 2, valid action loss: 0.903 valid action acc: 0.638: 100%|██████████| 634/634 [00:05<00:00, 118.66it/s]\n"
     ]
    },
    {
     "name": "stdout",
     "output_type": "stream",
     "text": [
      "Overall Epoch: 2, valid action loss: 1.156, valid action acc: 0.578\n",
      "Best Epoch: 2, best valid loss: 1.156\n",
      "Trained model saved at  /google/src/cloud/billzhou/ask_your_human/google3/experimental/users/billzhou/Ask-Your-Humans/res/cpts/instr_gen.pt\n"
     ]
    },
    {
     "name": "stderr",
     "output_type": "stream",
     "text": [
      "Epoch: 3, train action loss: 1.351 train action acc: 0.565: 100%|██████████| 2535/2535 [00:28<00:00, 89.73it/s]\n"
     ]
    },
    {
     "name": "stdout",
     "output_type": "stream",
     "text": [
      "Overall Epoch: 3, train action loss: 1.118, train action acc: 0.596\n"
     ]
    },
    {
     "name": "stderr",
     "output_type": "stream",
     "text": [
      "Epoch: 3, valid action loss: 1.194 valid action acc: 0.617: 100%|██████████| 634/634 [00:05<00:00, 123.51it/s]\n"
     ]
    },
    {
     "name": "stdout",
     "output_type": "stream",
     "text": [
      "Overall Epoch: 3, valid action loss: 1.137, valid action acc: 0.590\n",
      "Best Epoch: 3, best valid loss: 1.137\n",
      "Trained model saved at  /google/src/cloud/billzhou/ask_your_human/google3/experimental/users/billzhou/Ask-Your-Humans/res/cpts/instr_gen.pt\n"
     ]
    },
    {
     "name": "stderr",
     "output_type": "stream",
     "text": [
      "Epoch: 4, train action loss: 1.000 train action acc: 0.677: 100%|██████████| 2535/2535 [00:27<00:00, 90.94it/s]\n"
     ]
    },
    {
     "name": "stdout",
     "output_type": "stream",
     "text": [
      "Overall Epoch: 4, train action loss: 1.102, train action acc: 0.602\n"
     ]
    },
    {
     "name": "stderr",
     "output_type": "stream",
     "text": [
      "Epoch: 4, valid action loss: 0.859 valid action acc: 0.596: 100%|██████████| 634/634 [00:05<00:00, 122.73it/s]\n"
     ]
    },
    {
     "name": "stdout",
     "output_type": "stream",
     "text": [
      "Overall Epoch: 4, valid action loss: 1.132, valid action acc: 0.591\n",
      "Best Epoch: 4, best valid loss: 1.132\n",
      "Trained model saved at  /google/src/cloud/billzhou/ask_your_human/google3/experimental/users/billzhou/Ask-Your-Humans/res/cpts/instr_gen.pt\n"
     ]
    },
    {
     "name": "stderr",
     "output_type": "stream",
     "text": [
      "Epoch: 5, train action loss: 1.422 train action acc: 0.565: 100%|██████████| 2535/2535 [00:29<00:00, 85.09it/s] \n"
     ]
    },
    {
     "name": "stdout",
     "output_type": "stream",
     "text": [
      "Overall Epoch: 5, train action loss: 1.089, train action acc: 0.608\n"
     ]
    },
    {
     "name": "stderr",
     "output_type": "stream",
     "text": [
      "Epoch: 5, valid action loss: 1.112 valid action acc: 0.574: 100%|██████████| 634/634 [00:05<00:00, 122.75it/s]\n"
     ]
    },
    {
     "name": "stdout",
     "output_type": "stream",
     "text": [
      "Overall Epoch: 5, valid action loss: 1.118, valid action acc: 0.598\n",
      "Best Epoch: 5, best valid loss: 1.118\n",
      "Trained model saved at  /google/src/cloud/billzhou/ask_your_human/google3/experimental/users/billzhou/Ask-Your-Humans/res/cpts/instr_gen.pt\n"
     ]
    },
    {
     "name": "stderr",
     "output_type": "stream",
     "text": [
      "Epoch: 6, train action loss: 1.004 train action acc: 0.613: 100%|██████████| 2535/2535 [00:27<00:00, 90.65it/s]\n"
     ]
    },
    {
     "name": "stdout",
     "output_type": "stream",
     "text": [
      "Overall Epoch: 6, train action loss: 1.079, train action acc: 0.612\n"
     ]
    },
    {
     "name": "stderr",
     "output_type": "stream",
     "text": [
      "Epoch: 6, valid action loss: 0.836 valid action acc: 0.681: 100%|██████████| 634/634 [00:05<00:00, 122.23it/s]\n"
     ]
    },
    {
     "name": "stdout",
     "output_type": "stream",
     "text": [
      "Overall Epoch: 6, valid action loss: 1.121, valid action acc: 0.599\n"
     ]
    },
    {
     "name": "stderr",
     "output_type": "stream",
     "text": [
      "Epoch: 7, train action loss: 1.150 train action acc: 0.565: 100%|██████████| 2535/2535 [00:28<00:00, 90.40it/s] \n"
     ]
    },
    {
     "name": "stdout",
     "output_type": "stream",
     "text": [
      "Overall Epoch: 7, train action loss: 1.071, train action acc: 0.616\n"
     ]
    },
    {
     "name": "stderr",
     "output_type": "stream",
     "text": [
      "Epoch: 7, valid action loss: 1.429 valid action acc: 0.532: 100%|██████████| 634/634 [00:05<00:00, 107.09it/s]\n"
     ]
    },
    {
     "name": "stdout",
     "output_type": "stream",
     "text": [
      "Overall Epoch: 7, valid action loss: 1.116, valid action acc: 0.603\n",
      "Best Epoch: 7, best valid loss: 1.116\n",
      "Trained model saved at  /google/src/cloud/billzhou/ask_your_human/google3/experimental/users/billzhou/Ask-Your-Humans/res/cpts/instr_gen.pt\n"
     ]
    },
    {
     "name": "stderr",
     "output_type": "stream",
     "text": [
      "Epoch: 8, train action loss: 0.851 train action acc: 0.661: 100%|██████████| 2535/2535 [00:28<00:00, 87.93it/s]\n"
     ]
    },
    {
     "name": "stdout",
     "output_type": "stream",
     "text": [
      "Overall Epoch: 8, train action loss: 1.062, train action acc: 0.620\n"
     ]
    },
    {
     "name": "stderr",
     "output_type": "stream",
     "text": [
      "Epoch: 8, valid action loss: 1.262 valid action acc: 0.681: 100%|██████████| 634/634 [00:05<00:00, 123.39it/s]\n"
     ]
    },
    {
     "name": "stdout",
     "output_type": "stream",
     "text": [
      "Overall Epoch: 8, valid action loss: 1.106, valid action acc: 0.605\n",
      "Best Epoch: 8, best valid loss: 1.106\n",
      "Trained model saved at  /google/src/cloud/billzhou/ask_your_human/google3/experimental/users/billzhou/Ask-Your-Humans/res/cpts/instr_gen.pt\n"
     ]
    },
    {
     "name": "stderr",
     "output_type": "stream",
     "text": [
      "Epoch: 9, train action loss: 1.099 train action acc: 0.613: 100%|██████████| 2535/2535 [00:27<00:00, 91.27it/s]\n"
     ]
    },
    {
     "name": "stdout",
     "output_type": "stream",
     "text": [
      "Overall Epoch: 9, train action loss: 1.047, train action acc: 0.627\n"
     ]
    },
    {
     "name": "stderr",
     "output_type": "stream",
     "text": [
      "Epoch: 9, valid action loss: 1.296 valid action acc: 0.447: 100%|██████████| 634/634 [00:05<00:00, 124.12it/s]\n"
     ]
    },
    {
     "name": "stdout",
     "output_type": "stream",
     "text": [
      "Overall Epoch: 9, valid action loss: 1.089, valid action acc: 0.614\n",
      "Best Epoch: 9, best valid loss: 1.089\n",
      "Trained model saved at  /google/src/cloud/billzhou/ask_your_human/google3/experimental/users/billzhou/Ask-Your-Humans/res/cpts/instr_gen.pt\n"
     ]
    },
    {
     "name": "stderr",
     "output_type": "stream",
     "text": [
      "Epoch: 10, train action loss: 1.127 train action acc: 0.597: 100%|██████████| 2535/2535 [00:27<00:00, 91.22it/s]\n"
     ]
    },
    {
     "name": "stdout",
     "output_type": "stream",
     "text": [
      "Overall Epoch: 10, train action loss: 1.033, train action acc: 0.633\n"
     ]
    },
    {
     "name": "stderr",
     "output_type": "stream",
     "text": [
      "Epoch: 10, valid action loss: 1.116 valid action acc: 0.617: 100%|██████████| 634/634 [00:05<00:00, 120.42it/s]\n"
     ]
    },
    {
     "name": "stdout",
     "output_type": "stream",
     "text": [
      "Overall Epoch: 10, valid action loss: 1.083, valid action acc: 0.617\n",
      "Best Epoch: 10, best valid loss: 1.083\n",
      "Trained model saved at  /google/src/cloud/billzhou/ask_your_human/google3/experimental/users/billzhou/Ask-Your-Humans/res/cpts/instr_gen.pt\n"
     ]
    },
    {
     "name": "stderr",
     "output_type": "stream",
     "text": [
      "Epoch: 11, train action loss: 1.019 train action acc: 0.645: 100%|██████████| 2535/2535 [00:27<00:00, 91.23it/s]\n"
     ]
    },
    {
     "name": "stdout",
     "output_type": "stream",
     "text": [
      "Overall Epoch: 11, train action loss: 1.022, train action acc: 0.639\n"
     ]
    },
    {
     "name": "stderr",
     "output_type": "stream",
     "text": [
      "Epoch: 11, valid action loss: 1.168 valid action acc: 0.617: 100%|██████████| 634/634 [00:05<00:00, 122.25it/s]\n"
     ]
    },
    {
     "name": "stdout",
     "output_type": "stream",
     "text": [
      "Overall Epoch: 11, valid action loss: 1.077, valid action acc: 0.623\n",
      "Best Epoch: 11, best valid loss: 1.077\n",
      "Trained model saved at  /google/src/cloud/billzhou/ask_your_human/google3/experimental/users/billzhou/Ask-Your-Humans/res/cpts/instr_gen.pt\n"
     ]
    },
    {
     "name": "stderr",
     "output_type": "stream",
     "text": [
      "Epoch: 12, train action loss: 0.979 train action acc: 0.629: 100%|██████████| 2535/2535 [00:32<00:00, 77.35it/s]\n"
     ]
    },
    {
     "name": "stdout",
     "output_type": "stream",
     "text": [
      "Overall Epoch: 12, train action loss: 1.015, train action acc: 0.641\n"
     ]
    },
    {
     "name": "stderr",
     "output_type": "stream",
     "text": [
      "Epoch: 12, valid action loss: 0.906 valid action acc: 0.660: 100%|██████████| 634/634 [00:06<00:00, 97.59it/s] \n"
     ]
    },
    {
     "name": "stdout",
     "output_type": "stream",
     "text": [
      "Overall Epoch: 12, valid action loss: 1.081, valid action acc: 0.620\n"
     ]
    },
    {
     "name": "stderr",
     "output_type": "stream",
     "text": [
      "Epoch: 13, train action loss: 0.923 train action acc: 0.677: 100%|██████████| 2535/2535 [00:35<00:00, 70.94it/s]\n"
     ]
    },
    {
     "name": "stdout",
     "output_type": "stream",
     "text": [
      "Overall Epoch: 13, train action loss: 1.009, train action acc: 0.643\n"
     ]
    },
    {
     "name": "stderr",
     "output_type": "stream",
     "text": [
      "Epoch: 13, valid action loss: 1.195 valid action acc: 0.617: 100%|██████████| 634/634 [00:06<00:00, 91.38it/s] \n"
     ]
    },
    {
     "name": "stdout",
     "output_type": "stream",
     "text": [
      "Overall Epoch: 13, valid action loss: 1.077, valid action acc: 0.620\n"
     ]
    },
    {
     "name": "stderr",
     "output_type": "stream",
     "text": [
      "Epoch: 14, train action loss: 1.015 train action acc: 0.688:  51%|█████     | 1284/2535 [00:17<00:17, 69.56it/s]"
     ]
    }
   ],
   "source": [
    "best_valid_loss = float('inf')\n",
    "valid_epoch, best_epoch = 0, None\n",
    "\n",
    "for epoch in range(instr_config.epochs):\n",
    "    # train\n",
    "    action_loss, lstm_loss, acc, bleu, tk_acc = train(\n",
    "        instr_config.device,\n",
    "        epoch,\n",
    "        train_data_loader,\n",
    "        il_model,\n",
    "        lstm_model,\n",
    "        il_optimizer,\n",
    "        lstm_optimizer,\n",
    "        il_criterion,\n",
    "        lstm_criterion,\n",
    "        il_parameters,\n",
    "        lstm_parameters,\n",
    "        vocab,\n",
    "        use_generative_language=False,\n",
    "        summary_writer=writer)\n",
    "    print('Overall Epoch: %d, train action loss: %.3f, train action acc: %.3f' % (epoch, action_loss, acc))\n",
    "    # valid\n",
    "    action_loss, lstm_loss, acc, bleu, tk_acc = validate(\n",
    "        instr_config.device,\n",
    "        epoch,\n",
    "        validation_data_loader,\n",
    "        il_model,\n",
    "        lstm_model,\n",
    "        il_criterion,\n",
    "        lstm_criterion,\n",
    "        vocab,\n",
    "        use_generative_language=False,\n",
    "        summary_writer=writer)\n",
    "    print('Overall Epoch: %d, valid action loss: %.3f, valid action acc: %.3f' % (epoch, action_loss, acc))\n",
    "    # early stopping\n",
    "    if action_loss <= best_valid_loss:\n",
    "        best_valid_loss = action_loss\n",
    "        valid_epoch, best_epoch = 0, epoch\n",
    "        torch.save(il_model.state_dict(), instr_config.SAVE_PATH)\n",
    "        print('Best Epoch: %d, best valid loss: %.3f' % (best_epoch, best_valid_loss))\n",
    "        print('Trained model saved at ', instr_config.SAVE_PATH)\n",
    "    else:\n",
    "        valid_epoch += 1\n",
    "        if valid_epoch >= instr_config.valid_patience:\n",
    "            break"
   ]
  },
  {
   "cell_type": "code",
   "execution_count": null,
   "id": "7a2697bd-a9ef-479e-83a2-b2a3646e0f89",
   "metadata": {},
   "outputs": [],
   "source": []
  }
 ],
 "metadata": {
  "kernelspec": {
   "display_name": "Python 3",
   "language": "python",
   "name": "python3"
  },
  "language_info": {
   "codemirror_mode": {
    "name": "ipython",
    "version": 3
   },
   "file_extension": ".py",
   "mimetype": "text/x-python",
   "name": "python",
   "nbconvert_exporter": "python",
   "pygments_lexer": "ipython3",
   "version": "3.6.13"
  }
 },
 "nbformat": 4,
 "nbformat_minor": 5
}

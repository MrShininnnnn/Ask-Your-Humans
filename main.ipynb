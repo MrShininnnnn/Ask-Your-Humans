{
 "cells": [
  {
   "cell_type": "markdown",
   "id": "33cfb311-121e-44e4-9c73-072fa4f11195",
   "metadata": {},
   "source": [
    "# CS7643 - Final Project"
   ]
  },
  {
   "cell_type": "code",
   "execution_count": 1,
   "id": "60098e1b-b21f-4600-8c58-24f1246b09b2",
   "metadata": {},
   "outputs": [],
   "source": [
    "# built-in\n",
    "# public\n",
    "import numpy as np\n",
    "import torch\n",
    "from torch.utils.tensorboard import SummaryWriter\n",
    "from torch.utils.data import DataLoader\n",
    "from torch.utils.data.sampler import SubsetRandomSampler\n",
    "# private\n",
    "from config import Config, InstrConfig\n",
    "from src.utils import dataloader, helpers\n",
    "from src.models.instructions_generator_model import InstructionsGeneratorModel\n",
    "from src.trainer import instructions_generator_trainer\n",
    "from src.models.imitation_learning_model import ImitationLearningModel\n",
    "from src.trainer import imitation_learning_trainer\n",
    "\n",
    "#%load_ext autoreload \n",
    "#%autoreload 2\n",
    "#%config Completer.use_jedi = False"
   ]
  },
  {
   "cell_type": "markdown",
   "id": "cc232721-5be3-4bbf-9540-61da89569cf1",
   "metadata": {},
   "source": [
    "# Initialization"
   ]
  },
  {
   "cell_type": "code",
   "execution_count": 2,
   "id": "745d277d-0f18-4e7c-b319-06cd98f8ecc2",
   "metadata": {},
   "outputs": [],
   "source": [
    "instr_config = InstrConfig()\n",
    "helpers.set_seed(instr_config.random_seed)"
   ]
  },
  {
   "cell_type": "markdown",
   "id": "c1b9a897-713a-4fbf-b220-0f63f0b7667e",
   "metadata": {},
   "source": [
    "## Instructions Generator"
   ]
  },
  {
   "cell_type": "markdown",
   "id": "7931b4b8-e729-4909-b8db-f8de736ed88d",
   "metadata": {},
   "source": [
    "## Data"
   ]
  },
  {
   "cell_type": "markdown",
   "id": "757fefab-e97f-48f3-b2cc-b1505455244b",
   "metadata": {},
   "source": [
    "### Load Data"
   ]
  },
  {
   "cell_type": "code",
   "execution_count": 3,
   "id": "101e130e-ea81-4527-9770-021eea88c405",
   "metadata": {},
   "outputs": [],
   "source": [
    "# train size 202831\n",
    "# unique number of instructions 35921\n",
    "data = dataloader.load_pkl(workdir=instr_config.DATA_PATH)"
   ]
  },
  {
   "cell_type": "code",
   "execution_count": 4,
   "id": "4ed3357b-a811-4d4d-89c3-f4169b145df6",
   "metadata": {},
   "outputs": [],
   "source": [
    "train_states, train_inventories, train_actions, train_goals, train_instructions, all_instructions = data"
   ]
  },
  {
   "cell_type": "code",
   "execution_count": 5,
   "id": "6c7e72ad-2df3-4d7e-9fa9-7dc66b4aa7f6",
   "metadata": {},
   "outputs": [
    {
     "name": "stdout",
     "output_type": "stream",
     "text": [
      "34\n"
     ]
    }
   ],
   "source": [
    "# remove invalid sample where train instruction is None\n",
    "invalid_index = set([i for i, _ in enumerate(train_instructions) if not _])\n",
    "print(len(invalid_index))"
   ]
  },
  {
   "cell_type": "code",
   "execution_count": 6,
   "id": "94a5c2d0-e887-46a6-9274-a60b0d795ca5",
   "metadata": {},
   "outputs": [
    {
     "name": "stdout",
     "output_type": "stream",
     "text": [
      "202797\n"
     ]
    }
   ],
   "source": [
    "valid_index = [i for i, _ in enumerate(train_instructions) if _]\n",
    "print(len(valid_index))\n",
    "train_states = np.array(train_states)[valid_index].tolist()\n",
    "train_inventories = np.array(train_inventories)[valid_index].tolist()\n",
    "train_actions = np.array(train_actions)[valid_index].tolist()\n",
    "train_instructions = np.array(train_instructions)[valid_index].tolist()"
   ]
  },
  {
   "cell_type": "markdown",
   "id": "9bb91a46-3798-4c01-8b62-f670147755d7",
   "metadata": {},
   "source": [
    "### Build Vocab"
   ]
  },
  {
   "cell_type": "code",
   "execution_count": 7,
   "id": "ab423b2e-ae6c-4a8c-b0a4-95599f99aae9",
   "metadata": {},
   "outputs": [
    {
     "name": "stdout",
     "output_type": "stream",
     "text": [
      "Total vocabulary size: 212\n"
     ]
    }
   ],
   "source": [
    "vocab, vocab_weights = dataloader.generate_vocab(\n",
    "    all_instructions, instr_config.device, workdir=instr_config.DATA_PATH, cache='/usr/local/google/home/billzhou/Documents/glove')"
   ]
  },
  {
   "cell_type": "markdown",
   "id": "e0d3af4b-4cec-4695-90d9-4e5af2a9916b",
   "metadata": {},
   "source": [
    "### Generate Dataset"
   ]
  },
  {
   "cell_type": "code",
   "execution_count": 8,
   "id": "db7df324-3ba6-4e7d-a29f-d41bb960d232",
   "metadata": {},
   "outputs": [
    {
     "name": "stdout",
     "output_type": "stream",
     "text": [
      "embedding loaded\n",
      "one hot loaded\n",
      "actions loaded\n",
      "goals loaded\n",
      "done loading dataset\n"
     ]
    }
   ],
   "source": [
    "dataset = dataloader.CraftingDataset(\n",
    "  instr_config.embeded_dim,\n",
    "  train_states,\n",
    "  train_inventories,\n",
    "  train_actions,\n",
    "  train_goals,\n",
    "  train_instructions,\n",
    "  vocab,\n",
    "  cache='/usr/local/google/home/billzhou/Documents/glove')"
   ]
  },
  {
   "cell_type": "code",
   "execution_count": 9,
   "id": "b8a129d9-dea3-4ef0-a8f9-910141374914",
   "metadata": {},
   "outputs": [
    {
     "data": {
      "text/plain": [
       "3"
      ]
     },
     "execution_count": 9,
     "metadata": {},
     "output_type": "execute_result"
    }
   ],
   "source": [
    "min([len(d[-1]) for d in dataset])"
   ]
  },
  {
   "cell_type": "code",
   "execution_count": 10,
   "id": "9f51a362-1954-469d-91d8-60fdd77808bd",
   "metadata": {},
   "outputs": [],
   "source": [
    "instr_config.dataset_size = len(dataset)"
   ]
  },
  {
   "cell_type": "markdown",
   "id": "e05ab357-1572-4751-98b0-dd5ce83561e0",
   "metadata": {},
   "source": [
    "### Split Dataset"
   ]
  },
  {
   "cell_type": "code",
   "execution_count": 11,
   "id": "968db423-65aa-4254-94c5-c14546b56e6d",
   "metadata": {},
   "outputs": [],
   "source": [
    "indices = list(range(instr_config.dataset_size))\n",
    "split = int(np.floor(instr_config.validation_split * instr_config.dataset_size))\n",
    "np.random.shuffle(indices)\n",
    "train_indices, val_indices = indices[split:], indices[:split]\n",
    "\n",
    "train_sampler = SubsetRandomSampler(train_indices)\n",
    "valid_sampler = SubsetRandomSampler(val_indices)"
   ]
  },
  {
   "cell_type": "markdown",
   "id": "9db73dd1-9524-4742-a61a-345a0cb997d8",
   "metadata": {},
   "source": [
    "### Initialize Data Loader"
   ]
  },
  {
   "cell_type": "code",
   "execution_count": 12,
   "id": "eaf931ff-4f27-4531-bcc6-34b92d9e9bbf",
   "metadata": {},
   "outputs": [],
   "source": [
    "train_data_loader = DataLoader(\n",
    "  dataset,\n",
    "  batch_size=instr_config.batch_size,\n",
    "  num_workers=0,\n",
    "  pin_memory=True,\n",
    "  sampler=train_sampler,\n",
    "  collate_fn=dataloader.collate_fn)\n",
    "\n",
    "validation_data_loader = DataLoader(\n",
    "  dataset,\n",
    "  batch_size=instr_config.batch_size,\n",
    "  num_workers=0,\n",
    "  pin_memory=True,\n",
    "  sampler=valid_sampler,\n",
    "  collate_fn=dataloader.collate_fn)"
   ]
  },
  {
   "cell_type": "markdown",
   "id": "28ca36b8-d503-4424-ad6e-e98b8a3be5ff",
   "metadata": {},
   "source": [
    "### Setup Instructions Generator Training"
   ]
  },
  {
   "cell_type": "code",
   "execution_count": 14,
   "id": "d5c428d5-5bc8-442a-af5e-d76a3a0a12a2",
   "metadata": {},
   "outputs": [],
   "source": [
    "model = InstructionsGeneratorModel(\n",
    "    instr_config.device\n",
    "    , vocab\n",
    "    , instr_config.embeded_dim\n",
    "    , vocab_weights\n",
    ").to(instr_config.device)\n",
    "train = instructions_generator_trainer.train\n",
    "validate = instructions_generator_trainer.validate"
   ]
  },
  {
   "cell_type": "code",
   "execution_count": 15,
   "id": "d8a9ff60-9006-4a9f-be2c-dfc6dbb08f05",
   "metadata": {},
   "outputs": [],
   "source": [
    "# CE Loss\n",
    "criterion = torch.nn.CrossEntropyLoss()\n",
    "# Adam\n",
    "parameters = filter(lambda p: p.requires_grad, model.parameters())\n",
    "optimizer = torch.optim.Adam(parameters, lr=instr_config.learning_rate)\n",
    "# Log\n",
    "writer = SummaryWriter() if instr_config.summary_writer else None"
   ]
  },
  {
   "cell_type": "markdown",
   "id": "bc28801e-c3d3-47f3-9df5-1c9ef56f3da3",
   "metadata": {},
   "source": [
    "### GO"
   ]
  },
  {
   "cell_type": "code",
   "execution_count": 15,
   "id": "3b9058ab-899c-42d7-9fbf-878144753789",
   "metadata": {},
   "outputs": [
    {
     "name": "stderr",
     "output_type": "stream",
     "text": [
      "Epoch: 0, train loss: 2.605, train bleu: 0.589, train token acc: 0.720: 100%|██████████| 2535/2535 [04:53<00:00,  8.65it/s]\n"
     ]
    },
    {
     "name": "stdout",
     "output_type": "stream",
     "text": [
      "Overall Epoch: 0, train loss: 2.900, train bleu: 0.530, train token acc: 0.684\n"
     ]
    },
    {
     "name": "stderr",
     "output_type": "stream",
     "text": [
      "Epoch: 0, valid loss: 4.509, valid bleu: 0.426, valid token acc: 0.557: 100%|██████████| 634/634 [00:54<00:00, 11.58it/s]\n"
     ]
    },
    {
     "name": "stdout",
     "output_type": "stream",
     "text": [
      "Overall Epoch: 0, valid loss: 4.593, valid bleu: 0.477, valid token acc: 0.592\n",
      "Best Epoch: 0, best valid loss: 4.593\n",
      "Trained model saved at  /google/src/cloud/billzhou/ask_your_human/google3/experimental/users/billzhou/Ask-Your-Humans/res/cpts/instr_gen.pt\n"
     ]
    },
    {
     "name": "stderr",
     "output_type": "stream",
     "text": [
      "Epoch: 1, train loss: 2.450, train bleu: 0.590, train token acc: 0.728: 100%|██████████| 2535/2535 [04:55<00:00,  8.58it/s]\n"
     ]
    },
    {
     "name": "stdout",
     "output_type": "stream",
     "text": [
      "Overall Epoch: 1, train loss: 2.378, train bleu: 0.579, train token acc: 0.735\n"
     ]
    },
    {
     "name": "stderr",
     "output_type": "stream",
     "text": [
      "Epoch: 1, valid loss: 4.898, valid bleu: 0.476, valid token acc: 0.605: 100%|██████████| 634/634 [00:53<00:00, 11.76it/s]\n"
     ]
    },
    {
     "name": "stdout",
     "output_type": "stream",
     "text": [
      "Overall Epoch: 1, valid loss: 4.852, valid bleu: 0.487, valid token acc: 0.599\n"
     ]
    },
    {
     "name": "stderr",
     "output_type": "stream",
     "text": [
      "Epoch: 2, train loss: 2.286, train bleu: 0.549, train token acc: 0.720: 100%|██████████| 2535/2535 [04:55<00:00,  8.57it/s]\n"
     ]
    },
    {
     "name": "stdout",
     "output_type": "stream",
     "text": [
      "Overall Epoch: 2, train loss: 2.244, train bleu: 0.599, train token acc: 0.751\n"
     ]
    },
    {
     "name": "stderr",
     "output_type": "stream",
     "text": [
      "Epoch: 2, valid loss: 5.914, valid bleu: 0.448, valid token acc: 0.555: 100%|██████████| 634/634 [00:54<00:00, 11.58it/s]\n"
     ]
    },
    {
     "name": "stdout",
     "output_type": "stream",
     "text": [
      "Overall Epoch: 2, valid loss: 5.099, valid bleu: 0.491, valid token acc: 0.601\n"
     ]
    },
    {
     "name": "stderr",
     "output_type": "stream",
     "text": [
      "Epoch: 3, train loss: 2.045, train bleu: 0.641, train token acc: 0.786: 100%|██████████| 2535/2535 [05:00<00:00,  8.43it/s]\n"
     ]
    },
    {
     "name": "stdout",
     "output_type": "stream",
     "text": [
      "Overall Epoch: 3, train loss: 2.172, train bleu: 0.610, train token acc: 0.759\n"
     ]
    },
    {
     "name": "stderr",
     "output_type": "stream",
     "text": [
      "Epoch: 3, valid loss: 5.674, valid bleu: 0.437, valid token acc: 0.538: 100%|██████████| 634/634 [00:54<00:00, 11.63it/s]\n"
     ]
    },
    {
     "name": "stdout",
     "output_type": "stream",
     "text": [
      "Overall Epoch: 3, valid loss: 5.289, valid bleu: 0.489, valid token acc: 0.598\n"
     ]
    },
    {
     "name": "stderr",
     "output_type": "stream",
     "text": [
      "Epoch: 4, train loss: 2.065, train bleu: 0.635, train token acc: 0.777: 100%|██████████| 2535/2535 [04:58<00:00,  8.50it/s]\n"
     ]
    },
    {
     "name": "stdout",
     "output_type": "stream",
     "text": [
      "Overall Epoch: 4, train loss: 2.128, train bleu: 0.616, train token acc: 0.764\n"
     ]
    },
    {
     "name": "stderr",
     "output_type": "stream",
     "text": [
      "Epoch: 4, valid loss: 4.621, valid bleu: 0.412, valid token acc: 0.588: 100%|██████████| 634/634 [00:53<00:00, 11.93it/s]"
     ]
    },
    {
     "name": "stdout",
     "output_type": "stream",
     "text": [
      "Overall Epoch: 4, valid loss: 5.338, valid bleu: 0.491, valid token acc: 0.603\n"
     ]
    },
    {
     "name": "stderr",
     "output_type": "stream",
     "text": [
      "\n"
     ]
    }
   ],
   "source": [
    "best_valid_loss = float('inf')\n",
    "valid_epoch, best_epoch = 0, None\n",
    "\n",
    "for epoch in range(instr_config.epochs):\n",
    "    # train\n",
    "    loss, bleu, tk_acc = train(\n",
    "        instr_config.device,\n",
    "        epoch,\n",
    "        train_data_loader,\n",
    "        model,\n",
    "        optimizer,\n",
    "        criterion,\n",
    "        parameters,\n",
    "        vocab,\n",
    "        summary_writer=writer)\n",
    "    print('Overall Epoch: %d, train loss: %.3f, train bleu: %.3f, train token acc: %.3f' % (epoch, loss, bleu, tk_acc))\n",
    "    # valid\n",
    "    loss, bleu, tk_acc = validate(\n",
    "        instr_config.device,\n",
    "        epoch,\n",
    "        validation_data_loader,\n",
    "        model,\n",
    "        criterion,\n",
    "        vocab,\n",
    "        summary_writer=writer)\n",
    "    print('Overall Epoch: %d, valid loss: %.3f, valid bleu: %.3f, valid token acc: %.3f' % (epoch, loss, bleu, tk_acc))\n",
    "    # early stopping\n",
    "    if loss <= best_valid_loss:\n",
    "        best_valid_loss = loss\n",
    "        valid_epoch, best_epoch = 0, epoch\n",
    "        torch.save(model.state_dict(), instr_config.SAVE_PATH)\n",
    "        print('Best Epoch: %d, best valid loss: %.3f' % (best_epoch, best_valid_loss))\n",
    "        print('Trained model saved at ', instr_config.SAVE_PATH)\n",
    "    else:\n",
    "        valid_epoch += 1\n",
    "        if valid_epoch >= instr_config.valid_patience:\n",
    "            break"
   ]
  },
  {
   "cell_type": "markdown",
   "id": "bab89b9f-77f1-46c1-a97c-7f5572109f88",
   "metadata": {},
   "source": [
    "### Setup Instructions Generator Training"
   ]
  },
  {
   "cell_type": "code",
   "execution_count": 13,
   "id": "3fae6cf0-1747-4738-8628-789376776475",
   "metadata": {},
   "outputs": [],
   "source": [
    "lstm_model = InstructionsGeneratorModel(\n",
    "    instr_config.device\n",
    "    , vocab\n",
    "    , instr_config.embeded_dim\n",
    "    , vocab_weights\n",
    ").to(instr_config.device)\n",
    "il_model = ImitationLearningModel(instr_config.embeded_dim).to(instr_config.device)\n",
    "\n",
    "train = imitation_learning_trainer.train\n",
    "validate = imitation_learning_trainer.validate"
   ]
  },
  {
   "cell_type": "code",
   "execution_count": 14,
   "id": "0cd149a8-8306-49dd-a00c-ff2be19d01e3",
   "metadata": {},
   "outputs": [],
   "source": [
    "# CE Loss\n",
    "il_criterion = torch.nn.CrossEntropyLoss()\n",
    "lstm_criterion = torch.nn.CrossEntropyLoss()\n",
    "# Adam\n",
    "il_parameters = filter(lambda p: p.requires_grad, il_model.parameters())\n",
    "il_optimizer = torch.optim.Adam(il_parameters, lr=instr_config.learning_rate)\n",
    "lstm_parameters = filter(lambda p: p.requires_grad, lstm_model.parameters())\n",
    "lstm_optimizer = torch.optim.Adam(lstm_parameters, lr=instr_config.learning_rate)\n",
    "# Log\n",
    "writer = SummaryWriter() if instr_config.summary_writer else None"
   ]
  },
  {
   "cell_type": "code",
   "execution_count": null,
   "id": "d8391cc9-5c46-4e48-b0c9-ae280192b89a",
   "metadata": {},
   "outputs": [
    {
     "name": "stderr",
     "output_type": "stream",
     "text": [
      "Epoch: 0, train action loss: 0.861, train lang loss: 2.711, train action acc: 0.694, train bleu: 0.557, train token acc: 0.719: 100%|██████████| 2535/2535 [04:57<00:00,  8.52it/s]\n"
     ]
    },
    {
     "name": "stdout",
     "output_type": "stream",
     "text": [
      "Overall Epoch: 0, train action loss: 0.926, train lang loss: 3.130, train action acc: 0.673, train bleu: 0.512, train token acc: 0.643\n"
     ]
    },
    {
     "name": "stderr",
     "output_type": "stream",
     "text": [
      "Epoch: 0, valid action loss: 1.102, valid lang loss: 3.651, valid acc: 0.596, valid bleu: 0.376, valid token acc: 0.487: 100%|██████████| 634/634 [00:55<00:00, 11.42it/s]\n"
     ]
    },
    {
     "name": "stdout",
     "output_type": "stream",
     "text": [
      "Overall Epoch: 0, valid action loss: 0.952, valid lang loss: 3.281, valid action acc: 0.667, valid bleu: 0.493, valid token acc: 0.610\n",
      "Best Epoch: 0, best valid loss: 0.952\n",
      "Trained model saved at  /google/src/cloud/billzhou/ask_your_human/google3/experimental/users/billzhou/Ask-Your-Humans/res/cpts/instr_gen.pt\n"
     ]
    },
    {
     "name": "stderr",
     "output_type": "stream",
     "text": [
      "Epoch: 1, train action loss: 0.764, train lang loss: 2.608, train action acc: 0.758, train bleu: 0.593, train token acc: 0.734: 100%|██████████| 2535/2535 [05:00<00:00,  8.44it/s]\n"
     ]
    },
    {
     "name": "stdout",
     "output_type": "stream",
     "text": [
      "Overall Epoch: 1, train action loss: 0.881, train lang loss: 3.058, train action acc: 0.691, train bleu: 0.519, train token acc: 0.651\n"
     ]
    },
    {
     "name": "stderr",
     "output_type": "stream",
     "text": [
      "Epoch: 1, valid action loss: 0.985, valid lang loss: 3.149, valid acc: 0.638, valid bleu: 0.492, valid token acc: 0.598: 100%|██████████| 634/634 [00:55<00:00, 11.47it/s]\n"
     ]
    },
    {
     "name": "stdout",
     "output_type": "stream",
     "text": [
      "Overall Epoch: 1, valid action loss: 0.919, valid lang loss: 3.230, valid action acc: 0.685, valid bleu: 0.499, valid token acc: 0.612\n",
      "Best Epoch: 1, best valid loss: 0.919\n",
      "Trained model saved at  /google/src/cloud/billzhou/ask_your_human/google3/experimental/users/billzhou/Ask-Your-Humans/res/cpts/instr_gen.pt\n"
     ]
    },
    {
     "name": "stderr",
     "output_type": "stream",
     "text": [
      "Epoch: 2, train action loss: 0.747, train lang loss: 3.458, train action acc: 0.726, train bleu: 0.524, train token acc: 0.622: 100%|██████████| 2535/2535 [05:00<00:00,  8.44it/s]\n"
     ]
    },
    {
     "name": "stdout",
     "output_type": "stream",
     "text": [
      "Overall Epoch: 2, train action loss: 0.850, train lang loss: 3.011, train action acc: 0.705, train bleu: 0.525, train token acc: 0.657\n"
     ]
    },
    {
     "name": "stderr",
     "output_type": "stream",
     "text": [
      "Epoch: 2, valid action loss: 0.916, valid lang loss: 2.903, valid acc: 0.766, valid bleu: 0.549, valid token acc: 0.665: 100%|██████████| 634/634 [00:53<00:00, 11.83it/s]\n"
     ]
    },
    {
     "name": "stdout",
     "output_type": "stream",
     "text": [
      "Overall Epoch: 2, valid action loss: 0.902, valid lang loss: 3.236, valid action acc: 0.688, valid bleu: 0.506, valid token acc: 0.607\n",
      "Best Epoch: 2, best valid loss: 0.902\n",
      "Trained model saved at  /google/src/cloud/billzhou/ask_your_human/google3/experimental/users/billzhou/Ask-Your-Humans/res/cpts/instr_gen.pt\n"
     ]
    },
    {
     "name": "stderr",
     "output_type": "stream",
     "text": [
      "Epoch: 3, train action loss: 1.041, train lang loss: 2.472, train action acc: 0.661, train bleu: 0.591, train token acc: 0.749: 100%|██████████| 2535/2535 [05:02<00:00,  8.39it/s]\n"
     ]
    },
    {
     "name": "stdout",
     "output_type": "stream",
     "text": [
      "Overall Epoch: 3, train action loss: 0.829, train lang loss: 3.015, train action acc: 0.714, train bleu: 0.525, train token acc: 0.655\n"
     ]
    },
    {
     "name": "stderr",
     "output_type": "stream",
     "text": [
      "Epoch: 3, valid action loss: 0.685, valid lang loss: 3.435, valid acc: 0.787, valid bleu: 0.513, valid token acc: 0.603: 100%|██████████| 634/634 [00:54<00:00, 11.70it/s]\n"
     ]
    },
    {
     "name": "stdout",
     "output_type": "stream",
     "text": [
      "Overall Epoch: 3, valid action loss: 0.900, valid lang loss: 3.214, valid action acc: 0.695, valid bleu: 0.503, valid token acc: 0.611\n",
      "Best Epoch: 3, best valid loss: 0.900\n",
      "Trained model saved at  /google/src/cloud/billzhou/ask_your_human/google3/experimental/users/billzhou/Ask-Your-Humans/res/cpts/instr_gen.pt\n"
     ]
    },
    {
     "name": "stderr",
     "output_type": "stream",
     "text": [
      "Epoch: 4, train action loss: 0.974, train lang loss: 2.406, train action acc: 0.688, train bleu: 0.574, train token acc: 0.724:  32%|███▏      | 801/2535 [01:35<03:37,  7.99it/s]"
     ]
    }
   ],
   "source": [
    "best_valid_loss = float('inf')\n",
    "valid_epoch, best_epoch = 0, None\n",
    "\n",
    "for epoch in range(instr_config.epochs):\n",
    "    # train\n",
    "    action_loss, lstm_loss, acc, bleu, tk_acc = train(\n",
    "        instr_config.device,\n",
    "        epoch,\n",
    "        train_data_loader,\n",
    "        il_model,\n",
    "        lstm_model,\n",
    "        il_optimizer,\n",
    "        lstm_optimizer,\n",
    "        il_criterion,\n",
    "        lstm_criterion,\n",
    "        il_parameters,\n",
    "        lstm_parameters,\n",
    "        vocab,\n",
    "        summary_writer=writer)\n",
    "    print('Overall Epoch: %d, train action loss: %.3f, train lang loss: %.3f, train action acc: %.3f, train bleu: %.3f, train token acc: %.3f' % (epoch, action_loss, lstm_loss, acc, bleu, tk_acc))\n",
    "    # valid\n",
    "    action_loss, lstm_loss, acc, bleu, tk_acc = validate(\n",
    "        instr_config.device,\n",
    "        epoch,\n",
    "        validation_data_loader,\n",
    "        il_model,\n",
    "        lstm_model,\n",
    "        il_criterion,\n",
    "        lstm_criterion,\n",
    "        vocab,\n",
    "        summary_writer=writer)\n",
    "    print('Overall Epoch: %d, valid action loss: %.3f, valid lang loss: %.3f, valid action acc: %.3f, valid bleu: %.3f, valid token acc: %.3f' % (epoch, action_loss, lstm_loss, acc, bleu, tk_acc))\n",
    "    # early stopping\n",
    "    if action_loss <= best_valid_loss:\n",
    "        best_valid_loss = action_loss\n",
    "        valid_epoch, best_epoch = 0, epoch\n",
    "        torch.save(il_model.state_dict(), instr_config.SAVE_PATH)\n",
    "        print('Best Epoch: %d, best valid loss: %.3f' % (best_epoch, best_valid_loss))\n",
    "        print('Trained model saved at ', instr_config.SAVE_PATH)\n",
    "    else:\n",
    "        valid_epoch += 1\n",
    "        if valid_epoch >= instr_config.valid_patience:\n",
    "            break"
   ]
  }
 ],
 "metadata": {
  "kernelspec": {
   "display_name": "Python 3",
   "language": "python",
   "name": "python3"
  },
  "language_info": {
   "codemirror_mode": {
    "name": "ipython",
    "version": 3
   },
   "file_extension": ".py",
   "mimetype": "text/x-python",
   "name": "python",
   "nbconvert_exporter": "python",
   "pygments_lexer": "ipython3",
   "version": "3.6.13"
  }
 },
 "nbformat": 4,
 "nbformat_minor": 5
}

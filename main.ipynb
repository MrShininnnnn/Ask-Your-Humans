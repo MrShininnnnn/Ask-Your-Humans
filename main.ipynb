{
 "cells": [
  {
   "cell_type": "markdown",
   "id": "33cfb311-121e-44e4-9c73-072fa4f11195",
   "metadata": {},
   "source": [
    "# CS7643 - Final Project"
   ]
  },
  {
   "cell_type": "code",
   "execution_count": 1,
   "id": "60098e1b-b21f-4600-8c58-24f1246b09b2",
   "metadata": {},
   "outputs": [],
   "source": [
    "# built-in\n",
    "from collections import Counter\n",
    "# public\n",
    "import numpy as np\n",
    "import torch\n",
    "from torch.utils.tensorboard import SummaryWriter\n",
    "from torch.utils.data import DataLoader\n",
    "from torch.utils.data.sampler import SubsetRandomSampler\n",
    "# private\n",
    "from config import Config, InstrConfig, ILConfig\n",
    "from src.utils import dataloader, helpers\n",
    "from src.models.instructions_generator_model import InstructionsGeneratorModel\n",
    "from src.trainer import instructions_generator_trainer\n",
    "from src.models.imitation_learning_model import ImitationLearningModel\n",
    "from src.trainer import imitation_learning_trainer\n",
    "from src.models.imitation_learning_generative_language_model import ImitationLearningGenerativeLanguageModel\n",
    "from src.trainer import imitation_learning_generative_language_trainer\n",
    "from src.gamer import game_env\n",
    "\n",
    "%load_ext autoreload \n",
    "%autoreload 2\n",
    "%config Completer.use_jedi = False"
   ]
  },
  {
   "cell_type": "markdown",
   "id": "cc232721-5be3-4bbf-9540-61da89569cf1",
   "metadata": {},
   "source": [
    "# Initialization"
   ]
  },
  {
   "cell_type": "code",
   "execution_count": 2,
   "id": "745d277d-0f18-4e7c-b319-06cd98f8ecc2",
   "metadata": {},
   "outputs": [],
   "source": [
    "config = Config()\n",
    "helpers.set_seed(config.random_seed)"
   ]
  },
  {
   "cell_type": "markdown",
   "id": "7931b4b8-e729-4909-b8db-f8de736ed88d",
   "metadata": {},
   "source": [
    "# Data"
   ]
  },
  {
   "cell_type": "markdown",
   "id": "757fefab-e97f-48f3-b2cc-b1505455244b",
   "metadata": {},
   "source": [
    "## Load Data"
   ]
  },
  {
   "cell_type": "code",
   "execution_count": 3,
   "id": "101e130e-ea81-4527-9770-021eea88c405",
   "metadata": {},
   "outputs": [],
   "source": [
    "# train size 202831\n",
    "# unique number of instructions 35921\n",
    "data = dataloader.load_pkl(workdir=config.DATA_PATH)"
   ]
  },
  {
   "cell_type": "code",
   "execution_count": 4,
   "id": "4ed3357b-a811-4d4d-89c3-f4169b145df6",
   "metadata": {},
   "outputs": [],
   "source": [
    "train_states, train_inventories, train_actions, train_goals, train_instructions, all_instructions = data"
   ]
  },
  {
   "cell_type": "code",
   "execution_count": 5,
   "id": "6c7e72ad-2df3-4d7e-9fa9-7dc66b4aa7f6",
   "metadata": {},
   "outputs": [
    {
     "name": "stdout",
     "output_type": "stream",
     "text": [
      "34\n"
     ]
    }
   ],
   "source": [
    "# remove invalid sample where train instruction is None\n",
    "invalid_index = set([i for i, _ in enumerate(train_instructions) if not _])\n",
    "print(len(invalid_index))"
   ]
  },
  {
   "cell_type": "code",
   "execution_count": 6,
   "id": "94a5c2d0-e887-46a6-9274-a60b0d795ca5",
   "metadata": {},
   "outputs": [
    {
     "name": "stdout",
     "output_type": "stream",
     "text": [
      "202797\n"
     ]
    }
   ],
   "source": [
    "valid_index = [i for i, _ in enumerate(train_instructions) if _]\n",
    "print(len(valid_index))\n",
    "train_states = np.array(train_states)[valid_index].tolist()\n",
    "train_inventories = np.array(train_inventories)[valid_index].tolist()\n",
    "train_actions = np.array(train_actions)[valid_index].tolist()\n",
    "train_instructions = np.array(train_instructions)[valid_index].tolist()"
   ]
  },
  {
   "cell_type": "code",
   "execution_count": 7,
   "id": "1ae104b7-cfaf-4311-913d-e61b1fdebd97",
   "metadata": {},
   "outputs": [
    {
     "name": "stdout",
     "output_type": "stream",
     "text": [
      "Counter({'up': 37842, 'left': 37539, 'down': 37211, 'right': 35955, 'grab': 14583, 'craft': 13064, 'mine': 11701, 'toggle_switch': 7504, 'stop': 7398})\n"
     ]
    },
    {
     "data": {
      "text/plain": [
       "9"
      ]
     },
     "execution_count": 7,
     "metadata": {},
     "output_type": "execute_result"
    }
   ],
   "source": [
    "# action size\n",
    "c = Counter()\n",
    "c.update(train_actions)\n",
    "print(c)\n",
    "len(c)"
   ]
  },
  {
   "cell_type": "markdown",
   "id": "9bb91a46-3798-4c01-8b62-f670147755d7",
   "metadata": {},
   "source": [
    "## Build Vocab"
   ]
  },
  {
   "cell_type": "code",
   "execution_count": 8,
   "id": "ab423b2e-ae6c-4a8c-b0a4-95599f99aae9",
   "metadata": {},
   "outputs": [
    {
     "name": "stdout",
     "output_type": "stream",
     "text": [
      "Total vocabulary size: 212\n"
     ]
    }
   ],
   "source": [
    "vocab, vocab_weights = dataloader.generate_vocab(\n",
    "    all_instructions\n",
    "    , config.device\n",
    "    , workdir=config.DATA_PATH\n",
    "    , cache=config.glove_cache)"
   ]
  },
  {
   "cell_type": "markdown",
   "id": "9059f122-ef72-48d7-b839-1d9c76c9475e",
   "metadata": {},
   "source": [
    "---"
   ]
  },
  {
   "cell_type": "markdown",
   "id": "9892d621-ed15-44e2-9735-f5ee20549826",
   "metadata": {},
   "source": [
    "# Instructions Generator"
   ]
  },
  {
   "cell_type": "markdown",
   "id": "e0d3af4b-4cec-4695-90d9-4e5af2a9916b",
   "metadata": {
    "tags": []
   },
   "source": [
    "## Generate Dataset"
   ]
  },
  {
   "cell_type": "code",
   "execution_count": 9,
   "id": "b081acbc-6671-4a84-aac2-edcdd249f48e",
   "metadata": {},
   "outputs": [
    {
     "name": "stdout",
     "output_type": "stream",
     "text": [
      "0.2\n",
      "321\n"
     ]
    }
   ],
   "source": [
    "instr_config = InstrConfig()\n",
    "print(instr_config.validation_split)\n",
    "print(instr_config.random_seed)"
   ]
  },
  {
   "cell_type": "code",
   "execution_count": 10,
   "id": "db7df324-3ba6-4e7d-a29f-d41bb960d232",
   "metadata": {},
   "outputs": [
    {
     "name": "stdout",
     "output_type": "stream",
     "text": [
      "embedding loaded\n",
      "one hot loaded\n",
      "actions loaded\n",
      "goals loaded\n",
      "done loading dataset\n"
     ]
    }
   ],
   "source": [
    "dataset = dataloader.CraftingDataset(\n",
    "    instr_config.embedding_dim\n",
    "    , train_states\n",
    "    , train_inventories\n",
    "    , train_actions\n",
    "    , train_goals\n",
    "    , train_instructions\n",
    "    , vocab\n",
    "    , cache=instr_config.glove_cache)"
   ]
  },
  {
   "cell_type": "code",
   "execution_count": 11,
   "id": "b8a129d9-dea3-4ef0-a8f9-910141374914",
   "metadata": {},
   "outputs": [
    {
     "data": {
      "text/plain": [
       "3"
      ]
     },
     "execution_count": 11,
     "metadata": {},
     "output_type": "execute_result"
    }
   ],
   "source": [
    "min([len(d[-1]) for d in dataset])"
   ]
  },
  {
   "cell_type": "code",
   "execution_count": 12,
   "id": "9f51a362-1954-469d-91d8-60fdd77808bd",
   "metadata": {},
   "outputs": [],
   "source": [
    "instr_config.dataset_size = len(dataset)"
   ]
  },
  {
   "cell_type": "markdown",
   "id": "e05ab357-1572-4751-98b0-dd5ce83561e0",
   "metadata": {},
   "source": [
    "## Split Dataset"
   ]
  },
  {
   "cell_type": "code",
   "execution_count": 13,
   "id": "968db423-65aa-4254-94c5-c14546b56e6d",
   "metadata": {},
   "outputs": [],
   "source": [
    "indices = list(range(instr_config.dataset_size))\n",
    "split = int(np.floor(instr_config.validation_split * instr_config.dataset_size))\n",
    "np.random.shuffle(indices)\n",
    "train_indices, val_indices = indices[split:], indices[:split]\n",
    "\n",
    "train_sampler = SubsetRandomSampler(train_indices)\n",
    "valid_sampler = SubsetRandomSampler(val_indices)"
   ]
  },
  {
   "cell_type": "markdown",
   "id": "9db73dd1-9524-4742-a61a-345a0cb997d8",
   "metadata": {},
   "source": [
    "## Initialize Data Loader"
   ]
  },
  {
   "cell_type": "code",
   "execution_count": 14,
   "id": "eaf931ff-4f27-4531-bcc6-34b92d9e9bbf",
   "metadata": {},
   "outputs": [],
   "source": [
    "train_data_loader = DataLoader(\n",
    "  dataset,\n",
    "  batch_size=instr_config.batch_size,\n",
    "  num_workers=instr_config.num_workers,\n",
    "  pin_memory=True,\n",
    "  sampler=train_sampler,\n",
    "  collate_fn=dataloader.collate_fn)\n",
    "\n",
    "validation_data_loader = DataLoader(\n",
    "  dataset,\n",
    "  batch_size=instr_config.batch_size,\n",
    "  num_workers=instr_config.num_workers,\n",
    "  pin_memory=True,\n",
    "  sampler=valid_sampler,\n",
    "  collate_fn=dataloader.collate_fn)"
   ]
  },
  {
   "cell_type": "markdown",
   "id": "28ca36b8-d503-4424-ad6e-e98b8a3be5ff",
   "metadata": {},
   "source": [
    "## Setup Training"
   ]
  },
  {
   "cell_type": "code",
   "execution_count": 15,
   "id": "d5c428d5-5bc8-442a-af5e-d76a3a0a12a2",
   "metadata": {},
   "outputs": [],
   "source": [
    "model = InstructionsGeneratorModel(\n",
    "    instr_config.device\n",
    "    , vocab\n",
    "    , instr_config.embedding_dim\n",
    "    , vocab_weights\n",
    ").to(instr_config.device)\n",
    "train = instructions_generator_trainer.train\n",
    "validate = instructions_generator_trainer.validate\n",
    "# CE Loss\n",
    "criterion = torch.nn.CrossEntropyLoss()\n",
    "# Adam\n",
    "parameters = filter(lambda p: p.requires_grad, model.parameters())\n",
    "optimizer = torch.optim.Adam(parameters, lr=instr_config.learning_rate)\n",
    "# Log\n",
    "writer = SummaryWriter() if instr_config.summary_writer else None"
   ]
  },
  {
   "cell_type": "code",
   "execution_count": 23,
   "id": "6df669e9-c757-443f-a750-656f7e2f6077",
   "metadata": {},
   "outputs": [],
   "source": [
    "instr_config.teacher_forcing_rate = 1"
   ]
  },
  {
   "cell_type": "markdown",
   "id": "bc28801e-c3d3-47f3-9df5-1c9ef56f3da3",
   "metadata": {},
   "source": [
    "## GO"
   ]
  },
  {
   "cell_type": "code",
   "execution_count": 24,
   "id": "3b9058ab-899c-42d7-9fbf-878144753789",
   "metadata": {},
   "outputs": [
    {
     "name": "stderr",
     "output_type": "stream",
     "text": [
      "Epoch: 0, train loss: 1.979, train bleu: 0.596, train token acc: 0.768: 100%|██████████| 2535/2535 [04:03<00:00, 10.40it/s]\n"
     ]
    },
    {
     "name": "stdout",
     "output_type": "stream",
     "text": [
      "Overall Epoch: 0, train loss: 2.260, train bleu: 0.600, train token acc: 0.749\n"
     ]
    },
    {
     "name": "stderr",
     "output_type": "stream",
     "text": [
      "Epoch: 0, valid loss: 5.718, valid bleu: 0.229, valid token acc: 0.210: 100%|██████████| 634/634 [01:03<00:00,  9.97it/s]\n"
     ]
    },
    {
     "name": "stdout",
     "output_type": "stream",
     "text": [
      "Overall Epoch: 0, valid loss: 5.865, valid bleu: 0.282, valid token acc: 0.270\n",
      "Best Epoch: 0, valid loss: 5.865, valid bleu: 0.282, valid token acc: 0.270\n",
      "Trained model saved at  /google/src/cloud/billzhou/ask_your_human/google3/experimental/users/billzhou/Ask-Your-Humans/res/cpts/instr_gen.pt\n"
     ]
    },
    {
     "name": "stderr",
     "output_type": "stream",
     "text": [
      "Epoch: 1, train loss: 2.051, train bleu: 0.585, train token acc: 0.743: 100%|██████████| 2535/2535 [04:02<00:00, 10.47it/s]\n"
     ]
    },
    {
     "name": "stdout",
     "output_type": "stream",
     "text": [
      "Overall Epoch: 1, train loss: 2.091, train bleu: 0.624, train token acc: 0.769\n"
     ]
    },
    {
     "name": "stderr",
     "output_type": "stream",
     "text": [
      "Epoch: 1, valid loss: 6.231, valid bleu: 0.301, valid token acc: 0.259: 100%|██████████| 634/634 [01:11<00:00,  8.92it/s]\n"
     ]
    },
    {
     "name": "stdout",
     "output_type": "stream",
     "text": [
      "Overall Epoch: 1, valid loss: 6.102, valid bleu: 0.283, valid token acc: 0.257\n"
     ]
    },
    {
     "name": "stderr",
     "output_type": "stream",
     "text": [
      "Epoch: 2, train loss: 2.066, train bleu: 0.677, train token acc: 0.795: 100%|██████████| 2535/2535 [04:13<00:00, 10.00it/s]\n"
     ]
    },
    {
     "name": "stdout",
     "output_type": "stream",
     "text": [
      "Overall Epoch: 2, train loss: 2.043, train bleu: 0.632, train token acc: 0.775\n"
     ]
    },
    {
     "name": "stderr",
     "output_type": "stream",
     "text": [
      "Epoch: 2, valid loss: 6.161, valid bleu: 0.314, valid token acc: 0.289: 100%|██████████| 634/634 [01:11<00:00,  8.92it/s]\n"
     ]
    },
    {
     "name": "stdout",
     "output_type": "stream",
     "text": [
      "Overall Epoch: 2, valid loss: 6.452, valid bleu: 0.283, valid token acc: 0.248\n"
     ]
    },
    {
     "name": "stderr",
     "output_type": "stream",
     "text": [
      "Epoch: 3, train loss: 2.106, train bleu: 0.684, train token acc: 0.800: 100%|██████████| 2535/2535 [04:12<00:00, 10.03it/s]\n"
     ]
    },
    {
     "name": "stdout",
     "output_type": "stream",
     "text": [
      "Overall Epoch: 3, train loss: 2.016, train bleu: 0.635, train token acc: 0.778\n"
     ]
    },
    {
     "name": "stderr",
     "output_type": "stream",
     "text": [
      "Epoch: 3, valid loss: 6.474, valid bleu: 0.349, valid token acc: 0.286: 100%|██████████| 634/634 [01:14<00:00,  8.51it/s]\n"
     ]
    },
    {
     "name": "stdout",
     "output_type": "stream",
     "text": [
      "Overall Epoch: 3, valid loss: 6.564, valid bleu: 0.287, valid token acc: 0.238\n"
     ]
    },
    {
     "name": "stderr",
     "output_type": "stream",
     "text": [
      "Epoch: 4, train loss: 2.006, train bleu: 0.595, train token acc: 0.770: 100%|██████████| 2535/2535 [04:12<00:00, 10.02it/s]\n"
     ]
    },
    {
     "name": "stdout",
     "output_type": "stream",
     "text": [
      "Overall Epoch: 4, train loss: 1.995, train bleu: 0.639, train token acc: 0.780\n"
     ]
    },
    {
     "name": "stderr",
     "output_type": "stream",
     "text": [
      "Epoch: 4, valid loss: 6.768, valid bleu: 0.231, valid token acc: 0.249: 100%|██████████| 634/634 [01:13<00:00,  8.68it/s]"
     ]
    },
    {
     "name": "stdout",
     "output_type": "stream",
     "text": [
      "Overall Epoch: 4, valid loss: 6.701, valid bleu: 0.284, valid token acc: 0.244\n"
     ]
    },
    {
     "name": "stderr",
     "output_type": "stream",
     "text": [
      "\n"
     ]
    }
   ],
   "source": [
    "best_valid_loss, best_valid_bleu, best_valid_tk_acc = float('inf'), float('inf'), float('inf')\n",
    "valid_epoch, best_epoch = 0, None\n",
    "\n",
    "train_losses = []\n",
    "train_accuracy = []\n",
    "valid_losses = []\n",
    "valid_accuracy = []\n",
    "\n",
    "for epoch in range(instr_config.epochs):\n",
    "    # train\n",
    "    loss, bleu, tk_acc = train(\n",
    "        instr_config.device,\n",
    "        epoch,\n",
    "        train_data_loader,\n",
    "        model,\n",
    "        optimizer,\n",
    "        criterion,\n",
    "        parameters,\n",
    "        vocab,\n",
    "        instr_config,\n",
    "        summary_writer=writer)\n",
    "    print('Overall Epoch: %d, train loss: %.3f, train bleu: %.3f, train token acc: %.3f' % (epoch, loss, bleu, tk_acc))\n",
    "    train_losses.append(loss)\n",
    "    train_accuracy.append(tk_acc)\n",
    "    # valid\n",
    "    loss, bleu, tk_acc = validate(\n",
    "        instr_config.device,\n",
    "        epoch,\n",
    "        validation_data_loader,\n",
    "        model,\n",
    "        criterion,\n",
    "        vocab,\n",
    "        summary_writer=writer)\n",
    "    valid_losses.append(loss)\n",
    "    valid_accuracy.append(tk_acc)\n",
    "    print('Overall Epoch: %d, valid loss: %.3f, valid bleu: %.3f, valid token acc: %.3f' % (epoch, loss, bleu, tk_acc))\n",
    "    # early stopping\n",
    "    if loss <= best_valid_loss:\n",
    "        best_valid_loss, best_valid_bleu, best_valid_tk_acc = loss, bleu, tk_acc\n",
    "        valid_epoch, best_epoch = 0, epoch\n",
    "        torch.save(model.state_dict(), instr_config.SAVE_PATH)\n",
    "        print('Best Epoch: %d, valid loss: %.3f, valid bleu: %.3f, valid token acc: %.3f' \\\n",
    "              % (best_epoch, best_valid_loss, best_valid_bleu, best_valid_tk_acc))\n",
    "        print('Trained model saved at ', instr_config.SAVE_PATH)\n",
    "    else:\n",
    "        valid_epoch += 1\n",
    "        if valid_epoch >= instr_config.valid_patience:\n",
    "            break"
   ]
  },
  {
   "cell_type": "code",
   "execution_count": 25,
   "id": "7ff31e0f-f884-4cd1-94c6-08a3c0666d3e",
   "metadata": {},
   "outputs": [
    {
     "data": {
      "image/png": "[encoded data removed]",
      "text/plain": [
       "<Figure size 1800x900 with 2 Axes>"
      ]
     },
     "metadata": {
      "needs_background": "light"
     },
     "output_type": "display_data"
    }
   ],
   "source": [
    "import matplotlib.pyplot as plt\n",
    "plt.rcParams.update({'font.size': 28})\n",
    "\n",
    "fig, axes = plt.subplots(nrows=1, ncols=2, figsize=(18, 9), dpi=100)\n",
    "plot1 = axes[0].plot(range(len(train_losses)), train_losses, marker='o', label='Train')\n",
    "plot1 = axes[0].plot(range(len(train_losses)), valid_losses, marker='x', label='Valid')\n",
    "\n",
    "plot2 = axes[1].plot(range(len(train_accuracy)), train_accuracy, marker='o', label='Train')\n",
    "plot2 = axes[1].plot(range(len(train_accuracy)), valid_accuracy, marker='x', label='Valid')\n",
    "\n",
    "ylabels = ['Loss', 'Accuracy']\n",
    "for i in range(2):\n",
    "    axes[i].legend()\n",
    "    axes[i].set_xticks([y for y in range(len(train_losses))])\n",
    "    axes[i].set_ylabel(ylabels[i])\n",
    "    axes[i].set_xlabel('Epoch')\n",
    "    axes[i].yaxis.grid(True)\n",
    "    \n",
    "fig.savefig('instructions_generator_1_0_teacher_forcing.png')"
   ]
  },
  {
   "cell_type": "markdown",
   "id": "c1a06cd7-78f0-4102-8a8a-e9507144b550",
   "metadata": {},
   "source": [
    "---"
   ]
  },
  {
   "cell_type": "markdown",
   "id": "efa6c16b-dc46-40c7-90a3-5035d851aad3",
   "metadata": {},
   "source": [
    "# Reinforcement Learning (RL) - Pre-training"
   ]
  },
  {
   "cell_type": "markdown",
   "id": "bf82dc83-a584-4026-a6a3-951b5cd51e47",
   "metadata": {},
   "source": [
    "## Common Imitation Learning (IL) Setup"
   ]
  },
  {
   "cell_type": "markdown",
   "id": "9551712b-81d0-4dc0-b703-2f7621ba3d19",
   "metadata": {},
   "source": [
    "### Initialization"
   ]
  },
  {
   "cell_type": "code",
   "execution_count": 31,
   "id": "2aeb98fd-c7de-4ce9-9af6-312ae2b1650d",
   "metadata": {},
   "outputs": [],
   "source": [
    "il_config = ILConfig()\n",
    "il_config.random_seed = 321\n",
    "il_config.validation_split = 0.2\n",
    "il_config.epochs = 20"
   ]
  },
  {
   "cell_type": "markdown",
   "id": "cc52f993-1314-4711-ab5a-7cf3d8558cc6",
   "metadata": {},
   "source": [
    "### Generate Dataset"
   ]
  },
  {
   "cell_type": "code",
   "execution_count": 32,
   "id": "302f7d41-c854-4f64-8436-fadb8136df92",
   "metadata": {},
   "outputs": [
    {
     "name": "stdout",
     "output_type": "stream",
     "text": [
      "embedding loaded\n",
      "one hot loaded\n",
      "actions loaded\n",
      "goals loaded\n",
      "done loading dataset\n"
     ]
    }
   ],
   "source": [
    "dataset = dataloader.CraftingDataset(\n",
    "  il_config.embedding_dim,\n",
    "  train_states,\n",
    "  train_inventories,\n",
    "  train_actions,\n",
    "  train_goals,\n",
    "  train_instructions,\n",
    "  vocab,\n",
    "  cache=config.glove_cache)"
   ]
  },
  {
   "cell_type": "code",
   "execution_count": 33,
   "id": "45e4a785-1a93-4d67-99b1-ec5d9b46e093",
   "metadata": {},
   "outputs": [],
   "source": [
    "il_config.dataset_size = len(dataset)"
   ]
  },
  {
   "cell_type": "markdown",
   "id": "36a213df-5b08-4a5c-a014-fbd7ed221dd6",
   "metadata": {},
   "source": [
    "### Split Dataset"
   ]
  },
  {
   "cell_type": "code",
   "execution_count": 34,
   "id": "bd5a9c1d-787e-4193-b742-2c83344940f7",
   "metadata": {},
   "outputs": [],
   "source": [
    "indices = list(range(il_config.dataset_size))\n",
    "split = int(np.floor(il_config.validation_split * il_config.dataset_size))\n",
    "np.random.shuffle(indices)\n",
    "train_indices, val_indices = indices[split:], indices[:split]\n",
    "\n",
    "train_sampler = SubsetRandomSampler(train_indices)\n",
    "valid_sampler = SubsetRandomSampler(val_indices)"
   ]
  },
  {
   "cell_type": "markdown",
   "id": "24bf1b43-019a-4ede-93c7-04d9edf23f04",
   "metadata": {},
   "source": [
    "### Initialize Data Loader"
   ]
  },
  {
   "cell_type": "code",
   "execution_count": 35,
   "id": "d0212dfa-91f6-4e26-8828-590b4533a890",
   "metadata": {},
   "outputs": [],
   "source": [
    "train_data_loader = DataLoader(\n",
    "  dataset,\n",
    "  batch_size=il_config.batch_size,\n",
    "  num_workers=il_config.num_workers,\n",
    "  pin_memory=True,\n",
    "  sampler=train_sampler,\n",
    "  collate_fn=dataloader.collate_fn)\n",
    "\n",
    "validation_data_loader = DataLoader(\n",
    "  dataset,\n",
    "  batch_size=il_config.batch_size,\n",
    "  num_workers=il_config.num_workers,\n",
    "  pin_memory=True,\n",
    "  sampler=valid_sampler,\n",
    "  collate_fn=dataloader.collate_fn)"
   ]
  },
  {
   "cell_type": "markdown",
   "id": "12d514bd-ccbc-4216-a765-cc1c285e86fa",
   "metadata": {},
   "source": [
    "## Vanilla Imitation Learning"
   ]
  },
  {
   "cell_type": "markdown",
   "id": "6ae45374-892c-459f-a27a-b461042c96d1",
   "metadata": {},
   "source": [
    "### Setup"
   ]
  },
  {
   "cell_type": "code",
   "execution_count": 17,
   "id": "c978005c-72d3-45a9-8272-d065debcf087",
   "metadata": {},
   "outputs": [],
   "source": [
    "model = ImitationLearningModel(il_config).to(il_config.device)\n",
    "train = imitation_learning_trainer.train\n",
    "validate = imitation_learning_trainer.validate\n",
    "validate_game = imitation_learning_trainer.validate_game\n",
    "# CE Loss\n",
    "criterion = torch.nn.CrossEntropyLoss()\n",
    "# Adam\n",
    "optimizer = torch.optim.Adam(model.parameters(), lr=il_config.learning_rate)\n",
    "# Log\n",
    "writer = SummaryWriter() if il_config.summary_writer else None"
   ]
  },
  {
   "cell_type": "markdown",
   "id": "89cf3f22-8555-4c01-b68b-105856066f0a",
   "metadata": {},
   "source": [
    "### GO"
   ]
  },
  {
   "cell_type": "code",
   "execution_count": 18,
   "id": "38447ddb-8669-4bf3-8b0a-b47f7ee62fe1",
   "metadata": {},
   "outputs": [
    {
     "name": "stderr",
     "output_type": "stream",
     "text": [
      "Epoch: 0, train loss: 0.895, train accuracy: 0.710: 100%|██████████| 2535/2535 [00:41<00:00, 61.51it/s]\n"
     ]
    },
    {
     "name": "stdout",
     "output_type": "stream",
     "text": [
      "Overall Epoch: 0, train loss: 1.268, train accuracy: 0.512\n"
     ]
    },
    {
     "name": "stderr",
     "output_type": "stream",
     "text": [
      "Epoch: 0, valid loss: 0.909, valid accuracy: 0.617: 100%|██████████| 634/634 [00:06<00:00, 91.87it/s] \n",
      "100%|██████████| 15/15 [00:04<00:00,  3.58it/s]\n"
     ]
    },
    {
     "name": "stdout",
     "output_type": "stream",
     "text": [
      "Overall Epoch: 0, valid loss: 1.029, valid accuracy: 0.621, valid sum rewards: 1.000\n",
      "Best Epoch: 0, valid loss: 1.029, valid accuracy: 0.621, valid sum rewards: 1.000\n",
      "Trained model saved at  /google/src/cloud/billzhou/ask_your_human/google3/experimental/users/billzhou/Ask-Your-Humans/res/cpts/IL.pt\n"
     ]
    },
    {
     "name": "stderr",
     "output_type": "stream",
     "text": [
      "Epoch: 1, train loss: 1.005, train accuracy: 0.677: 100%|██████████| 2535/2535 [00:39<00:00, 64.96it/s]\n"
     ]
    },
    {
     "name": "stdout",
     "output_type": "stream",
     "text": [
      "Overall Epoch: 1, train loss: 0.983, train accuracy: 0.635\n"
     ]
    },
    {
     "name": "stderr",
     "output_type": "stream",
     "text": [
      "Epoch: 1, valid loss: 0.936, valid accuracy: 0.660: 100%|██████████| 634/634 [00:06<00:00, 97.71it/s] \n",
      "100%|██████████| 15/15 [00:04<00:00,  3.56it/s]\n"
     ]
    },
    {
     "name": "stdout",
     "output_type": "stream",
     "text": [
      "Overall Epoch: 1, valid loss: 0.959, valid accuracy: 0.642, valid sum rewards: 1.000\n",
      "Best Epoch: 1, valid loss: 0.959, valid accuracy: 0.642, valid sum rewards: 1.000\n",
      "Trained model saved at  /google/src/cloud/billzhou/ask_your_human/google3/experimental/users/billzhou/Ask-Your-Humans/res/cpts/IL.pt\n"
     ]
    },
    {
     "name": "stderr",
     "output_type": "stream",
     "text": [
      "Epoch: 2, train loss: 0.819, train accuracy: 0.694: 100%|██████████| 2535/2535 [00:39<00:00, 63.82it/s]\n"
     ]
    },
    {
     "name": "stdout",
     "output_type": "stream",
     "text": [
      "Overall Epoch: 2, train loss: 0.904, train accuracy: 0.664\n"
     ]
    },
    {
     "name": "stderr",
     "output_type": "stream",
     "text": [
      "Epoch: 2, valid loss: 0.685, valid accuracy: 0.766: 100%|██████████| 634/634 [00:06<00:00, 95.33it/s] \n",
      "100%|██████████| 15/15 [00:04<00:00,  3.58it/s]\n"
     ]
    },
    {
     "name": "stdout",
     "output_type": "stream",
     "text": [
      "Overall Epoch: 2, valid loss: 0.898, valid accuracy: 0.668, valid sum rewards: 1.000\n",
      "Best Epoch: 2, valid loss: 0.898, valid accuracy: 0.668, valid sum rewards: 1.000\n",
      "Trained model saved at  /google/src/cloud/billzhou/ask_your_human/google3/experimental/users/billzhou/Ask-Your-Humans/res/cpts/IL.pt\n"
     ]
    },
    {
     "name": "stderr",
     "output_type": "stream",
     "text": [
      "Epoch: 3, train loss: 0.943, train accuracy: 0.629: 100%|██████████| 2535/2535 [00:41<00:00, 61.28it/s]\n"
     ]
    },
    {
     "name": "stdout",
     "output_type": "stream",
     "text": [
      "Overall Epoch: 3, train loss: 0.840, train accuracy: 0.692\n"
     ]
    },
    {
     "name": "stderr",
     "output_type": "stream",
     "text": [
      "Epoch: 3, valid loss: 1.144, valid accuracy: 0.574: 100%|██████████| 634/634 [00:07<00:00, 89.63it/s] \n",
      "100%|██████████| 15/15 [00:04<00:00,  3.62it/s]\n"
     ]
    },
    {
     "name": "stdout",
     "output_type": "stream",
     "text": [
      "Overall Epoch: 3, valid loss: 0.877, valid accuracy: 0.677, valid sum rewards: 1.000\n",
      "Best Epoch: 3, valid loss: 0.877, valid accuracy: 0.677, valid sum rewards: 1.000\n",
      "Trained model saved at  /google/src/cloud/billzhou/ask_your_human/google3/experimental/users/billzhou/Ask-Your-Humans/res/cpts/IL.pt\n"
     ]
    },
    {
     "name": "stderr",
     "output_type": "stream",
     "text": [
      "Epoch: 4, train loss: 0.752, train accuracy: 0.726: 100%|██████████| 2535/2535 [00:43<00:00, 58.89it/s]\n"
     ]
    },
    {
     "name": "stdout",
     "output_type": "stream",
     "text": [
      "Overall Epoch: 4, train loss: 0.778, train accuracy: 0.719\n"
     ]
    },
    {
     "name": "stderr",
     "output_type": "stream",
     "text": [
      "Epoch: 4, valid loss: 0.786, valid accuracy: 0.681: 100%|██████████| 634/634 [00:07<00:00, 88.98it/s] \n",
      "100%|██████████| 15/15 [00:04<00:00,  3.73it/s]\n"
     ]
    },
    {
     "name": "stdout",
     "output_type": "stream",
     "text": [
      "Overall Epoch: 4, valid loss: 0.845, valid accuracy: 0.695, valid sum rewards: 1.000\n",
      "Best Epoch: 4, valid loss: 0.845, valid accuracy: 0.695, valid sum rewards: 1.000\n",
      "Trained model saved at  /google/src/cloud/billzhou/ask_your_human/google3/experimental/users/billzhou/Ask-Your-Humans/res/cpts/IL.pt\n"
     ]
    },
    {
     "name": "stderr",
     "output_type": "stream",
     "text": [
      "Epoch: 5, train loss: 0.896, train accuracy: 0.613: 100%|██████████| 2535/2535 [00:42<00:00, 60.21it/s]\n"
     ]
    },
    {
     "name": "stdout",
     "output_type": "stream",
     "text": [
      "Overall Epoch: 5, train loss: 0.723, train accuracy: 0.738\n"
     ]
    },
    {
     "name": "stderr",
     "output_type": "stream",
     "text": [
      "Epoch: 5, valid loss: 0.819, valid accuracy: 0.723: 100%|██████████| 634/634 [00:06<00:00, 92.70it/s] \n",
      "100%|██████████| 15/15 [00:04<00:00,  3.56it/s]\n"
     ]
    },
    {
     "name": "stdout",
     "output_type": "stream",
     "text": [
      "Overall Epoch: 5, valid loss: 0.830, valid accuracy: 0.703, valid sum rewards: 1.000\n",
      "Best Epoch: 5, valid loss: 0.830, valid accuracy: 0.703, valid sum rewards: 1.000\n",
      "Trained model saved at  /google/src/cloud/billzhou/ask_your_human/google3/experimental/users/billzhou/Ask-Your-Humans/res/cpts/IL.pt\n"
     ]
    },
    {
     "name": "stderr",
     "output_type": "stream",
     "text": [
      "Epoch: 6, train loss: 0.595, train accuracy: 0.823: 100%|██████████| 2535/2535 [00:41<00:00, 60.99it/s]\n"
     ]
    },
    {
     "name": "stdout",
     "output_type": "stream",
     "text": [
      "Overall Epoch: 6, train loss: 0.676, train accuracy: 0.755\n"
     ]
    },
    {
     "name": "stderr",
     "output_type": "stream",
     "text": [
      "Epoch: 6, valid loss: 1.058, valid accuracy: 0.702: 100%|██████████| 634/634 [00:06<00:00, 93.30it/s] \n",
      "100%|██████████| 15/15 [00:04<00:00,  3.69it/s]\n"
     ]
    },
    {
     "name": "stdout",
     "output_type": "stream",
     "text": [
      "Overall Epoch: 6, valid loss: 0.818, valid accuracy: 0.711, valid sum rewards: 1.000\n",
      "Best Epoch: 6, valid loss: 0.818, valid accuracy: 0.711, valid sum rewards: 1.000\n",
      "Trained model saved at  /google/src/cloud/billzhou/ask_your_human/google3/experimental/users/billzhou/Ask-Your-Humans/res/cpts/IL.pt\n"
     ]
    },
    {
     "name": "stderr",
     "output_type": "stream",
     "text": [
      "Epoch: 7, train loss: 0.715, train accuracy: 0.742: 100%|██████████| 2535/2535 [00:42<00:00, 60.34it/s]\n"
     ]
    },
    {
     "name": "stdout",
     "output_type": "stream",
     "text": [
      "Overall Epoch: 7, train loss: 0.634, train accuracy: 0.768\n"
     ]
    },
    {
     "name": "stderr",
     "output_type": "stream",
     "text": [
      "Epoch: 7, valid loss: 0.910, valid accuracy: 0.638: 100%|██████████| 634/634 [00:07<00:00, 88.93it/s]\n",
      "100%|██████████| 15/15 [00:04<00:00,  3.59it/s]\n"
     ]
    },
    {
     "name": "stdout",
     "output_type": "stream",
     "text": [
      "Overall Epoch: 7, valid loss: 0.822, valid accuracy: 0.710, valid sum rewards: 1.000\n"
     ]
    },
    {
     "name": "stderr",
     "output_type": "stream",
     "text": [
      "Epoch: 8, train loss: 0.545, train accuracy: 0.758: 100%|██████████| 2535/2535 [00:42<00:00, 60.08it/s]\n"
     ]
    },
    {
     "name": "stdout",
     "output_type": "stream",
     "text": [
      "Overall Epoch: 8, train loss: 0.598, train accuracy: 0.780\n"
     ]
    },
    {
     "name": "stderr",
     "output_type": "stream",
     "text": [
      "Epoch: 8, valid loss: 0.799, valid accuracy: 0.723: 100%|██████████| 634/634 [00:07<00:00, 89.58it/s]\n",
      "100%|██████████| 15/15 [00:03<00:00,  3.97it/s]\n"
     ]
    },
    {
     "name": "stdout",
     "output_type": "stream",
     "text": [
      "Overall Epoch: 8, valid loss: 0.828, valid accuracy: 0.710, valid sum rewards: 2.000\n"
     ]
    },
    {
     "name": "stderr",
     "output_type": "stream",
     "text": [
      "Epoch: 9, train loss: 0.716, train accuracy: 0.694: 100%|██████████| 2535/2535 [00:42<00:00, 59.71it/s]\n"
     ]
    },
    {
     "name": "stdout",
     "output_type": "stream",
     "text": [
      "Overall Epoch: 9, train loss: 0.565, train accuracy: 0.790\n"
     ]
    },
    {
     "name": "stderr",
     "output_type": "stream",
     "text": [
      "Epoch: 9, valid loss: 1.167, valid accuracy: 0.638: 100%|██████████| 634/634 [00:06<00:00, 91.07it/s] \n",
      "100%|██████████| 15/15 [00:03<00:00,  3.89it/s]\n"
     ]
    },
    {
     "name": "stdout",
     "output_type": "stream",
     "text": [
      "Overall Epoch: 9, valid loss: 0.856, valid accuracy: 0.707, valid sum rewards: 2.000\n"
     ]
    },
    {
     "name": "stderr",
     "output_type": "stream",
     "text": [
      "Epoch: 10, train loss: 0.547, train accuracy: 0.823: 100%|██████████| 2535/2535 [00:42<00:00, 59.71it/s]\n"
     ]
    },
    {
     "name": "stdout",
     "output_type": "stream",
     "text": [
      "Overall Epoch: 10, train loss: 0.538, train accuracy: 0.797\n"
     ]
    },
    {
     "name": "stderr",
     "output_type": "stream",
     "text": [
      "Epoch: 10, valid loss: 0.838, valid accuracy: 0.681: 100%|██████████| 634/634 [00:07<00:00, 85.50it/s] \n",
      "100%|██████████| 15/15 [00:03<00:00,  3.89it/s]"
     ]
    },
    {
     "name": "stdout",
     "output_type": "stream",
     "text": [
      "Overall Epoch: 10, valid loss: 0.841, valid accuracy: 0.712, valid sum rewards: 2.000\n"
     ]
    },
    {
     "name": "stderr",
     "output_type": "stream",
     "text": [
      "\n"
     ]
    }
   ],
   "source": [
    "best_valid_loss, best_valid_acc, best_valid_reward= float('inf'), float('inf'), float('inf')\n",
    "valid_epoch, best_epoch = 0, None\n",
    "\n",
    "for epoch in range(il_config.epochs):\n",
    "    # train\n",
    "    loss, accuracy = train(epoch, train_data_loader, model, optimizer, criterion, il_config, summary_writer=writer)\n",
    "    print('Overall Epoch: %d, train loss: %.3f, train accuracy: %.3f' % (epoch, loss, accuracy))\n",
    "    # valid\n",
    "    loss, accuracy = validate(epoch, validation_data_loader, model, criterion, il_config, summary_writer=writer)\n",
    "    # valid game\n",
    "    sum_rewards = validate_game(epoch, model, il_config, cache=config.glove_cache)\n",
    "    print('Overall Epoch: %d, valid loss: %.3f, valid accuracy: %.3f, valid sum rewards: %.3f' % (epoch, loss, accuracy, sum_rewards))\n",
    "    # early stopping\n",
    "    if loss <= best_valid_loss:\n",
    "        best_valid_loss, best_valid_acc, best_valid_reward = loss, accuracy, sum_rewards\n",
    "        valid_epoch, best_epoch = 0, epoch\n",
    "        torch.save(model.state_dict(), il_config.SAVE_PATH)\n",
    "        print('Best Epoch: %d, valid loss: %.3f, valid accuracy: %.3f, valid sum rewards: %.3f' \\\n",
    "              % (best_epoch, best_valid_loss, best_valid_acc, best_valid_reward))\n",
    "        print('Trained model saved at ', il_config.SAVE_PATH)\n",
    "    else:\n",
    "        valid_epoch += 1\n",
    "        if valid_epoch >= il_config.valid_patience:\n",
    "            break"
   ]
  },
  {
   "cell_type": "code",
   "execution_count": 17,
   "id": "4b65eef8-5a59-4914-a699-4b2e878a37b8",
   "metadata": {},
   "outputs": [],
   "source": [
    "train_losses = [1.268, 0.983, 0.904, 0.840, 0.778, 0.723, 0.676, 0.634, 0.598, 0.565, 0.538]\n",
    "valid_losses = [1.029, 0.959, 0.898, 0.877, 0.845, 0.830, 0.818, 0.822, 0.828, 0.856, 0.841]\n",
    "train_accuracy = [0.512, 0.635, 0.664, 0.692, 0.719, 0.738, 0.755, 0.768, 0.780, 0.790, 0.797]\n",
    "valid_accuracy = [0.621, 0.642, 0.668, 0.677, 0.695, 0.703, 0.711, 0.710, 0.710, 0.707, 0.712]"
   ]
  },
  {
   "cell_type": "code",
   "execution_count": 18,
   "id": "21205dfb-bf6a-485b-ab28-b430bbc6b2bf",
   "metadata": {},
   "outputs": [
    {
     "data": {
      "image/png": "[encoded data removed]",
      "text/plain": [
       "<Figure size 1800x900 with 2 Axes>"
      ]
     },
     "metadata": {
      "needs_background": "light"
     },
     "output_type": "display_data"
    }
   ],
   "source": [
    "import matplotlib.pyplot as plt\n",
    "plt.rcParams.update({'font.size': 28})\n",
    "\n",
    "fig, axes = plt.subplots(nrows=1, ncols=2, figsize=(18, 9), dpi=100)\n",
    "plot1 = axes[0].plot(range(len(train_losses)), train_losses, marker='o', label='Train')\n",
    "plot1 = axes[0].plot(range(len(train_losses)), valid_losses, marker='x', label='Valid')\n",
    "\n",
    "plot2 = axes[1].plot(range(len(train_accuracy)), train_accuracy, marker='o', label='Train')\n",
    "plot2 = axes[1].plot(range(len(train_accuracy)), valid_accuracy, marker='x', label='Valid')\n",
    "\n",
    "ylabels = ['Loss', 'Accuracy']\n",
    "for i in range(2):\n",
    "    axes[i].legend()\n",
    "    axes[i].set_xticks([y for y in range(len(train_losses))])\n",
    "    axes[i].set_ylabel(ylabels[i])\n",
    "    axes[i].set_xlabel('Epoch')\n",
    "    axes[i].yaxis.grid(True)\n",
    "    \n",
    "fig.savefig('instructions_generator_0_5_teacher_forcing.png')"
   ]
  },
  {
   "cell_type": "markdown",
   "id": "e87c29df-ae30-451d-8128-b294544e0a42",
   "metadata": {},
   "source": [
    "## IL with Instructions"
   ]
  },
  {
   "cell_type": "markdown",
   "id": "46931fbb-11d7-42df-9702-11a30e4762c0",
   "metadata": {},
   "source": [
    "### Set up"
   ]
  },
  {
   "cell_type": "code",
   "execution_count": 23,
   "id": "596b2a34-1d71-4a19-b368-73a77643ffeb",
   "metadata": {},
   "outputs": [],
   "source": [
    "il_config.random_seed = 321\n",
    "il_config.validation_split = 0.2\n",
    "il_config."
   ]
  },
  {
   "cell_type": "code",
   "execution_count": 36,
   "id": "8655fc7f-6fab-4347-b08a-01d45697f46f",
   "metadata": {},
   "outputs": [],
   "source": [
    "train = imitation_learning_generative_language_trainer.train\n",
    "validate = imitation_learning_generative_language_trainer.validate\n",
    "validate_game = imitation_learning_generative_language_trainer.validate_game\n",
    "\n",
    "instr_config = InstrConfig()\n",
    "lstm_model = InstructionsGeneratorModel(\n",
    "    instr_config.device\n",
    "    , vocab\n",
    "    , instr_config.embedding_dim\n",
    "    , vocab_weights\n",
    ").to(instr_config.device)\n",
    "il_model = ImitationLearningGenerativeLanguageModel(il_config).to(il_config.device)\n",
    "\n",
    "# CE Loss\n",
    "lstm_criterion = torch.nn.CrossEntropyLoss()\n",
    "il_criterion = torch.nn.CrossEntropyLoss()\n",
    "\n",
    "# Adam\n",
    "lstm_optimizer = torch.optim.Adam(lstm_model.parameters(), lr=il_config.learning_rate)\n",
    "il_optimizer = torch.optim.Adam(il_model.parameters(), lr=il_config.learning_rate)\n",
    "\n",
    "# Log\n",
    "writer = SummaryWriter() if il_config.summary_writer else None"
   ]
  },
  {
   "cell_type": "markdown",
   "id": "96535f9e-8f24-40e3-bf9b-3c690d25d37f",
   "metadata": {},
   "source": [
    "### Go"
   ]
  },
  {
   "cell_type": "code",
   "execution_count": 37,
   "id": "88aa0d5a-aa26-490f-8253-fdf8d4f7cd69",
   "metadata": {},
   "outputs": [
    {
     "name": "stderr",
     "output_type": "stream",
     "text": [
      "Epoch: 0, train action loss: 1.030, train lang loss: 2.834, train action acc: 0.597, train bleu: 0.560, train token acc: 0.690: 100%|██████████| 2535/2535 [04:26<00:00,  9.51it/s]\n"
     ]
    },
    {
     "name": "stdout",
     "output_type": "stream",
     "text": [
      "Overall Epoch: 0, train loss: 1.231, train accuracy: 0.527, train lstm loss: 3.563, train bleu: 0.481, train token acc: 0.608\n"
     ]
    },
    {
     "name": "stderr",
     "output_type": "stream",
     "text": [
      "Epoch: 0, valid action loss: 1.154, valid lang loss: 4.347, valid action acc: 0.617, valid bleu: 0.306, valid token acc: 0.314: 100%|██████████| 634/634 [01:02<00:00, 10.09it/s]\n",
      "100%|██████████| 15/15 [00:20<00:00,  1.35s/it]\n"
     ]
    },
    {
     "name": "stdout",
     "output_type": "stream",
     "text": [
      "Overall Epoch: 0, valid loss: 1.077, valid accuracy: 0.601, valid lstm loss: 4.460, valid bleu: 0.280, valid token acc: 0.293, valid sum rewards: 2.000\n",
      "Best Epoch: 0, valid loss: 1.077, valid accuracy: 0.601, valid sum rewards: 2.000\n",
      "Trained model saved at  /google/src/cloud/billzhou/ask_your_human/google3/experimental/users/billzhou/Ask-Your-Humans/res/cpts/IL.pt\n"
     ]
    },
    {
     "name": "stderr",
     "output_type": "stream",
     "text": [
      "Epoch: 1, train action loss: 0.816, train lang loss: 2.518, train action acc: 0.661, train bleu: 0.569, train token acc: 0.727: 100%|██████████| 2535/2535 [04:31<00:00,  9.35it/s]\n"
     ]
    },
    {
     "name": "stdout",
     "output_type": "stream",
     "text": [
      "Overall Epoch: 1, train loss: 0.934, train accuracy: 0.657, train lstm loss: 3.183, train bleu: 0.506, train token acc: 0.637\n"
     ]
    },
    {
     "name": "stderr",
     "output_type": "stream",
     "text": [
      "Epoch: 1, valid action loss: 0.820, valid lang loss: 4.513, valid action acc: 0.702, valid bleu: 0.227, valid token acc: 0.264: 100%|██████████| 634/634 [01:03<00:00, 10.06it/s]\n",
      "100%|██████████| 15/15 [00:20<00:00,  1.40s/it]\n"
     ]
    },
    {
     "name": "stdout",
     "output_type": "stream",
     "text": [
      "Overall Epoch: 1, valid loss: 1.009, valid accuracy: 0.624, valid lstm loss: 4.532, valid bleu: 0.281, valid token acc: 0.297, valid sum rewards: 1.000\n",
      "Best Epoch: 1, valid loss: 1.009, valid accuracy: 0.624, valid sum rewards: 1.000\n",
      "Trained model saved at  /google/src/cloud/billzhou/ask_your_human/google3/experimental/users/billzhou/Ask-Your-Humans/res/cpts/IL.pt\n"
     ]
    },
    {
     "name": "stderr",
     "output_type": "stream",
     "text": [
      "Epoch: 2, train action loss: 0.802, train lang loss: 2.615, train action acc: 0.710, train bleu: 0.622, train token acc: 0.749: 100%|██████████| 2535/2535 [04:30<00:00,  9.38it/s]\n"
     ]
    },
    {
     "name": "stdout",
     "output_type": "stream",
     "text": [
      "Overall Epoch: 2, train loss: 0.849, train accuracy: 0.686, train lstm loss: 3.106, train bleu: 0.513, train token acc: 0.644\n"
     ]
    },
    {
     "name": "stderr",
     "output_type": "stream",
     "text": [
      "Epoch: 2, valid action loss: 0.977, valid lang loss: 4.536, valid action acc: 0.638, valid bleu: 0.238, valid token acc: 0.259: 100%|██████████| 634/634 [01:02<00:00, 10.19it/s]\n",
      "100%|██████████| 15/15 [00:19<00:00,  1.32s/it]\n"
     ]
    },
    {
     "name": "stdout",
     "output_type": "stream",
     "text": [
      "Overall Epoch: 2, valid loss: 0.969, valid accuracy: 0.638, valid lstm loss: 4.547, valid bleu: 0.284, valid token acc: 0.298, valid sum rewards: 2.000\n",
      "Best Epoch: 2, valid loss: 0.969, valid accuracy: 0.638, valid sum rewards: 2.000\n",
      "Trained model saved at  /google/src/cloud/billzhou/ask_your_human/google3/experimental/users/billzhou/Ask-Your-Humans/res/cpts/IL.pt\n"
     ]
    },
    {
     "name": "stderr",
     "output_type": "stream",
     "text": [
      "Epoch: 3, train action loss: 0.613, train lang loss: 2.723, train action acc: 0.742, train bleu: 0.570, train token acc: 0.716: 100%|██████████| 2535/2535 [04:28<00:00,  9.45it/s]\n"
     ]
    },
    {
     "name": "stdout",
     "output_type": "stream",
     "text": [
      "Overall Epoch: 3, train loss: 0.777, train accuracy: 0.711, train lstm loss: 3.039, train bleu: 0.520, train token acc: 0.652\n"
     ]
    },
    {
     "name": "stderr",
     "output_type": "stream",
     "text": [
      "Epoch: 3, valid action loss: 0.726, valid lang loss: 4.706, valid action acc: 0.766, valid bleu: 0.209, valid token acc: 0.234: 100%|██████████| 634/634 [01:04<00:00,  9.77it/s]\n",
      "100%|██████████| 15/15 [00:16<00:00,  1.10s/it]\n"
     ]
    },
    {
     "name": "stdout",
     "output_type": "stream",
     "text": [
      "Overall Epoch: 3, valid loss: 0.938, valid accuracy: 0.662, valid lstm loss: 4.541, valid bleu: 0.283, valid token acc: 0.291, valid sum rewards: 4.000\n",
      "Best Epoch: 3, valid loss: 0.938, valid accuracy: 0.662, valid sum rewards: 4.000\n",
      "Trained model saved at  /google/src/cloud/billzhou/ask_your_human/google3/experimental/users/billzhou/Ask-Your-Humans/res/cpts/IL.pt\n"
     ]
    },
    {
     "name": "stderr",
     "output_type": "stream",
     "text": [
      "Epoch: 4, train action loss: 0.784, train lang loss: 3.579, train action acc: 0.661, train bleu: 0.541, train token acc: 0.620: 100%|██████████| 2535/2535 [04:30<00:00,  9.36it/s]\n"
     ]
    },
    {
     "name": "stdout",
     "output_type": "stream",
     "text": [
      "Overall Epoch: 4, train loss: 0.708, train accuracy: 0.740, train lstm loss: 3.014, train bleu: 0.523, train token acc: 0.654\n"
     ]
    },
    {
     "name": "stderr",
     "output_type": "stream",
     "text": [
      "Epoch: 4, valid action loss: 1.032, valid lang loss: 4.649, valid action acc: 0.660, valid bleu: 0.274, valid token acc: 0.284: 100%|██████████| 634/634 [01:07<00:00,  9.40it/s]\n",
      "100%|██████████| 15/15 [00:19<00:00,  1.28s/it]\n"
     ]
    },
    {
     "name": "stdout",
     "output_type": "stream",
     "text": [
      "Overall Epoch: 4, valid loss: 0.912, valid accuracy: 0.678, valid lstm loss: 4.511, valid bleu: 0.284, valid token acc: 0.282, valid sum rewards: 3.000\n",
      "Best Epoch: 4, valid loss: 0.912, valid accuracy: 0.678, valid sum rewards: 3.000\n",
      "Trained model saved at  /google/src/cloud/billzhou/ask_your_human/google3/experimental/users/billzhou/Ask-Your-Humans/res/cpts/IL.pt\n"
     ]
    },
    {
     "name": "stderr",
     "output_type": "stream",
     "text": [
      "Epoch: 5, train action loss: 0.629, train lang loss: 3.410, train action acc: 0.726, train bleu: 0.431, train token acc: 0.562: 100%|██████████| 2535/2535 [04:37<00:00,  9.15it/s]\n"
     ]
    },
    {
     "name": "stdout",
     "output_type": "stream",
     "text": [
      "Overall Epoch: 5, train loss: 0.646, train accuracy: 0.765, train lstm loss: 2.971, train bleu: 0.527, train token acc: 0.659\n"
     ]
    },
    {
     "name": "stderr",
     "output_type": "stream",
     "text": [
      "Epoch: 5, valid action loss: 0.862, valid lang loss: 4.714, valid action acc: 0.638, valid bleu: 0.308, valid token acc: 0.294: 100%|██████████| 634/634 [01:02<00:00, 10.17it/s]\n",
      "100%|██████████| 15/15 [00:15<00:00,  1.01s/it]\n"
     ]
    },
    {
     "name": "stdout",
     "output_type": "stream",
     "text": [
      "Overall Epoch: 5, valid loss: 0.914, valid accuracy: 0.690, valid lstm loss: 4.587, valid bleu: 0.284, valid token acc: 0.294, valid sum rewards: 5.000\n"
     ]
    },
    {
     "name": "stderr",
     "output_type": "stream",
     "text": [
      "Epoch: 6, train action loss: 0.545, train lang loss: 2.403, train action acc: 0.726, train bleu: 0.576, train token acc: 0.738: 100%|██████████| 2535/2535 [04:32<00:00,  9.31it/s]\n"
     ]
    },
    {
     "name": "stdout",
     "output_type": "stream",
     "text": [
      "Overall Epoch: 6, train loss: 0.595, train accuracy: 0.784, train lstm loss: 2.944, train bleu: 0.532, train token acc: 0.663\n"
     ]
    },
    {
     "name": "stderr",
     "output_type": "stream",
     "text": [
      "Epoch: 6, valid action loss: 1.036, valid lang loss: 4.658, valid action acc: 0.745, valid bleu: 0.205, valid token acc: 0.219: 100%|██████████| 634/634 [01:04<00:00,  9.89it/s]\n",
      "100%|██████████| 15/15 [00:21<00:00,  1.42s/it]\n"
     ]
    },
    {
     "name": "stdout",
     "output_type": "stream",
     "text": [
      "Overall Epoch: 6, valid loss: 0.910, valid accuracy: 0.693, valid lstm loss: 4.592, valid bleu: 0.282, valid token acc: 0.288, valid sum rewards: 2.000\n",
      "Best Epoch: 6, valid loss: 0.910, valid accuracy: 0.693, valid sum rewards: 2.000\n",
      "Trained model saved at  /google/src/cloud/billzhou/ask_your_human/google3/experimental/users/billzhou/Ask-Your-Humans/res/cpts/IL.pt\n"
     ]
    },
    {
     "name": "stderr",
     "output_type": "stream",
     "text": [
      "Epoch: 7, train action loss: 0.564, train lang loss: 3.455, train action acc: 0.823, train bleu: 0.461, train token acc: 0.569: 100%|██████████| 2535/2535 [04:33<00:00,  9.26it/s]\n"
     ]
    },
    {
     "name": "stdout",
     "output_type": "stream",
     "text": [
      "Overall Epoch: 7, train loss: 0.550, train accuracy: 0.799, train lstm loss: 2.923, train bleu: 0.535, train token acc: 0.666\n"
     ]
    },
    {
     "name": "stderr",
     "output_type": "stream",
     "text": [
      "Epoch: 7, valid action loss: 0.822, valid lang loss: 4.391, valid action acc: 0.702, valid bleu: 0.235, valid token acc: 0.261: 100%|██████████| 634/634 [01:05<00:00,  9.62it/s]\n",
      "100%|██████████| 15/15 [00:21<00:00,  1.43s/it]\n"
     ]
    },
    {
     "name": "stdout",
     "output_type": "stream",
     "text": [
      "Overall Epoch: 7, valid loss: 0.936, valid accuracy: 0.693, valid lstm loss: 4.472, valid bleu: 0.283, valid token acc: 0.286, valid sum rewards: 3.000\n"
     ]
    },
    {
     "name": "stderr",
     "output_type": "stream",
     "text": [
      "Epoch: 8, train action loss: 0.447, train lang loss: 2.429, train action acc: 0.823, train bleu: 0.573, train token acc: 0.737: 100%|██████████| 2535/2535 [04:33<00:00,  9.27it/s]\n"
     ]
    },
    {
     "name": "stdout",
     "output_type": "stream",
     "text": [
      "Overall Epoch: 8, train loss: 0.514, train accuracy: 0.812, train lstm loss: 2.927, train bleu: 0.534, train token acc: 0.664\n"
     ]
    },
    {
     "name": "stderr",
     "output_type": "stream",
     "text": [
      "Epoch: 8, valid action loss: 0.864, valid lang loss: 4.410, valid action acc: 0.660, valid bleu: 0.301, valid token acc: 0.297: 100%|██████████| 634/634 [01:06<00:00,  9.49it/s]\n",
      "100%|██████████| 15/15 [00:24<00:00,  1.62s/it]\n"
     ]
    },
    {
     "name": "stdout",
     "output_type": "stream",
     "text": [
      "Overall Epoch: 8, valid loss: 0.922, valid accuracy: 0.690, valid lstm loss: 4.574, valid bleu: 0.283, valid token acc: 0.287, valid sum rewards: 0.000\n"
     ]
    },
    {
     "name": "stderr",
     "output_type": "stream",
     "text": [
      "Epoch: 9, train action loss: 0.533, train lang loss: 2.497, train action acc: 0.790, train bleu: 0.540, train token acc: 0.698: 100%|██████████| 2535/2535 [04:36<00:00,  9.16it/s]\n"
     ]
    },
    {
     "name": "stdout",
     "output_type": "stream",
     "text": [
      "Overall Epoch: 9, train loss: 0.483, train accuracy: 0.820, train lstm loss: 2.908, train bleu: 0.536, train token acc: 0.667\n"
     ]
    },
    {
     "name": "stderr",
     "output_type": "stream",
     "text": [
      "Epoch: 9, valid action loss: 0.960, valid lang loss: 4.536, valid action acc: 0.660, valid bleu: 0.311, valid token acc: 0.327: 100%|██████████| 634/634 [01:00<00:00, 10.41it/s]\n",
      "100%|██████████| 15/15 [00:20<00:00,  1.38s/it]\n"
     ]
    },
    {
     "name": "stdout",
     "output_type": "stream",
     "text": [
      "Overall Epoch: 9, valid loss: 0.915, valid accuracy: 0.703, valid lstm loss: 4.605, valid bleu: 0.281, valid token acc: 0.300, valid sum rewards: 2.000\n"
     ]
    },
    {
     "name": "stderr",
     "output_type": "stream",
     "text": [
      "Epoch: 10, train action loss: 0.376, train lang loss: 3.626, train action acc: 0.919, train bleu: 0.552, train token acc: 0.638: 100%|██████████| 2535/2535 [04:37<00:00,  9.15it/s]\n"
     ]
    },
    {
     "name": "stdout",
     "output_type": "stream",
     "text": [
      "Overall Epoch: 10, train loss: 0.457, train accuracy: 0.830, train lstm loss: 2.900, train bleu: 0.537, train token acc: 0.667\n"
     ]
    },
    {
     "name": "stderr",
     "output_type": "stream",
     "text": [
      "Epoch: 10, valid action loss: 1.091, valid lang loss: 4.380, valid action acc: 0.660, valid bleu: 0.310, valid token acc: 0.312: 100%|██████████| 634/634 [01:07<00:00,  9.43it/s]\n",
      "100%|██████████| 15/15 [00:19<00:00,  1.28s/it]"
     ]
    },
    {
     "name": "stdout",
     "output_type": "stream",
     "text": [
      "Overall Epoch: 10, valid loss: 0.950, valid accuracy: 0.699, valid lstm loss: 4.605, valid bleu: 0.281, valid token acc: 0.286, valid sum rewards: 4.000\n"
     ]
    },
    {
     "name": "stderr",
     "output_type": "stream",
     "text": [
      "\n"
     ]
    }
   ],
   "source": [
    "best_valid_loss, best_valid_acc, best_valid_reward= float('inf'), float('inf'), float('inf')\n",
    "valid_epoch, best_epoch = 0, None\n",
    "\n",
    "train_losses = []\n",
    "valid_losses = []\n",
    "train_accuracy = []\n",
    "valid_accuracy = []\n",
    "\n",
    "for epoch in range(il_config.epochs):\n",
    "    # train\n",
    "    loss, accuracy, lstm_loss, bleu, token_acc = train(epoch, train_data_loader, lstm_model, lstm_optimizer, lstm_criterion, il_model, il_optimizer, il_criterion, vocab, il_config, summary_writer=writer)\n",
    "    print('Overall Epoch: %d, train loss: %.3f, train accuracy: %.3f, train lstm loss: %.3f, train bleu: %.3f, train token acc: %.3f' % (epoch, loss, accuracy, lstm_loss, bleu, token_acc))\n",
    "    train_losses.append(loss)\n",
    "    train_accuracy.append(accuracy)\n",
    "    # valid\n",
    "    loss, accuracy, lstm_loss, bleu, token_acc = validate(epoch, validation_data_loader, lstm_model, lstm_criterion, il_model, il_criterion, vocab, il_config, summary_writer=writer)\n",
    "    valid_losses.append(loss)\n",
    "    valid_accuracy.append(accuracy)\n",
    "    # valid game\n",
    "    sum_rewards = validate_game(epoch, lstm_model, il_model, il_config, cache=config.glove_cache)\n",
    "    print('Overall Epoch: %d, valid loss: %.3f, valid accuracy: %.3f, valid lstm loss: %.3f, valid bleu: %.3f, valid token acc: %.3f, valid sum rewards: %.3f' % (epoch, loss, accuracy, lstm_loss, bleu, token_acc, sum_rewards))\n",
    "    # early stopping\n",
    "    if loss <= best_valid_loss:\n",
    "        best_valid_loss, best_valid_acc, best_valid_reward = loss, accuracy, sum_rewards\n",
    "        valid_epoch, best_epoch = 0, epoch\n",
    "        torch.save(il_model.state_dict(), il_config.SAVE_PATH)\n",
    "        torch.save(lstm_model.state_dict(), il_config.LSTM_SAVE_PATH)\n",
    "        print('Best Epoch: %d, valid loss: %.3f, valid accuracy: %.3f, valid sum rewards: %.3f' \\\n",
    "              % (best_epoch, best_valid_loss, best_valid_acc, best_valid_reward))\n",
    "        print('Trained model saved at ', il_config.SAVE_PATH)\n",
    "    else:\n",
    "        valid_epoch += 1\n",
    "        if valid_epoch >= il_config.valid_patience:\n",
    "            break"
   ]
  },
  {
   "cell_type": "code",
   "execution_count": 40,
   "id": "114be4ca-e0cc-4a2a-bde3-3bd1ab430428",
   "metadata": {},
   "outputs": [
    {
     "data": {
      "image/png": "[encoded data removed]",
      "text/plain": [
       "<Figure size 1800x900 with 2 Axes>"
      ]
     },
     "metadata": {
      "needs_background": "light"
     },
     "output_type": "display_data"
    }
   ],
   "source": [
    "import matplotlib.pyplot as plt\n",
    "plt.rcParams.update({'font.size': 28})\n",
    "\n",
    "fig, axes = plt.subplots(nrows=1, ncols=2, figsize=(18, 9), dpi=100)\n",
    "plot1 = axes[0].plot(range(len(train_losses)), train_losses, marker='o', label='Train')\n",
    "plot1 = axes[0].plot(range(len(train_losses)), valid_losses, marker='x', label='Valid')\n",
    "\n",
    "plot2 = axes[1].plot(range(len(train_accuracy)), train_accuracy, marker='o', label='Train')\n",
    "plot2 = axes[1].plot(range(len(train_accuracy)), valid_accuracy, marker='x', label='Valid')\n",
    "\n",
    "ylabels = ['Loss', 'Accuracy']\n",
    "for i in range(2):\n",
    "    axes[i].legend()\n",
    "    axes[i].set_xticks([y for y in range(len(train_losses))])\n",
    "    axes[i].set_ylabel(ylabels[i])\n",
    "    axes[i].set_xlabel('Epoch')\n",
    "    axes[i].yaxis.grid(True)\n",
    "    \n",
    "fig.savefig('il_lstm.png')"
   ]
  },
  {
   "cell_type": "code",
   "execution_count": 21,
   "id": "0f79df03-a918-4d68-9554-d977a3fb0080",
   "metadata": {},
   "outputs": [
    {
     "data": {
      "text/plain": [
       "'length3task.yaml'"
      ]
     },
     "execution_count": 21,
     "metadata": {},
     "output_type": "execute_result"
    }
   ],
   "source": [
    "il_config.game_file_name = 'length3task.yaml'\n",
    "il_config.game_file_name"
   ]
  },
  {
   "cell_type": "code",
   "execution_count": 19,
   "id": "047d4342-a021-4246-9282-681d7bf25178",
   "metadata": {},
   "outputs": [
    {
     "data": {
      "text/plain": [
       "<All keys matched successfully>"
      ]
     },
     "execution_count": 19,
     "metadata": {},
     "output_type": "execute_result"
    }
   ],
   "source": [
    "# il_model.load_state_dict(torch.load(il_config.SAVE_PATH))\n",
    "# lstm_model.load_state_dict(torch.load(il_config.LSTM_SAVE_PATH))"
   ]
  },
  {
   "cell_type": "code",
   "execution_count": 22,
   "id": "087cd2ba-5410-4693-9d49-324be6880b68",
   "metadata": {},
   "outputs": [
    {
     "name": "stderr",
     "output_type": "stream",
     "text": [
      "100%|██████████| 15/15 [00:28<00:00,  1.88s/it]\n"
     ]
    },
    {
     "name": "stdout",
     "output_type": "stream",
     "text": [
      "0\n"
     ]
    },
    {
     "name": "stderr",
     "output_type": "stream",
     "text": [
      "100%|██████████| 15/15 [00:26<00:00,  1.75s/it]\n"
     ]
    },
    {
     "name": "stdout",
     "output_type": "stream",
     "text": [
      "0\n"
     ]
    },
    {
     "name": "stderr",
     "output_type": "stream",
     "text": [
      "100%|██████████| 15/15 [00:31<00:00,  2.11s/it]"
     ]
    },
    {
     "name": "stdout",
     "output_type": "stream",
     "text": [
      "0\n"
     ]
    },
    {
     "name": "stderr",
     "output_type": "stream",
     "text": [
      "\n"
     ]
    }
   ],
   "source": [
    "sum_rewards = validate_game(1, lstm_model, il_model, il_config, cache=config.glove_cache)\n",
    "print(sum_rewards)\n",
    "sum_rewards = validate_game(1, lstm_model, il_model, il_config, cache=config.glove_cache)\n",
    "print(sum_rewards)\n",
    "sum_rewards = validate_game(1, lstm_model, il_model, il_config, cache=config.glove_cache)\n",
    "print(sum_rewards)"
   ]
  },
  {
   "cell_type": "markdown",
   "id": "8188f877-95dd-4d23-8c5e-ceb0b7a169b3",
   "metadata": {},
   "source": [
    "---"
   ]
  },
  {
   "cell_type": "markdown",
   "id": "a9daf475-c027-4aa5-b63e-d09b31380bd4",
   "metadata": {},
   "source": [
    "# Reinforcement Learning (RL) - Fine-tuning"
   ]
  },
  {
   "cell_type": "code",
   "execution_count": 34,
   "id": "1d431c88-f392-42fb-8747-7f3583aca38f",
   "metadata": {},
   "outputs": [],
   "source": [
    "# TODO"
   ]
  },
  {
   "cell_type": "code",
   "execution_count": null,
   "id": "581cd633-e963-4555-8a1e-924c92b82bc0",
   "metadata": {},
   "outputs": [],
   "source": []
  }
 ],
 "metadata": {
  "kernelspec": {
   "display_name": "Python 3",
   "language": "python",
   "name": "python3"
  },
  "language_info": {
   "codemirror_mode": {
    "name": "ipython",
    "version": 3
   },
   "file_extension": ".py",
   "mimetype": "text/x-python",
   "name": "python",
   "nbconvert_exporter": "python",
   "pygments_lexer": "ipython3",
   "version": "3.6.2"
  }
 },
 "nbformat": 4,
 "nbformat_minor": 5
}

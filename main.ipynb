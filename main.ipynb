{
 "cells": [
  {
   "cell_type": "markdown",
   "id": "33cfb311-121e-44e4-9c73-072fa4f11195",
   "metadata": {},
   "source": [
    "# CS7643 - Final Project"
   ]
  },
  {
   "cell_type": "code",
   "execution_count": 2,
   "id": "60098e1b-b21f-4600-8c58-24f1246b09b2",
   "metadata": {},
   "outputs": [],
   "source": [
    "# built-in\n",
    "from collections import Counter\n",
    "# public\n",
    "import numpy as np\n",
    "import torch\n",
    "from torch.utils.tensorboard import SummaryWriter\n",
    "from torch.utils.data import DataLoader\n",
    "from torch.utils.data.sampler import SubsetRandomSampler\n",
    "# private\n",
    "from config import Config, InstrConfig, ILConfig\n",
    "from src.utils import dataloader, helpers\n",
    "from src.models.instructions_generator_model import InstructionsGeneratorModel\n",
    "from src.trainer import instructions_generator_trainer\n",
    "from src.models.imitation_learning_model import ImitationLearningModel\n",
    "from src.trainer import imitation_learning_trainer\n",
    "from src.gamer import game_env\n",
    "\n",
    "%load_ext autoreload \n",
    "%autoreload 2\n",
    "%config Completer.use_jedi = False"
   ]
  },
  {
   "cell_type": "markdown",
   "id": "cc232721-5be3-4bbf-9540-61da89569cf1",
   "metadata": {},
   "source": [
    "# Initialization"
   ]
  },
  {
   "cell_type": "code",
   "execution_count": 3,
   "id": "745d277d-0f18-4e7c-b319-06cd98f8ecc2",
   "metadata": {},
   "outputs": [],
   "source": [
    "config = Config()\n",
    "helpers.set_seed(config.random_seed)"
   ]
  },
  {
   "cell_type": "markdown",
   "id": "7931b4b8-e729-4909-b8db-f8de736ed88d",
   "metadata": {},
   "source": [
    "# Data"
   ]
  },
  {
   "cell_type": "markdown",
   "id": "757fefab-e97f-48f3-b2cc-b1505455244b",
   "metadata": {},
   "source": [
    "## Load Data"
   ]
  },
  {
   "cell_type": "code",
   "execution_count": 4,
   "id": "101e130e-ea81-4527-9770-021eea88c405",
   "metadata": {},
   "outputs": [],
   "source": [
    "# train size 202831\n",
    "# unique number of instructions 35921\n",
    "data = dataloader.load_pkl(workdir=config.DATA_PATH)"
   ]
  },
  {
   "cell_type": "code",
   "execution_count": 5,
   "id": "4ed3357b-a811-4d4d-89c3-f4169b145df6",
   "metadata": {},
   "outputs": [],
   "source": [
    "train_states, train_inventories, train_actions, train_goals, train_instructions, all_instructions = data"
   ]
  },
  {
   "cell_type": "code",
   "execution_count": 6,
   "id": "6c7e72ad-2df3-4d7e-9fa9-7dc66b4aa7f6",
   "metadata": {},
   "outputs": [
    {
     "name": "stdout",
     "output_type": "stream",
     "text": [
      "34\n"
     ]
    }
   ],
   "source": [
    "# remove invalid sample where train instruction is None\n",
    "invalid_index = set([i for i, _ in enumerate(train_instructions) if not _])\n",
    "print(len(invalid_index))"
   ]
  },
  {
   "cell_type": "code",
   "execution_count": 7,
   "id": "94a5c2d0-e887-46a6-9274-a60b0d795ca5",
   "metadata": {},
   "outputs": [
    {
     "name": "stdout",
     "output_type": "stream",
     "text": [
      "202797\n"
     ]
    }
   ],
   "source": [
    "valid_index = [i for i, _ in enumerate(train_instructions) if _]\n",
    "print(len(valid_index))\n",
    "train_states = np.array(train_states)[valid_index].tolist()\n",
    "train_inventories = np.array(train_inventories)[valid_index].tolist()\n",
    "train_actions = np.array(train_actions)[valid_index].tolist()\n",
    "train_instructions = np.array(train_instructions)[valid_index].tolist()"
   ]
  },
  {
   "cell_type": "code",
   "execution_count": 8,
   "id": "1ae104b7-cfaf-4311-913d-e61b1fdebd97",
   "metadata": {},
   "outputs": [
    {
     "name": "stdout",
     "output_type": "stream",
     "text": [
      "Counter({'up': 37842, 'left': 37539, 'down': 37211, 'right': 35955, 'grab': 14583, 'craft': 13064, 'mine': 11701, 'toggle_switch': 7504, 'stop': 7398})\n"
     ]
    },
    {
     "data": {
      "text/plain": [
       "9"
      ]
     },
     "execution_count": 8,
     "metadata": {},
     "output_type": "execute_result"
    }
   ],
   "source": [
    "# action size\n",
    "c = Counter()\n",
    "c.update(train_actions)\n",
    "print(c)\n",
    "len(c)"
   ]
  },
  {
   "cell_type": "markdown",
   "id": "9bb91a46-3798-4c01-8b62-f670147755d7",
   "metadata": {},
   "source": [
    "## Build Vocab"
   ]
  },
  {
   "cell_type": "code",
   "execution_count": 9,
   "id": "ab423b2e-ae6c-4a8c-b0a4-95599f99aae9",
   "metadata": {},
   "outputs": [
    {
     "name": "stdout",
     "output_type": "stream",
     "text": [
      "Total vocabulary size: 212\n"
     ]
    }
   ],
   "source": [
    "vocab, vocab_weights = dataloader.generate_vocab(\n",
    "    all_instructions\n",
    "    , config.device\n",
    "    , workdir=config.DATA_PATH\n",
    "    , cache=config.glove_cache)"
   ]
  },
  {
   "cell_type": "markdown",
   "id": "9059f122-ef72-48d7-b839-1d9c76c9475e",
   "metadata": {},
   "source": [
    "---"
   ]
  },
  {
   "cell_type": "markdown",
   "id": "9892d621-ed15-44e2-9735-f5ee20549826",
   "metadata": {},
   "source": [
    "# Instructions Generator"
   ]
  },
  {
   "cell_type": "code",
   "execution_count": null,
   "id": "b081acbc-6671-4a84-aac2-edcdd249f48e",
   "metadata": {},
   "outputs": [],
   "source": [
    "instr_config = InstrConfig()"
   ]
  },
  {
   "cell_type": "markdown",
   "id": "e0d3af4b-4cec-4695-90d9-4e5af2a9916b",
   "metadata": {},
   "source": [
    "## Generate Dataset"
   ]
  },
  {
   "cell_type": "code",
   "execution_count": 9,
   "id": "db7df324-3ba6-4e7d-a29f-d41bb960d232",
   "metadata": {},
   "outputs": [
    {
     "name": "stdout",
     "output_type": "stream",
     "text": [
      "embedding loaded\n",
      "one hot loaded\n",
      "actions loaded\n",
      "goals loaded\n",
      "done loading dataset\n"
     ]
    }
   ],
   "source": [
    "dataset = dataloader.CraftingDataset(\n",
    "    instr_config.embedding_dim\n",
    "    , train_states\n",
    "    , train_inventories\n",
    "    , train_actions\n",
    "    , train_goals\n",
    "    , train_instructions\n",
    "    , vocab\n",
    "    , cache=instr_config.glove_cache)"
   ]
  },
  {
   "cell_type": "code",
   "execution_count": 10,
   "id": "b8a129d9-dea3-4ef0-a8f9-910141374914",
   "metadata": {},
   "outputs": [
    {
     "data": {
      "text/plain": [
       "3"
      ]
     },
     "execution_count": 10,
     "metadata": {},
     "output_type": "execute_result"
    }
   ],
   "source": [
    "min([len(d[-1]) for d in dataset])"
   ]
  },
  {
   "cell_type": "code",
   "execution_count": 11,
   "id": "9f51a362-1954-469d-91d8-60fdd77808bd",
   "metadata": {},
   "outputs": [],
   "source": [
    "instr_config.dataset_size = len(dataset)"
   ]
  },
  {
   "cell_type": "markdown",
   "id": "e05ab357-1572-4751-98b0-dd5ce83561e0",
   "metadata": {},
   "source": [
    "## Split Dataset"
   ]
  },
  {
   "cell_type": "code",
   "execution_count": 12,
   "id": "968db423-65aa-4254-94c5-c14546b56e6d",
   "metadata": {},
   "outputs": [],
   "source": [
    "indices = list(range(instr_config.dataset_size))\n",
    "split = int(np.floor(instr_config.validation_split * instr_config.dataset_size))\n",
    "np.random.shuffle(indices)\n",
    "train_indices, val_indices = indices[split:], indices[:split]\n",
    "\n",
    "train_sampler = SubsetRandomSampler(train_indices)\n",
    "valid_sampler = SubsetRandomSampler(val_indices)"
   ]
  },
  {
   "cell_type": "markdown",
   "id": "9db73dd1-9524-4742-a61a-345a0cb997d8",
   "metadata": {},
   "source": [
    "## Initialize Data Loader"
   ]
  },
  {
   "cell_type": "code",
   "execution_count": 13,
   "id": "eaf931ff-4f27-4531-bcc6-34b92d9e9bbf",
   "metadata": {},
   "outputs": [],
   "source": [
    "train_data_loader = DataLoader(\n",
    "  dataset,\n",
    "  batch_size=instr_config.batch_size,\n",
    "  num_workers=instr_config.num_workers,\n",
    "  pin_memory=True,\n",
    "  sampler=train_sampler,\n",
    "  collate_fn=dataloader.collate_fn)\n",
    "\n",
    "validation_data_loader = DataLoader(\n",
    "  dataset,\n",
    "  batch_size=instr_config.batch_size,\n",
    "  num_workers=instr_config.num_workers,\n",
    "  pin_memory=True,\n",
    "  sampler=valid_sampler,\n",
    "  collate_fn=dataloader.collate_fn)"
   ]
  },
  {
   "cell_type": "markdown",
   "id": "28ca36b8-d503-4424-ad6e-e98b8a3be5ff",
   "metadata": {},
   "source": [
    "## Setup Training"
   ]
  },
  {
   "cell_type": "code",
   "execution_count": 14,
   "id": "d5c428d5-5bc8-442a-af5e-d76a3a0a12a2",
   "metadata": {},
   "outputs": [],
   "source": [
    "model = InstructionsGeneratorModel(\n",
    "    instr_config.device\n",
    "    , len(vocab)\n",
    "    , instr_config.embedding_dim\n",
    "    , vocab_weights\n",
    ").to(instr_config.device)\n",
    "train = instructions_generator_trainer.train\n",
    "validate = instructions_generator_trainer.validate\n",
    "# CE Loss\n",
    "criterion = torch.nn.CrossEntropyLoss()\n",
    "# Adam\n",
    "parameters = filter(lambda p: p.requires_grad, model.parameters())\n",
    "optimizer = torch.optim.Adam(parameters, lr=instr_config.learning_rate)\n",
    "# Log\n",
    "writer = SummaryWriter() if instr_config.summary_writer else None"
   ]
  },
  {
   "cell_type": "markdown",
   "id": "bc28801e-c3d3-47f3-9df5-1c9ef56f3da3",
   "metadata": {},
   "source": [
    "## GO"
   ]
  },
  {
   "cell_type": "code",
   "execution_count": 15,
   "id": "3b9058ab-899c-42d7-9fbf-878144753789",
   "metadata": {},
   "outputs": [
    {
     "name": "stderr",
     "output_type": "stream",
     "text": [
      "Epoch: 0, train loss: 4.204, train bleu: 0.497, train token acc: 0.615:   3%| | \n"
     ]
    },
    {
     "ename": "KeyboardInterrupt",
     "evalue": "",
     "output_type": "error",
     "traceback": [
      "\u001b[0;31m---------------------------------------------------------------------------\u001b[0m",
      "\u001b[0;31mKeyboardInterrupt\u001b[0m                         Traceback (most recent call last)",
      "\u001b[0;32m/var/folders/z5/1l4npqbn7xg0mm_qhl_h51cm0000gp/T/ipykernel_92254/18050260.py\u001b[0m in \u001b[0;36m<module>\u001b[0;34m\u001b[0m\n\u001b[1;32m      4\u001b[0m \u001b[0;32mfor\u001b[0m \u001b[0mepoch\u001b[0m \u001b[0;32min\u001b[0m \u001b[0mrange\u001b[0m\u001b[0;34m(\u001b[0m\u001b[0minstr_config\u001b[0m\u001b[0;34m.\u001b[0m\u001b[0mepochs\u001b[0m\u001b[0;34m)\u001b[0m\u001b[0;34m:\u001b[0m\u001b[0;34m\u001b[0m\u001b[0;34m\u001b[0m\u001b[0m\n\u001b[1;32m      5\u001b[0m     \u001b[0;31m# train\u001b[0m\u001b[0;34m\u001b[0m\u001b[0;34m\u001b[0m\u001b[0;34m\u001b[0m\u001b[0m\n\u001b[0;32m----> 6\u001b[0;31m     loss, bleu, tk_acc = train(\n\u001b[0m\u001b[1;32m      7\u001b[0m         \u001b[0minstr_config\u001b[0m\u001b[0;34m.\u001b[0m\u001b[0mdevice\u001b[0m\u001b[0;34m,\u001b[0m\u001b[0;34m\u001b[0m\u001b[0;34m\u001b[0m\u001b[0m\n\u001b[1;32m      8\u001b[0m         \u001b[0mepoch\u001b[0m\u001b[0;34m,\u001b[0m\u001b[0;34m\u001b[0m\u001b[0;34m\u001b[0m\u001b[0m\n",
      "\u001b[0;32m~/Library/Mobile Documents/com~apple~CloudDocs/Desktop/Master/Georgia Tech/2021 Summer/CS7643/project/main/src/trainer/instructions_generator_trainer.py\u001b[0m in \u001b[0;36mtrain\u001b[0;34m(device, epoch, train_data_loader, model, optimizer, criterion, parameters, vocab, summary_writer)\u001b[0m\n\u001b[1;32m     36\u001b[0m         \u001b[0minstructions\u001b[0m \u001b[0;34m=\u001b[0m \u001b[0minstructions\u001b[0m\u001b[0;34m.\u001b[0m\u001b[0mto\u001b[0m\u001b[0;34m(\u001b[0m\u001b[0mdevice\u001b[0m\u001b[0;34m)\u001b[0m\u001b[0;34m\u001b[0m\u001b[0;34m\u001b[0m\u001b[0m\n\u001b[1;32m     37\u001b[0m \u001b[0;34m\u001b[0m\u001b[0m\n\u001b[0;32m---> 38\u001b[0;31m         predictions, decode_lengths, alphas, _ = model(grid_embedding, grid_onehot,\n\u001b[0m\u001b[1;32m     39\u001b[0m                                                        \u001b[0minventory_embedding\u001b[0m\u001b[0;34m,\u001b[0m\u001b[0;34m\u001b[0m\u001b[0;34m\u001b[0m\u001b[0m\n\u001b[1;32m     40\u001b[0m                                                        \u001b[0mgoal_embedding\u001b[0m\u001b[0;34m,\u001b[0m \u001b[0minstructions\u001b[0m\u001b[0;34m,\u001b[0m\u001b[0;34m\u001b[0m\u001b[0;34m\u001b[0m\u001b[0m\n",
      "\u001b[0;32m~/miniconda3/envs/cs7643/lib/python3.8/site-packages/torch/nn/modules/module.py\u001b[0m in \u001b[0;36m_call_impl\u001b[0;34m(self, *input, **kwargs)\u001b[0m\n\u001b[1;32m    725\u001b[0m             \u001b[0mresult\u001b[0m \u001b[0;34m=\u001b[0m \u001b[0mself\u001b[0m\u001b[0;34m.\u001b[0m\u001b[0m_slow_forward\u001b[0m\u001b[0;34m(\u001b[0m\u001b[0;34m*\u001b[0m\u001b[0minput\u001b[0m\u001b[0;34m,\u001b[0m \u001b[0;34m**\u001b[0m\u001b[0mkwargs\u001b[0m\u001b[0;34m)\u001b[0m\u001b[0;34m\u001b[0m\u001b[0;34m\u001b[0m\u001b[0m\n\u001b[1;32m    726\u001b[0m         \u001b[0;32melse\u001b[0m\u001b[0;34m:\u001b[0m\u001b[0;34m\u001b[0m\u001b[0;34m\u001b[0m\u001b[0m\n\u001b[0;32m--> 727\u001b[0;31m             \u001b[0mresult\u001b[0m \u001b[0;34m=\u001b[0m \u001b[0mself\u001b[0m\u001b[0;34m.\u001b[0m\u001b[0mforward\u001b[0m\u001b[0;34m(\u001b[0m\u001b[0;34m*\u001b[0m\u001b[0minput\u001b[0m\u001b[0;34m,\u001b[0m \u001b[0;34m**\u001b[0m\u001b[0mkwargs\u001b[0m\u001b[0;34m)\u001b[0m\u001b[0;34m\u001b[0m\u001b[0;34m\u001b[0m\u001b[0m\n\u001b[0m\u001b[1;32m    728\u001b[0m         for hook in itertools.chain(\n\u001b[1;32m    729\u001b[0m                 \u001b[0m_global_forward_hooks\u001b[0m\u001b[0;34m.\u001b[0m\u001b[0mvalues\u001b[0m\u001b[0;34m(\u001b[0m\u001b[0;34m)\u001b[0m\u001b[0;34m,\u001b[0m\u001b[0;34m\u001b[0m\u001b[0;34m\u001b[0m\u001b[0m\n",
      "\u001b[0;32m~/Library/Mobile Documents/com~apple~CloudDocs/Desktop/Master/Georgia Tech/2021 Summer/CS7643/project/main/src/models/instructions_generator_model.py\u001b[0m in \u001b[0;36mforward\u001b[0;34m(self, grid_embedding, grid_onehot, inventory_embedding, goal_embedding, instructions, instructions_lengths)\u001b[0m\n\u001b[1;32m     95\u001b[0m     \u001b[0;32mfor\u001b[0m \u001b[0mt\u001b[0m \u001b[0;32min\u001b[0m \u001b[0mrange\u001b[0m\u001b[0;34m(\u001b[0m\u001b[0mmax\u001b[0m\u001b[0;34m(\u001b[0m\u001b[0mdecode_lengths\u001b[0m\u001b[0;34m)\u001b[0m\u001b[0;34m)\u001b[0m\u001b[0;34m:\u001b[0m\u001b[0;34m\u001b[0m\u001b[0;34m\u001b[0m\u001b[0m\n\u001b[1;32m     96\u001b[0m       \u001b[0mbatch_size_t\u001b[0m \u001b[0;34m=\u001b[0m \u001b[0msum\u001b[0m\u001b[0;34m(\u001b[0m\u001b[0;34m[\u001b[0m\u001b[0ml\u001b[0m \u001b[0;34m>\u001b[0m \u001b[0mt\u001b[0m \u001b[0;32mfor\u001b[0m \u001b[0ml\u001b[0m \u001b[0;32min\u001b[0m \u001b[0mdecode_lengths\u001b[0m\u001b[0;34m]\u001b[0m\u001b[0;34m)\u001b[0m\u001b[0;34m\u001b[0m\u001b[0;34m\u001b[0m\u001b[0m\n\u001b[0;32m---> 97\u001b[0;31m       attention_weighted_encoding, alpha = self.attention(\n\u001b[0m\u001b[1;32m     98\u001b[0m           encoder_out[:batch_size_t], hidden_state[:batch_size_t])\n\u001b[1;32m     99\u001b[0m \u001b[0;34m\u001b[0m\u001b[0m\n",
      "\u001b[0;32m~/miniconda3/envs/cs7643/lib/python3.8/site-packages/torch/nn/modules/module.py\u001b[0m in \u001b[0;36m_call_impl\u001b[0;34m(self, *input, **kwargs)\u001b[0m\n\u001b[1;32m    725\u001b[0m             \u001b[0mresult\u001b[0m \u001b[0;34m=\u001b[0m \u001b[0mself\u001b[0m\u001b[0;34m.\u001b[0m\u001b[0m_slow_forward\u001b[0m\u001b[0;34m(\u001b[0m\u001b[0;34m*\u001b[0m\u001b[0minput\u001b[0m\u001b[0;34m,\u001b[0m \u001b[0;34m**\u001b[0m\u001b[0mkwargs\u001b[0m\u001b[0;34m)\u001b[0m\u001b[0;34m\u001b[0m\u001b[0;34m\u001b[0m\u001b[0m\n\u001b[1;32m    726\u001b[0m         \u001b[0;32melse\u001b[0m\u001b[0;34m:\u001b[0m\u001b[0;34m\u001b[0m\u001b[0;34m\u001b[0m\u001b[0m\n\u001b[0;32m--> 727\u001b[0;31m             \u001b[0mresult\u001b[0m \u001b[0;34m=\u001b[0m \u001b[0mself\u001b[0m\u001b[0;34m.\u001b[0m\u001b[0mforward\u001b[0m\u001b[0;34m(\u001b[0m\u001b[0;34m*\u001b[0m\u001b[0minput\u001b[0m\u001b[0;34m,\u001b[0m \u001b[0;34m**\u001b[0m\u001b[0mkwargs\u001b[0m\u001b[0;34m)\u001b[0m\u001b[0;34m\u001b[0m\u001b[0;34m\u001b[0m\u001b[0m\n\u001b[0m\u001b[1;32m    728\u001b[0m         for hook in itertools.chain(\n\u001b[1;32m    729\u001b[0m                 \u001b[0m_global_forward_hooks\u001b[0m\u001b[0;34m.\u001b[0m\u001b[0mvalues\u001b[0m\u001b[0;34m(\u001b[0m\u001b[0;34m)\u001b[0m\u001b[0;34m,\u001b[0m\u001b[0;34m\u001b[0m\u001b[0;34m\u001b[0m\u001b[0m\n",
      "\u001b[0;32m~/Library/Mobile Documents/com~apple~CloudDocs/Desktop/Master/Georgia Tech/2021 Summer/CS7643/project/main/src/models/attention_model.py\u001b[0m in \u001b[0;36mforward\u001b[0;34m(self, encoder_out, decoder_hidden)\u001b[0m\n\u001b[1;32m     46\u001b[0m         encoder_out)  # (batch_size, num_pixels, attention_dim)\n\u001b[1;32m     47\u001b[0m     \u001b[0matt2\u001b[0m \u001b[0;34m=\u001b[0m \u001b[0mself\u001b[0m\u001b[0;34m.\u001b[0m\u001b[0mdecoder_att\u001b[0m\u001b[0;34m(\u001b[0m\u001b[0mdecoder_hidden\u001b[0m\u001b[0;34m)\u001b[0m  \u001b[0;31m# (batch_size, attention_dim)\u001b[0m\u001b[0;34m\u001b[0m\u001b[0;34m\u001b[0m\u001b[0m\n\u001b[0;32m---> 48\u001b[0;31m     att = self.full_att(self.relu(att1 + att2.unsqueeze(1))).squeeze(\n\u001b[0m\u001b[1;32m     49\u001b[0m         2)  # (batch_size, num_pixels)\n\u001b[1;32m     50\u001b[0m     \u001b[0malpha\u001b[0m \u001b[0;34m=\u001b[0m \u001b[0mself\u001b[0m\u001b[0;34m.\u001b[0m\u001b[0msoftmax\u001b[0m\u001b[0;34m(\u001b[0m\u001b[0matt\u001b[0m\u001b[0;34m)\u001b[0m  \u001b[0;31m# (batch_size, num_pixels)\u001b[0m\u001b[0;34m\u001b[0m\u001b[0;34m\u001b[0m\u001b[0m\n",
      "\u001b[0;32m~/miniconda3/envs/cs7643/lib/python3.8/site-packages/torch/nn/modules/module.py\u001b[0m in \u001b[0;36m_call_impl\u001b[0;34m(self, *input, **kwargs)\u001b[0m\n\u001b[1;32m    725\u001b[0m             \u001b[0mresult\u001b[0m \u001b[0;34m=\u001b[0m \u001b[0mself\u001b[0m\u001b[0;34m.\u001b[0m\u001b[0m_slow_forward\u001b[0m\u001b[0;34m(\u001b[0m\u001b[0;34m*\u001b[0m\u001b[0minput\u001b[0m\u001b[0;34m,\u001b[0m \u001b[0;34m**\u001b[0m\u001b[0mkwargs\u001b[0m\u001b[0;34m)\u001b[0m\u001b[0;34m\u001b[0m\u001b[0;34m\u001b[0m\u001b[0m\n\u001b[1;32m    726\u001b[0m         \u001b[0;32melse\u001b[0m\u001b[0;34m:\u001b[0m\u001b[0;34m\u001b[0m\u001b[0;34m\u001b[0m\u001b[0m\n\u001b[0;32m--> 727\u001b[0;31m             \u001b[0mresult\u001b[0m \u001b[0;34m=\u001b[0m \u001b[0mself\u001b[0m\u001b[0;34m.\u001b[0m\u001b[0mforward\u001b[0m\u001b[0;34m(\u001b[0m\u001b[0;34m*\u001b[0m\u001b[0minput\u001b[0m\u001b[0;34m,\u001b[0m \u001b[0;34m**\u001b[0m\u001b[0mkwargs\u001b[0m\u001b[0;34m)\u001b[0m\u001b[0;34m\u001b[0m\u001b[0;34m\u001b[0m\u001b[0m\n\u001b[0m\u001b[1;32m    728\u001b[0m         for hook in itertools.chain(\n\u001b[1;32m    729\u001b[0m                 \u001b[0m_global_forward_hooks\u001b[0m\u001b[0;34m.\u001b[0m\u001b[0mvalues\u001b[0m\u001b[0;34m(\u001b[0m\u001b[0;34m)\u001b[0m\u001b[0;34m,\u001b[0m\u001b[0;34m\u001b[0m\u001b[0;34m\u001b[0m\u001b[0m\n",
      "\u001b[0;32m~/miniconda3/envs/cs7643/lib/python3.8/site-packages/torch/nn/modules/linear.py\u001b[0m in \u001b[0;36mforward\u001b[0;34m(self, input)\u001b[0m\n\u001b[1;32m     91\u001b[0m \u001b[0;34m\u001b[0m\u001b[0m\n\u001b[1;32m     92\u001b[0m     \u001b[0;32mdef\u001b[0m \u001b[0mforward\u001b[0m\u001b[0;34m(\u001b[0m\u001b[0mself\u001b[0m\u001b[0;34m,\u001b[0m \u001b[0minput\u001b[0m\u001b[0;34m:\u001b[0m \u001b[0mTensor\u001b[0m\u001b[0;34m)\u001b[0m \u001b[0;34m->\u001b[0m \u001b[0mTensor\u001b[0m\u001b[0;34m:\u001b[0m\u001b[0;34m\u001b[0m\u001b[0;34m\u001b[0m\u001b[0m\n\u001b[0;32m---> 93\u001b[0;31m         \u001b[0;32mreturn\u001b[0m \u001b[0mF\u001b[0m\u001b[0;34m.\u001b[0m\u001b[0mlinear\u001b[0m\u001b[0;34m(\u001b[0m\u001b[0minput\u001b[0m\u001b[0;34m,\u001b[0m \u001b[0mself\u001b[0m\u001b[0;34m.\u001b[0m\u001b[0mweight\u001b[0m\u001b[0;34m,\u001b[0m \u001b[0mself\u001b[0m\u001b[0;34m.\u001b[0m\u001b[0mbias\u001b[0m\u001b[0;34m)\u001b[0m\u001b[0;34m\u001b[0m\u001b[0;34m\u001b[0m\u001b[0m\n\u001b[0m\u001b[1;32m     94\u001b[0m \u001b[0;34m\u001b[0m\u001b[0m\n\u001b[1;32m     95\u001b[0m     \u001b[0;32mdef\u001b[0m \u001b[0mextra_repr\u001b[0m\u001b[0;34m(\u001b[0m\u001b[0mself\u001b[0m\u001b[0;34m)\u001b[0m \u001b[0;34m->\u001b[0m \u001b[0mstr\u001b[0m\u001b[0;34m:\u001b[0m\u001b[0;34m\u001b[0m\u001b[0;34m\u001b[0m\u001b[0m\n",
      "\u001b[0;32m~/miniconda3/envs/cs7643/lib/python3.8/site-packages/torch/nn/functional.py\u001b[0m in \u001b[0;36mlinear\u001b[0;34m(input, weight, bias)\u001b[0m\n\u001b[1;32m   1690\u001b[0m         \u001b[0mret\u001b[0m \u001b[0;34m=\u001b[0m \u001b[0mtorch\u001b[0m\u001b[0;34m.\u001b[0m\u001b[0maddmm\u001b[0m\u001b[0;34m(\u001b[0m\u001b[0mbias\u001b[0m\u001b[0;34m,\u001b[0m \u001b[0minput\u001b[0m\u001b[0;34m,\u001b[0m \u001b[0mweight\u001b[0m\u001b[0;34m.\u001b[0m\u001b[0mt\u001b[0m\u001b[0;34m(\u001b[0m\u001b[0;34m)\u001b[0m\u001b[0;34m)\u001b[0m\u001b[0;34m\u001b[0m\u001b[0;34m\u001b[0m\u001b[0m\n\u001b[1;32m   1691\u001b[0m     \u001b[0;32melse\u001b[0m\u001b[0;34m:\u001b[0m\u001b[0;34m\u001b[0m\u001b[0;34m\u001b[0m\u001b[0m\n\u001b[0;32m-> 1692\u001b[0;31m         \u001b[0moutput\u001b[0m \u001b[0;34m=\u001b[0m \u001b[0minput\u001b[0m\u001b[0;34m.\u001b[0m\u001b[0mmatmul\u001b[0m\u001b[0;34m(\u001b[0m\u001b[0mweight\u001b[0m\u001b[0;34m.\u001b[0m\u001b[0mt\u001b[0m\u001b[0;34m(\u001b[0m\u001b[0;34m)\u001b[0m\u001b[0;34m)\u001b[0m\u001b[0;34m\u001b[0m\u001b[0;34m\u001b[0m\u001b[0m\n\u001b[0m\u001b[1;32m   1693\u001b[0m         \u001b[0;32mif\u001b[0m \u001b[0mbias\u001b[0m \u001b[0;32mis\u001b[0m \u001b[0;32mnot\u001b[0m \u001b[0;32mNone\u001b[0m\u001b[0;34m:\u001b[0m\u001b[0;34m\u001b[0m\u001b[0;34m\u001b[0m\u001b[0m\n\u001b[1;32m   1694\u001b[0m             \u001b[0moutput\u001b[0m \u001b[0;34m+=\u001b[0m \u001b[0mbias\u001b[0m\u001b[0;34m\u001b[0m\u001b[0;34m\u001b[0m\u001b[0m\n",
      "\u001b[0;31mKeyboardInterrupt\u001b[0m: "
     ]
    }
   ],
   "source": [
    "best_valid_loss, best_valid_bleu, best_valid_tk_acc = float('inf'), float('inf'), float('inf')\n",
    "valid_epoch, best_epoch = 0, None\n",
    "\n",
    "for epoch in range(instr_config.epochs):\n",
    "    # train\n",
    "    loss, bleu, tk_acc = train(\n",
    "        instr_config.device,\n",
    "        epoch,\n",
    "        train_data_loader,\n",
    "        model,\n",
    "        optimizer,\n",
    "        criterion,\n",
    "        parameters,\n",
    "        vocab,\n",
    "        summary_writer=writer)\n",
    "    print('Overall Epoch: %d, train loss: %.3f, train bleu: %.3f, train token acc: %.3f' % (epoch, loss, bleu, tk_acc))\n",
    "    # valid\n",
    "    loss, bleu, tk_acc = validate(\n",
    "        instr_config.device,\n",
    "        epoch,\n",
    "        validation_data_loader,\n",
    "        model,\n",
    "        criterion,\n",
    "        vocab,\n",
    "        summary_writer=writer)\n",
    "    print('Overall Epoch: %d, valid loss: %.3f, valid bleu: %.3f, valid token acc: %.3f' % (epoch, loss, bleu, tk_acc))\n",
    "    # early stopping\n",
    "    if loss <= best_valid_loss:\n",
    "        best_valid_loss, best_valid_bleu, best_valid_tk_acc = loss, bleu, tk_acc\n",
    "        valid_epoch, best_epoch = 0, epoch\n",
    "        torch.save(model.state_dict(), instr_config.SAVE_PATH)\n",
    "        print('Best Epoch: %d, valid loss: %.3f, valid bleu: %.3f, valid token acc: %.3f' \\\n",
    "              % (best_epoch, best_valid_loss, best_valid_bleu, best_valid_tk_acc))\n",
    "        print('Trained model saved at ', instr_config.SAVE_PATH)\n",
    "    else:\n",
    "        valid_epoch += 1\n",
    "        if valid_epoch >= instr_config.valid_patience:\n",
    "            break"
   ]
  },
  {
   "cell_type": "markdown",
   "id": "c1a06cd7-78f0-4102-8a8a-e9507144b550",
   "metadata": {},
   "source": [
    "---"
   ]
  },
  {
   "cell_type": "markdown",
   "id": "efa6c16b-dc46-40c7-90a3-5035d851aad3",
   "metadata": {},
   "source": [
    "# Reinforcement Learning (RL) - Pre-training"
   ]
  },
  {
   "cell_type": "markdown",
   "id": "bf82dc83-a584-4026-a6a3-951b5cd51e47",
   "metadata": {},
   "source": [
    "## Imitation Learning (IL)"
   ]
  },
  {
   "cell_type": "markdown",
   "id": "9551712b-81d0-4dc0-b703-2f7621ba3d19",
   "metadata": {},
   "source": [
    "### Initialization"
   ]
  },
  {
   "cell_type": "code",
   "execution_count": 10,
   "id": "2aeb98fd-c7de-4ce9-9af6-312ae2b1650d",
   "metadata": {},
   "outputs": [],
   "source": [
    "il_config = ILConfig()"
   ]
  },
  {
   "cell_type": "markdown",
   "id": "cc52f993-1314-4711-ab5a-7cf3d8558cc6",
   "metadata": {},
   "source": [
    "### Generate Dataset"
   ]
  },
  {
   "cell_type": "code",
   "execution_count": 11,
   "id": "302f7d41-c854-4f64-8436-fadb8136df92",
   "metadata": {},
   "outputs": [
    {
     "name": "stdout",
     "output_type": "stream",
     "text": [
      "embedding loaded\n",
      "one hot loaded\n",
      "actions loaded\n",
      "goals loaded\n",
      "done loading dataset\n"
     ]
    }
   ],
   "source": [
    "dataset = dataloader.CraftingDataset(\n",
    "  il_config.embedding_dim,\n",
    "  train_states,\n",
    "  train_inventories,\n",
    "  train_actions,\n",
    "  train_goals,\n",
    "  train_instructions,\n",
    "  vocab)"
   ]
  },
  {
   "cell_type": "code",
   "execution_count": 12,
   "id": "45e4a785-1a93-4d67-99b1-ec5d9b46e093",
   "metadata": {},
   "outputs": [],
   "source": [
    "il_config.dataset_size = len(dataset)"
   ]
  },
  {
   "cell_type": "markdown",
   "id": "36a213df-5b08-4a5c-a014-fbd7ed221dd6",
   "metadata": {},
   "source": [
    "### Split Dataset"
   ]
  },
  {
   "cell_type": "code",
   "execution_count": 13,
   "id": "bd5a9c1d-787e-4193-b742-2c83344940f7",
   "metadata": {},
   "outputs": [],
   "source": [
    "indices = list(range(il_config.dataset_size))\n",
    "split = int(np.floor(il_config.validation_split * il_config.dataset_size))\n",
    "np.random.shuffle(indices)\n",
    "train_indices, val_indices = indices[split:], indices[:split]\n",
    "\n",
    "train_sampler = SubsetRandomSampler(train_indices)\n",
    "valid_sampler = SubsetRandomSampler(val_indices)"
   ]
  },
  {
   "cell_type": "markdown",
   "id": "24bf1b43-019a-4ede-93c7-04d9edf23f04",
   "metadata": {},
   "source": [
    "### Initialize Data Loader"
   ]
  },
  {
   "cell_type": "code",
   "execution_count": 14,
   "id": "d0212dfa-91f6-4e26-8828-590b4533a890",
   "metadata": {},
   "outputs": [],
   "source": [
    "train_data_loader = DataLoader(\n",
    "  dataset,\n",
    "  batch_size=il_config.batch_size,\n",
    "  num_workers=il_config.num_workers,\n",
    "  pin_memory=True,\n",
    "  sampler=train_sampler,\n",
    "  collate_fn=dataloader.collate_fn)\n",
    "\n",
    "validation_data_loader = DataLoader(\n",
    "  dataset,\n",
    "  batch_size=il_config.batch_size,\n",
    "  num_workers=il_config.num_workers,\n",
    "  pin_memory=True,\n",
    "  sampler=valid_sampler,\n",
    "  collate_fn=dataloader.collate_fn)"
   ]
  },
  {
   "cell_type": "markdown",
   "id": "6ae45374-892c-459f-a27a-b461042c96d1",
   "metadata": {},
   "source": [
    "### Setup Training"
   ]
  },
  {
   "cell_type": "code",
   "execution_count": 15,
   "id": "c978005c-72d3-45a9-8272-d065debcf087",
   "metadata": {},
   "outputs": [],
   "source": [
    "model = ImitationLearningModel(il_config).to(il_config.device)\n",
    "train = imitation_learning_trainer.train\n",
    "validate = imitation_learning_trainer.validate\n",
    "validate_game = imitation_learning_trainer.validate_game\n",
    "# CE Loss\n",
    "criterion = torch.nn.CrossEntropyLoss()\n",
    "# Adam\n",
    "optimizer = torch.optim.Adam(model.parameters(), lr=il_config.learning_rate)\n",
    "# Log\n",
    "writer = SummaryWriter() if il_config.summary_writer else None"
   ]
  },
  {
   "cell_type": "markdown",
   "id": "89cf3f22-8555-4c01-b68b-105856066f0a",
   "metadata": {},
   "source": [
    "### GO"
   ]
  },
  {
   "cell_type": "code",
   "execution_count": 30,
   "id": "38447ddb-8669-4bf3-8b0a-b47f7ee62fe1",
   "metadata": {},
   "outputs": [
    {
     "name": "stderr",
     "output_type": "stream",
     "text": [
      "Epoch: 0, train loss: 0.886, train accuracy: 0.694: 100%|█| 2535/2535 [01:53<00:\n"
     ]
    },
    {
     "name": "stdout",
     "output_type": "stream",
     "text": [
      "Overall Epoch: 0, train loss: 1.269, train accuracy: 0.511\n"
     ]
    },
    {
     "name": "stderr",
     "output_type": "stream",
     "text": [
      "Epoch: 0, valid loss: 0.865, valid accuracy: 0.681: 100%|█| 634/634 [00:11<00:00\n",
      "100%|███████████████████████████████████████████| 15/15 [00:04<00:00,  3.56it/s]\n"
     ]
    },
    {
     "name": "stdout",
     "output_type": "stream",
     "text": [
      "Overall Epoch: 0, valid loss: 1.030, valid accuracy: 0.000, valid sum rewards\n"
     ]
    }
   ],
   "source": [
    "best_valid_loss, best_valid_acc, best_valid_reward= float('inf'), float('inf'), float('inf')\n",
    "valid_epoch, best_epoch = 0, None\n",
    "\n",
    "for epoch in range(il_config.epochs):\n",
    "    # train\n",
    "    loss, accuracy = train(epoch, train_data_loader, model, optimizer, criterion, il_config, summary_writer=writer)\n",
    "    print('Overall Epoch: %d, train loss: %.3f, train accuracy: %.3f' % (epoch, loss, accuracy))\n",
    "    # valid\n",
    "    loss, accuracy = validate(epoch, validation_data_loader, model, criterion, il_config, summary_writer=writer)\n",
    "    # valid game\n",
    "    sum_rewards = validate_game(model, il_config)\n",
    "    print('Overall Epoch: %d, valid loss: %.3f, valid accuracy: %.3f, valid sum rewards: %.3f' % (epoch, loss, accuracy, sum_rewards))\n",
    "    # early stopping\n",
    "    if loss <= best_valid_loss:\n",
    "        best_valid_loss, best_valid_acc, best_valid_reward = loss, accuracy, sum_rewards\n",
    "        valid_epoch, best_epoch = 0, epoch\n",
    "        torch.save(model.state_dict(), il_config.SAVE_PATH)\n",
    "        print('Best Epoch: %d, valid loss: %.3f, valid accuracy: %.3f, valid sum rewards: %.3f' \\\n",
    "              % (best_epoch, best_valid_loss, best_valid_acc, best_valid_reward))\n",
    "        print('Trained model saved at ', il_config.SAVE_PATH)\n",
    "    else:\n",
    "        valid_epoch += 1\n",
    "        if valid_epoch >= il_config.valid_patience:\n",
    "            break"
   ]
  },
  {
   "cell_type": "markdown",
   "id": "e87c29df-ae30-451d-8128-b294544e0a42",
   "metadata": {},
   "source": [
    "## IL with Instructions"
   ]
  },
  {
   "cell_type": "code",
   "execution_count": 35,
   "id": "8655fc7f-6fab-4347-b08a-01d45697f46f",
   "metadata": {},
   "outputs": [],
   "source": [
    "# TODO"
   ]
  },
  {
   "cell_type": "markdown",
   "id": "8188f877-95dd-4d23-8c5e-ceb0b7a169b3",
   "metadata": {},
   "source": [
    "---"
   ]
  },
  {
   "cell_type": "markdown",
   "id": "a9daf475-c027-4aa5-b63e-d09b31380bd4",
   "metadata": {},
   "source": [
    "# Reinforcement Learning (RL) - Fine-tuning"
   ]
  },
  {
   "cell_type": "code",
   "execution_count": 34,
   "id": "1d431c88-f392-42fb-8747-7f3583aca38f",
   "metadata": {},
   "outputs": [],
   "source": [
    "# TODO"
   ]
  },
  {
   "cell_type": "code",
   "execution_count": null,
   "id": "581cd633-e963-4555-8a1e-924c92b82bc0",
   "metadata": {},
   "outputs": [],
   "source": []
  }
 ],
 "metadata": {
  "kernelspec": {
   "display_name": "Python 3 (ipykernel)",
   "language": "python",
   "name": "python3"
  },
  "language_info": {
   "codemirror_mode": {
    "name": "ipython",
    "version": 3
   },
   "file_extension": ".py",
   "mimetype": "text/x-python",
   "name": "python",
   "nbconvert_exporter": "python",
   "pygments_lexer": "ipython3",
   "version": "3.8.5"
  }
 },
 "nbformat": 4,
 "nbformat_minor": 5
}
